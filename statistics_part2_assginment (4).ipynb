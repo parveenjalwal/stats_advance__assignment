{
  "nbformat": 4,
  "nbformat_minor": 0,
  "metadata": {
    "colab": {
      "provenance": []
    },
    "kernelspec": {
      "name": "python3",
      "display_name": "Python 3"
    },
    "language_info": {
      "name": "python"
    }
  },
  "cells": [
    {
      "cell_type": "markdown",
      "source": [
        "## theoritical qustion"
      ],
      "metadata": {
        "id": "bDVPcqMXTnKp"
      }
    },
    {
      "cell_type": "markdown",
      "source": [
        "1. What is hypothesis testing in statistics ?\n",
        "   - hypotheses testing is called as asumption too . lets make it simpler , whenver we have enormous population and dont have time as well as resocures too collect the data manully in such circumstances we tend to make asumption out of that popultion . this asumption is also called as hypothesis testing . for instance - making asumption of avg salary of emplyes in a big MNC orgnisation .\n",
        "   - afterwords making the asumption we take sample out of the population and from that sample applying some statistical calculaton the value which we will get later we will be matching it with the population asumption , if our sample outcome matches with asumtion then we fail to reject the null hyposthesis ohterwise if it doesn,t matches we tend to reject the null hypothesis .\n",
        "\n",
        "\n",
        "\n",
        "2.  What is the null hypothesis, and how does it differ from the alternative hypothesis ?\n",
        "   - null hypothesis - it works on enitial stage situations or deffult . for instance - if sombody commited a crime morover he/she will be taken to the court in court guy will be considred untill the verdict comes . mean here perosn is not guilty regardless what he did\n",
        "   - alternative hypothesis - it is totlly opposite of null hypothesis mean in above case person will be considred guilty .\n",
        "\n",
        "\n",
        "\n",
        "3. What is the significance level in hypothesis testing, and why is it important ?\n",
        "   - significance is commnely known as marginal error or alpha also . if we talk about its importance then it is the place where we have error or doubt rearding the hypothesis testing , for instance A phone has just been lunched by brand and out of 100 phones . 5  phones are coming with manifectring default it means here we are 95 confident about phone long term sustaniblity and 5 parcent marginal error or level of significance which says there are 5% chances that phone can be defective . this is the basic understanding of level of signifinace. it is used in all type of testing while finding hypothesis .\n",
        "\n",
        "\n",
        "4. What does a P-value represent in hypothesis testing ?\n",
        "   - p -value = p value is probability value which helps us to figure wheather to reject the null hypothesis or fail to reject . when p-value is found lessor then < 0.5 we reject the null hypothesis else we fail to reject .\n",
        "   - 2.  this probabilty value is calculated from statistical test .\n",
        "   - In each test such as z test / t test everywhere this p value is drawn out of their respective tables . for instance in z case we find this p value from z table afterwards used to make conlustion regarding hyposthesis .  \n",
        "\n",
        "\n",
        "  \n",
        "5.  How do you interpret the P-value in hypothesis testing ?\n",
        "    - p-value - it repersents the probabilty value of any data . to be clear it is an way to make conlusion regarding the hyposthesis mean weather to reject the null hypothesis or fail to reject .\n",
        "    - if the p-value is lessor then < 0.05 we rejct the null hyposthesis or we fail to reject the null hypothesis , this is how it impacts the hypothesis .\n",
        "    - mean p-value is anohter way to make conlusion asif critical ( z/t critical ) ..\n",
        "\n",
        "    \n",
        "\n",
        "6.  What are Type 1 and Type 2 errors in hypothesis testing ?\n",
        "   - type1 error = when we reject the null hypothesis  but acullty it is true , this is called type 1 error . elobration - when we are supposting the null hyopothesis and alternative hypothesis is true in this case it creates type 1 ERROR .\n",
        "   - type 2 error = when we fail to reject the null hypothesis but actully it is false so it known as type2 error . explainnation - when we are suporting the alternative hypothesis but null hyosthesis is true then it genrator error which typclly known as type 2 ERROR .\n",
        "   - EX1. if any person has been aliged of nay crime and later taken to court , but he /she has not commited any crime . IN court if that peron found offender despite not being convicted . so it is type1 error\n",
        "   -EX2 if anyone has really commited crime but in court might not found guilty then it will be known as type 2 error .\n",
        "\n",
        "\n",
        "7.  What is the difference between a one-tailed and a two-tailed test in hypothesis testing ?\n",
        "   - one tail test - basiclly one tail test which has one rejetion region and here level of significance is 5% on in other words 0.05 . when hypothesis are either grator or lower then one tail test is made . it is found in rejection region therefor helps us to make conclusion in hyposthesis testing .\n",
        "   - two tail test - two tail test mean when we have two rejection region . but here level of significance unlike one tail test get changed into two parts 2.5 parcent both side  mean 0.025 each side . we should have mean is not eqaul to x bar (sample mean ) . m != x . one side is called negetive another positive .\n",
        "   - note = to get two tail test as i mentioned in above that we should have mue is not equal to of sample mean and in all rest cases we will get only one tial test .\n",
        "\n",
        "\n",
        "\n",
        "8.  What is the Z-test, and when is it used in hypothesis testing ?\n",
        "   - z test = z test uselly comes from z distribution . here in order to exicute z test anywhere there are some condition which we have to follow  otherwise z test will not make any sense . first standred daivation of poplation has to be given and sample size has to be grator then 30 . here one key note is above 30 be it any value for instance - 35 ,100, 340 each will make normal disribution . these are the two things which we have to keep in mind otherwise z test will  not be relevent .  using z test we can figure out the hyposthises of any data , weather the asumtions are true or not .\n",
        "\n",
        "\n",
        "\n",
        "9.  How do you calculate the Z-score, and what does it represent in hypothesis testing ?\n",
        "   - zscore = z score is calulated (x bar - mue ) / (std / underoot N ) . explantion = x bar subract mean and devide by standred deviation devide by underoot n . wherase n is sample size .\n",
        "   - z score imporatnce in hypothesis - z score is used to compare with z critical values during hypothesis testing  whose outome lead towards hypothesis conclusion weather to reject the hyposthesis or fail to reject .\n",
        "  - becasue in z critcal we uselly have value from z table which can not be compared to p-value directly therefor we have to have z score to compare these both .  \n",
        "\n",
        "\n",
        "\n",
        "10. What is the T-distribution, and when should it be used instead of the normal distribution ?\n",
        "  - t - distribution =  t - ditribution is used when we dont have sample size grator than 30 as well as standred divation of population is not given here instead this std of sample population is given where these snarios match we tend to t -test .\n",
        "  - but in mostly real world snarios nither std of population is given nor sample size is found > 30 therefor we have to use t -distirbution  instead of z distribution .\n",
        "  - T - disriobution depends on the degree of freedom which is calculated by sample size subtract one . here till sample size is grator 30  then curve lines are thiner but as it start decrasing the line also start to get thicker . the line which has lowest sample size is the very thickest line in all over the plot . when we move upward again the thickness again start to get decrease .\n",
        "\n",
        "\n",
        "\n",
        "11. What is the difference between a Z-test and a T-test ?\n",
        "   - these test have very few diffrances from each other.\n",
        "   - z-test = it is basiclly used when we have sample size > grator then 30 and std of population is given then we likly to use z test to figure hypothesis regarding that data  . In z test we calulate z statistics which is comapred with z critcal value . In oder to make z critical z table is used . but z test doesn,t have degree of freedom . such thing makes it diffrent from t test .\n",
        "\n",
        "   - t-test = it is used when sample size is lessor then 30 and std of poplation is not given here instead of this std of sample population is given always . here we calulate t statistis - [x bar - mue] / [s / underoot n ] . in addtion  std of sample is denoted by S instead of sigma .  t table comes in handy to calculate t critical value afterwards we difine hypothesis .\n",
        "\n",
        "   - so these were the some key diffrances among  z test and t test .\n",
        "\n",
        "\n",
        "\n",
        "12. What is the T-test, and how is it used in hypothesis testing ?\n",
        "   - t -test = this come from  t-distirbution . here are some steps written in order to use t test in hypothesis testing\n",
        "   - first we have to make sure not only sample size is lessor then 30 but also std of sample popualtion is given afterwards we can move forward with t -test .\n",
        "   - here degree of freedom is also very essential ( dof : sample size - 1 )\n",
        "   - here t statistics is used . formula - [x bar - mue] / [std / underoot n ]\n",
        "   - t test comes with t table from which we figure t critcal values which later helps us to perform hyposthesis testing .\n",
        "   - but here while calculating t critcal we have to have degree of freedom which is not nessery in  f test .\n",
        "   - after getting t stats and t critcal we normlly comapre them and either reject or fail to reject the null hypothesis according to numraicals . this is how  t -test is used in hypothesis testing .\n",
        "\n",
        "\n",
        "  \n",
        "13.  What is the relationship between Z-test and T-test in hypothesis testing ?\n",
        "    -  t -test and z test both determine if their is significant diffrance among sample and population perameter and among two sample mean .\n",
        "\n",
        "  - similerty - As the sample size increases the t - distribution approaches the normal distribution making this t-dist similer to z -distriution\n",
        "  - distribution - this t test uses t -distribution and z -test uses z -distribution\n",
        "  - sample size - In t-test we have sample size lessor < 30 but on the other hand z -test sample size is > grater then 30 .\n",
        "  - these are some commen similerty among t_dist and z-dist.\n",
        "\n",
        "\n",
        "\n",
        "14. What is a confidence interval, and how is it used to interpret statistical results ?\n",
        "   - confidence interval is - point estimater -+ marginal error .\n",
        "   - in order to understend confidence interval we have to take an instance which will make this concept more clear - suppose you gave a test and just came outside of exam hole suddenly you met your friend you were asked how much would you score in exam , you said i would score 80 . but in this case you will have very less probability of getting the exact score which you had claimed either you might get more then 80 or less then 80 ulitmalty we can say student has very less confident about his score . but instead of claiming a perticuller value if he says i will get 70 to 90 then getting score out of this range has high probebility and you are more confident here . so this range where you are more confident is called confidence interval .\n",
        "   - here confidence interval is = point  estimator 80 (+-) 10 marginal error .\n",
        "   - to be clear we have more confidence of getting score out of this range rather then that point estimator .\n",
        "   - beasuse of its high confidence this confidence interval is used more in statistics .\n",
        "\n",
        "\n",
        "\n",
        "15.  What is the margin of error, and how does it affect the confidence interval ?\n",
        "    - margin error = yes margin error does affact the confidence interval , formula - confidence interval= [ point estimate -+ marginal error ] . in this case suppose we have 60  point estimate and 10 marignal error then our interval will spread 10 points negtive and 10 points psoitive eventully we will have a confidence interval fo 50 to 70 . so here because of 10 marignal error our entire confidence interval has been effected .so this job was done by marignal error  this is how marginal error affect confidence  interval .  \n",
        "    - explanation - A large marginol error makes the wider confidence interval which lead to uncertinity in estimate\n",
        "    - a small margional error makes the narrow confidence interval meaning more precision but reqring a large sample size .\n",
        "\n",
        "\n",
        "\n",
        "\n",
        "16.  How is Bayes' Theorem used in statistics, and what is its significance ?\n",
        "    - bayes theorem - p(b/a) = [p(b) + P (a/b) ] / p(b)\n",
        "    - p(a/b) = [p(a) + P (b/a) ] / p(a)  \n",
        "    - in above lines i have written byes theorem where - p(a/b) probability of a has been given and b has already occured .\n",
        "    - p(b/a) - here prbability of b has been given and a has alredy occured .\n",
        "    - p(a) , P(b) = wherese these a and b are independ probability\n",
        "    - Above i have written how byes thorem is written\n",
        "    - byes theorem - it describes how to update the probabilty of an event based on the new evidence .  \n",
        "    - significance - update belief = it allows to revision of the older probabilty with new evidence    || 2. it is used to make machine learning modles .\n",
        "\n",
        "\n",
        "\n",
        "\n",
        "17.  What is the Chi-square distribution, and when is it used ?\n",
        "    - Chi-square distribution = it is a probability distribution which describes the sum of squre of k random varibles . wherase k reprsent the degree of freedom . here in Chi-square distribution we have two degree of freedom where one is for numinator and another one for dinominator , becasue while finding Chi-square critical from Chi-square table these both are nessery .\n",
        "    - when we do sum of squre that time we are closly following the Chi-square distribution .\n",
        "    - sum key observation - since we do squre here therofor it doesn,t have negetive values mean  only positive value\n",
        "    - here data is right skewed mean mostly data lies in the right side which result as a one tial test\n",
        "    - fact = Chi-square distribution is non permetric . in order to unnderstend this we have to first figur what permatric mean . it means which makes any sort of asumption regarding population is called peramtric . but in some articles it is stated that Chi-square distribution is prmtric , but in true sense it doesn,t make any asumtion about population therfor its clearly non pramtric\n",
        "    - usecase = it is used to anylise the catogrical data .\n",
        "\n",
        "\n",
        "\n",
        "18. What is the Chi-square goodness of fit test, and how is it applied ?\n",
        "  - Chi-square goodness of fit test - it is an test of chi squre dstirbution of which is commenly known  goodness of fit test . It is also used to anylise the catogrical data . but here two more things comes into the picture which is expected and observed value . observed values is the real data which is given after collections or surveys , usully known as catogrical data but on the other hand expected values which we figure out by doing calulation\n",
        "  - formula of this is - [(observed - expected) * 2 ]/ expected . using this fomrula we find chi squre stats which is used  to compare with chi squre critical morover we find weather to reject the null hypothesis or fail to reject . but here in order to test hypothesis we have to have expected and observed values ready .\n",
        "\n",
        "\n",
        "\n",
        "19.  What is the F-distribution, and when is it used in hypothesis testing ?\n",
        "   - f disribution = It is an sort of probabiltiy distribution which is used to compare the variance of two or more then two sample or we say groups .\n",
        "   here varince which gives how the spread of data is , weather data is closly spread from mean or has high spread .\n",
        "   - since f -test is part of f distirbution therefor it is right skewed mean moslty data lies in right side of the diribution .\n",
        "   - secondly since we do squre of values here therefor each value always will be psitive mean no negative data .\n",
        "   - here we have two degree of freedom why because since we are comparing two variable therfor two DOF\n",
        "   - Same as rest t/z stats we have f stats here which is S**2 **1 / s **2 **2 .\n",
        "\n",
        "\n",
        "\n",
        "\n",
        "20.  What is an ANOVA test, and what are its assumptions ?\n",
        "   - anova test = it is also an probability disribution which defines the mean of two or more then two groups . It is useuslly used with more then two varibles  why because till two varibles when sample size is lessor then we have t-test which can be used .\n",
        "   - anova test we have 1- fectors / catogry 2. levels\n",
        "   - for instance you have medicine with diffrent - diffrent doeses and you want to test it these diffrent doses over diffrent people poeple . so we have three does of 10mg , 25 mg and 100 mg and we tested these diffrent doses on diffrent people . so this situation medince is called as factor and its diffrent does which has been exicuted over diffrent people are called levels .\n",
        "   - Asumption of anova = 1. IN anove from which factors these levels are being drawn should have normal distribution .\n",
        "   - 2. Any sort of event should not be dependent on each other , all events should be independent .\n",
        "   - 3. absence of outlier .\n",
        "\n",
        "\n",
        "\n",
        "21. What are the different types of ANOVA tests ?\n",
        "   - Anova has three diffrent types:-\n",
        "   - 1. one way anove = it has one fector and at least two varibles those are independent mean does not get affected of each other ex.. = imagine  we want to make any online payment to any of our friend , who accepts payment online only then in this case we might have lot of option to make payment such as - imps , nfc , phone pay , gpay so one . so here this online payment is fector which is one and these diffrent apps and methods are levels . which is totally diffrent from each other . if you make pyament using gpay it will not reflect in you phone pay history .  \n",
        "   - 2. repeated measure anove - here we have one fector and atleast two variables but this time varibles are depend on each other mean opposite of one way anove . for example if a very encourged or inspried man begain hiting gym , very first day he worksout for 5 hour , next day time get decrease to 3 hour and keep falling each day but when it reaches to one hour he relises his mistakes and start doing gym more time . here we can say time duration of each day is depend on each other .\n",
        "  - 3. fectorial anova  = when we have two or more then two fectors and each factors has atleast two varibles who either can be independent or dependent .\n",
        "  ex - in medince instance when we are testing the diffrent doeses of medicine over some diffrent group of people so here we can here another fector as a gender whcih will have two levels male/ female . who also will be affected by doeses\n",
        "\n",
        "\n",
        "\n",
        "\n",
        "22. What is the F-test, and how does it relate to hypothesis testing ?\n",
        "   - The F-test is a statistical test used to compare the variances of two or more groups to determine if they are significantly different. It is commonly used in hypothesis testing when comparing models or assessing the equality of variances. The F-test is based on the F-distribution, which is the ratio of two chi-square distributed variables divided by their respective degrees of freedom.  \n",
        "\n",
        "  \n",
        "\n",
        "\n",
        "\n"
      ],
      "metadata": {
        "id": "brdBOOarTtGK"
      }
    },
    {
      "cell_type": "markdown",
      "source": [
        "## pratical qustions"
      ],
      "metadata": {
        "id": "cQHXfwEQ8r2s"
      }
    },
    {
      "cell_type": "code",
      "source": [
        "import pandas as pd\n",
        "import numpy as np\n",
        "import seaborn as sns\n",
        "import statistics\n",
        "import scipy.stats as stats\n",
        "import scipy.stats as ttest\n",
        "import matplotlib.pyplot as plt\n",
        "import warnings\n",
        "warnings.filterwarnings('ignore')"
      ],
      "metadata": {
        "id": "HyMjb80ZCz5W"
      },
      "execution_count": 1,
      "outputs": []
    },
    {
      "cell_type": "code",
      "execution_count": null,
      "metadata": {
        "id": "OiwrM9hpTeZK"
      },
      "outputs": [],
      "source": [
        "#1 . Write a Python program to perform a Z-test for comparing a sample mean to a known population mean and interpret the results ?\n",
        "#qus statement -A company claims that the average life of its batteries is 1000 hours. You collected a random sample of 30 batteries and .\n",
        "# found that their mean life is 950 hours with a standard deviation of 120 hours. You want to test whether the actual battery life is significantly different from 1000 hours at a 5% significance level (α = 0.05)\n"
      ]
    },
    {
      "cell_type": "code",
      "source": [
        "population_mean = 1000\n",
        "population_std = 120\n",
        "sample_size = 30\n",
        "sample_mean = 950\n",
        "alpha= 0.05"
      ],
      "metadata": {
        "id": "phhPQgurCmqU"
      },
      "execution_count": null,
      "outputs": []
    },
    {
      "cell_type": "code",
      "source": [
        "# step 1 : null hyopothese :  m battry  1000 == m battry 1000\n",
        "# alternative hypothesis :  m battry  1000 != m battry 1000"
      ],
      "metadata": {
        "id": "p_fffNePDMs4"
      },
      "execution_count": null,
      "outputs": []
    },
    {
      "cell_type": "code",
      "source": [
        "# z score\n",
        "zscore = (sample_mean - population_mean) / (population_std / np.sqrt(sample_size))\n",
        "print(\"the zscore is : \",zscore)"
      ],
      "metadata": {
        "colab": {
          "base_uri": "https://localhost:8080/"
        },
        "id": "En79tKzoE915",
        "outputId": "20b708c0-d7da-4623-98be-6dee643fc980"
      },
      "execution_count": null,
      "outputs": [
        {
          "output_type": "stream",
          "name": "stdout",
          "text": [
            "the zscore is :  -2.282177322938192\n"
          ]
        }
      ]
    },
    {
      "cell_type": "code",
      "source": [
        "# now z crtical\n",
        "zcritical = stats.norm.ppf(1-alpha)\n",
        "print(\"the z critical is :\",zcritical)"
      ],
      "metadata": {
        "colab": {
          "base_uri": "https://localhost:8080/"
        },
        "id": "p8o-FjUAFk1y",
        "outputId": "cf9ab435-4442-4f66-af12-f118acfdd8ef"
      },
      "execution_count": null,
      "outputs": [
        {
          "output_type": "stream",
          "name": "stdout",
          "text": [
            "the z critical is : 1.6448536269514722\n"
          ]
        }
      ]
    },
    {
      "cell_type": "code",
      "source": [
        "if zscore > zcritical:\n",
        "  print(\"we rejct the null hypothesis\")\n",
        "else:\n",
        "  print('we fail to reject the null hypothesis')"
      ],
      "metadata": {
        "colab": {
          "base_uri": "https://localhost:8080/"
        },
        "id": "UXgfTsQFHRV0",
        "outputId": "5a9f2554-6dbd-41a5-bf6a-6dab6c99987b"
      },
      "execution_count": null,
      "outputs": [
        {
          "output_type": "stream",
          "name": "stdout",
          "text": [
            "we fail to reject the null hypothesis\n"
          ]
        }
      ]
    },
    {
      "cell_type": "code",
      "source": [
        "# now using p- value\n",
        "p_value = 1-stats.norm.cdf(zscore)\n",
        "p_value"
      ],
      "metadata": {
        "colab": {
          "base_uri": "https://localhost:8080/"
        },
        "id": "5Hp2IhK2Hufw",
        "outputId": "272a2d96-8eb0-4b0a-ba13-5042d895b5f2"
      },
      "execution_count": null,
      "outputs": [
        {
          "output_type": "execute_result",
          "data": {
            "text/plain": [
              "np.float64(0.9887605633169374)"
            ]
          },
          "metadata": {},
          "execution_count": 10
        }
      ]
    },
    {
      "cell_type": "code",
      "source": [
        "if p_value < 0.05:\n",
        "  print('reject the null hyposthesis')\n",
        "else:\n",
        "  print(\"fail to reject the null hypotesis\")"
      ],
      "metadata": {
        "colab": {
          "base_uri": "https://localhost:8080/"
        },
        "id": "ZkdaL0BFIHKd",
        "outputId": "74a7329b-55ff-4328-c9a8-d96414db57dd"
      },
      "execution_count": null,
      "outputs": [
        {
          "output_type": "stream",
          "name": "stdout",
          "text": [
            "fail to reject the null hypotesis\n"
          ]
        }
      ]
    },
    {
      "cell_type": "code",
      "source": [
        "# ultimalty i can say i this qustion whatever claim made by comany is ture beause we could not reject the claim"
      ],
      "metadata": {
        "id": "wtY4RTcjIq6L"
      },
      "execution_count": null,
      "outputs": []
    },
    {
      "cell_type": "code",
      "source": [],
      "metadata": {
        "id": "tPKWzbeII2Xp"
      },
      "execution_count": null,
      "outputs": []
    },
    {
      "cell_type": "code",
      "source": [
        "#2 Simulate random data to perform hypothesis testing and calculate the corresponding P-value using Python ?\n",
        "population_mean2 = 300\n",
        "population_std2 =17\n",
        "sample_size2 = 60\n",
        "sample = np.random.normal(loc =population_mean2,scale = population_std,size =sample_size )\n",
        "sample"
      ],
      "metadata": {
        "colab": {
          "base_uri": "https://localhost:8080/"
        },
        "id": "gbcZqzAANYsR",
        "outputId": "7e46c972-f568-4565-d074-21059d868266"
      },
      "execution_count": null,
      "outputs": [
        {
          "output_type": "execute_result",
          "data": {
            "text/plain": [
              "array([210.91278507, 253.0653111 , 188.72137236, 185.57675657,\n",
              "       269.12479091, 490.89840925, 332.55662932, 188.03125194,\n",
              "       414.36608836, 267.37855831, 257.98365233, 238.59159169,\n",
              "       220.05304128, -52.99521667, 318.29938479, 282.88404433,\n",
              "       483.58792667, 327.72319793, 482.11868181, 349.05625497,\n",
              "       225.35181506, 240.02175456, 385.22118797, 205.44111779,\n",
              "       356.06758402, 478.22758295, 275.30827432, 189.93356263,\n",
              "       253.29138494, 323.73236939])"
            ]
          },
          "metadata": {},
          "execution_count": 12
        }
      ]
    },
    {
      "cell_type": "code",
      "source": [
        "len(sample)"
      ],
      "metadata": {
        "colab": {
          "base_uri": "https://localhost:8080/"
        },
        "id": "RRbc17jPOOoi",
        "outputId": "b8e3c4d0-bd4c-46a9-b7ae-cddaf99a16d6"
      },
      "execution_count": null,
      "outputs": [
        {
          "output_type": "execute_result",
          "data": {
            "text/plain": [
              "60"
            ]
          },
          "metadata": {},
          "execution_count": 32
        }
      ]
    },
    {
      "cell_type": "code",
      "source": [
        "sample_mean2 = np.mean(sample)\n",
        "sample_std2= np.std(sample,ddof=1)"
      ],
      "metadata": {
        "id": "qVjW5_JaPdmt"
      },
      "execution_count": null,
      "outputs": []
    },
    {
      "cell_type": "code",
      "source": [
        "z_score2 = (sample_mean2-population_mean2) / (population_std2 / np.sqrt(sample_size2))\n",
        "z_score2"
      ],
      "metadata": {
        "colab": {
          "base_uri": "https://localhost:8080/"
        },
        "id": "9bDZFJEVP9sY",
        "outputId": "94e02ad8-9c03-4e1d-fa07-4e9eb1014fd0"
      },
      "execution_count": null,
      "outputs": [
        {
          "output_type": "execute_result",
          "data": {
            "text/plain": [
              "np.float64(-5.459674059997487)"
            ]
          },
          "metadata": {},
          "execution_count": 14
        }
      ]
    },
    {
      "cell_type": "code",
      "source": [
        "p_value2 = 2 * (1- stats.norm.cdf(abs(z_score2)))\n",
        "p_value2"
      ],
      "metadata": {
        "colab": {
          "base_uri": "https://localhost:8080/"
        },
        "id": "_Tm446CMTb5Q",
        "outputId": "270cce40-b504-47c5-e5a1-060a4904e09b"
      },
      "execution_count": null,
      "outputs": [
        {
          "output_type": "execute_result",
          "data": {
            "text/plain": [
              "np.float64(4.770094808037584e-08)"
            ]
          },
          "metadata": {},
          "execution_count": 15
        }
      ]
    },
    {
      "cell_type": "code",
      "source": [
        "alpha2 =0.05"
      ],
      "metadata": {
        "id": "twywEpEAUI9Q"
      },
      "execution_count": null,
      "outputs": []
    },
    {
      "cell_type": "code",
      "source": [
        "if p_value2 < alpha:\n",
        "  print('reject the null hyposthesis')\n",
        "else:\n",
        "  print(\"fail to reject the null hypotesis\")"
      ],
      "metadata": {
        "colab": {
          "base_uri": "https://localhost:8080/"
        },
        "id": "ki-y9HLoUEKA",
        "outputId": "7d12d71e-d931-42ba-c9d8-65527ef65d64"
      },
      "execution_count": null,
      "outputs": [
        {
          "output_type": "stream",
          "name": "stdout",
          "text": [
            "reject the null hyposthesis\n"
          ]
        }
      ]
    },
    {
      "cell_type": "code",
      "source": [],
      "metadata": {
        "id": "d1x5AXpuUP78"
      },
      "execution_count": null,
      "outputs": []
    },
    {
      "cell_type": "code",
      "source": [
        "#3. Implement a one-sample Z-test using Python to compare the sample mean with the population mean ?\n",
        "# A soft drink company claims that the average sugar content in its 500 ml bottle is 30 grams.\n",
        "# You suspect that the actual sugar content is different, so you take a random sample of 40 bottles and measure the sugar content.\n"
      ],
      "metadata": {
        "id": "Zeugy2hgUR9x"
      },
      "execution_count": null,
      "outputs": []
    },
    {
      "cell_type": "code",
      "source": [
        "population_mean3 = 30\n",
        "Population_Std3 = 4\n",
        "Sample_size3 = 40\n",
        "Sample_mean3= 28.5\n",
        "aplha = 0.05"
      ],
      "metadata": {
        "id": "UHrhdzDTlEGZ"
      },
      "execution_count": null,
      "outputs": []
    },
    {
      "cell_type": "code",
      "source": [
        "# step1 - null hypothesis : m gram30 == m gram 30\n",
        "# alternative hyposthesis : m gram 30 != m gram 30\n"
      ],
      "metadata": {
        "id": "VrQ6Ud3vlpsE"
      },
      "execution_count": null,
      "outputs": []
    },
    {
      "cell_type": "code",
      "source": [
        "# now z score\n",
        "zscore3 = (Sample_mean3 - population_mean3) / (Population_Std3 / np.sqrt(Sample_size3))\n",
        "print(\"this is the :\",zscore3)"
      ],
      "metadata": {
        "colab": {
          "base_uri": "https://localhost:8080/"
        },
        "id": "ryfDYM1HmStO",
        "outputId": "4bbe848a-c7a5-4c2a-9e2d-d288d03df99f"
      },
      "execution_count": null,
      "outputs": [
        {
          "output_type": "stream",
          "name": "stdout",
          "text": [
            "this is the : -2.3717082451262845\n"
          ]
        }
      ]
    },
    {
      "cell_type": "code",
      "source": [
        "z_critical3 = stats.norm.ppf(1-alpha / 2) # becasuse two tail test\n",
        "z_critical3"
      ],
      "metadata": {
        "colab": {
          "base_uri": "https://localhost:8080/"
        },
        "id": "8d0T9ROAnNSO",
        "outputId": "02634eb1-b253-49f6-9344-7ff2d9b872e4"
      },
      "execution_count": null,
      "outputs": [
        {
          "output_type": "execute_result",
          "data": {
            "text/plain": [
              "np.float64(1.959963984540054)"
            ]
          },
          "metadata": {},
          "execution_count": 19
        }
      ]
    },
    {
      "cell_type": "code",
      "source": [
        "if zscore3 > z_critical3:\n",
        "  print(\"we rejct the null hypothesis\")\n",
        "else:\n",
        "  print('we fail to reject the null hypothesis')"
      ],
      "metadata": {
        "colab": {
          "base_uri": "https://localhost:8080/"
        },
        "id": "9wE0YkAgn8vg",
        "outputId": "a0721379-da2c-4366-890a-e924e343b1e7"
      },
      "execution_count": null,
      "outputs": [
        {
          "output_type": "stream",
          "name": "stdout",
          "text": [
            "we fail to reject the null hypothesis\n"
          ]
        }
      ]
    },
    {
      "cell_type": "code",
      "source": [],
      "metadata": {
        "id": "g77X49_rom1B"
      },
      "execution_count": null,
      "outputs": []
    },
    {
      "cell_type": "code",
      "source": [
        "#4. Perform a two-tailed Z-test using Python and visualize the decision region on a plot ?\n",
        "# A university claims that the average IQ score of its students is 110.\n",
        "# A researcher believes that the average IQ may be different, so they collect a random sample of 50 students and measure their IQ scores.\n"
      ],
      "metadata": {
        "id": "wg8IoFgOpcEU"
      },
      "execution_count": null,
      "outputs": []
    },
    {
      "cell_type": "code",
      "source": [
        "population_mean4 = 110\n",
        "Population_Std4 = 15\n",
        "Sample_size4 = 50\n",
        "Sample_mean4 = 105\n",
        "aplha = 0.05"
      ],
      "metadata": {
        "id": "FuwcdUWZsc1E"
      },
      "execution_count": null,
      "outputs": []
    },
    {
      "cell_type": "code",
      "source": [
        "# now perfoming z test on it\n",
        "# step1 = null hypothesis m iq 110 == m iq 110\n",
        "# alternative hypothesis m iq 110 != m iq 110"
      ],
      "metadata": {
        "id": "4Qz3aOFgrP0s"
      },
      "execution_count": null,
      "outputs": []
    },
    {
      "cell_type": "code",
      "source": [
        "# now z score\n",
        "zscore4 = (Sample_mean4 - population_mean4) / (Population_Std4 / np.sqrt(sample_size))\n",
        "print('zscore :',zscore4)"
      ],
      "metadata": {
        "colab": {
          "base_uri": "https://localhost:8080/"
        },
        "id": "tIafOsjesRFq",
        "outputId": "73b73e5b-9d82-4019-f043-5dac914954ef"
      },
      "execution_count": null,
      "outputs": [
        {
          "output_type": "stream",
          "name": "stdout",
          "text": [
            "zscore : -1.8257418583505538\n"
          ]
        }
      ]
    },
    {
      "cell_type": "code",
      "source": [
        "# now z critical\n",
        "z_critical4 = stats.norm.ppf(1-alpha / 2) # becasuse two tail test\n",
        "z_critical4"
      ],
      "metadata": {
        "colab": {
          "base_uri": "https://localhost:8080/"
        },
        "id": "acWIVNI_tOLG",
        "outputId": "031d0d49-3141-452b-dd7f-879215c65ce9"
      },
      "execution_count": null,
      "outputs": [
        {
          "output_type": "execute_result",
          "data": {
            "text/plain": [
              "np.float64(1.959963984540054)"
            ]
          },
          "metadata": {},
          "execution_count": 27
        }
      ]
    },
    {
      "cell_type": "code",
      "source": [
        "if zscore3 > z_critical3:\n",
        "  print(\"we rejct the null hypothesis\")\n",
        "else:\n",
        "  print('we fail to reject the null hypothesis')"
      ],
      "metadata": {
        "colab": {
          "base_uri": "https://localhost:8080/"
        },
        "id": "9VPMeM3htovU",
        "outputId": "62e5368a-781a-4cef-a8d9-f65146591cf3"
      },
      "execution_count": null,
      "outputs": [
        {
          "output_type": "stream",
          "name": "stdout",
          "text": [
            "we fail to reject the null hypothesis\n"
          ]
        }
      ]
    },
    {
      "cell_type": "code",
      "source": [
        "# now visvlizing the decision region on plot\n",
        "x4 = np.linspace(-5,5,800)\n",
        "y4 = stats.norm.pdf(x4,0,1)\n"
      ],
      "metadata": {
        "id": "ecNQDfi5t31u"
      },
      "execution_count": null,
      "outputs": []
    },
    {
      "cell_type": "code",
      "source": [
        "# now ploting a normal distirbution curve\n",
        "plt.figure(figsize=(8,4))\n",
        "plt.plot(x4,y4,label='standred normal disribution',color='blue')\n",
        "\n",
        "# now sahding the rejction region\n",
        "x_left = np.linspace(-5,-z_critical4,200)\n",
        "y_left = stats.norm.pdf(x_left,0,1)\n",
        "plt.fill_between(x_left,y_left,color='green',alpha=0.7,label='rejection region')\n",
        "\n",
        "x_right = np.linspace(5,z_critical4,200)\n",
        "y_right = stats.norm.pdf(x_right,0,1)\n",
        "plt.fill_between (x_right,y_right,color='yellow',alpha=0.7,label='rejection region')\n",
        "\n",
        "# z critical lines\n",
        "plt.axvline(-z_critical4, color='black',linestyle ='dashed')\n",
        "plt.axvline(z_critical4, color='black',linestyle ='dashed')\n",
        "\n",
        "# Labels and title\n",
        "plt.title(\"Decision Region of a Two-Tailed Z-Test\")\n",
        "plt.xlabel(\"Z-score\")\n",
        "plt.ylabel(\"Probability Density\")\n",
        "plt.legend()\n",
        "plt.show()"
      ],
      "metadata": {
        "colab": {
          "base_uri": "https://localhost:8080/",
          "height": 410
        },
        "id": "zFVDkxwuwMps",
        "outputId": "7f8337e3-44a3-4752-ff49-f79d27c5cd24"
      },
      "execution_count": null,
      "outputs": [
        {
          "output_type": "display_data",
          "data": {
            "text/plain": [
              "<Figure size 800x400 with 1 Axes>"
            ],
            "image/png": "[encoded data removed]"
          },
          "metadata": {}
        }
      ]
    },
    {
      "cell_type": "code",
      "source": [],
      "metadata": {
        "id": "bDHDw9q20Yc9"
      },
      "execution_count": null,
      "outputs": []
    },
    {
      "cell_type": "code",
      "source": [
        "#5 . Create a Python function that calculates and visualizes Type 1 and Type 2 errors during hypothesis testing ?\n"
      ],
      "metadata": {
        "id": "-8lIETNrxdPV"
      },
      "execution_count": null,
      "outputs": []
    },
    {
      "cell_type": "code",
      "source": [
        "# 6 Write a Python program to perform an independent T-test and interpret the results ?\n",
        "# here i am going to perfrom an t t-test which includes two independent groups\n",
        "\n",
        "#QUSTION = A researcher wants to determine whether students from two different schools have a significant difference in their math test scores.\n",
        "# The researcher collects a random sample of students from School A and School B and records their scores.\n",
        "# Group 1 (School A) Scores: [78, 85, 88, 92, 76, 81, 85, 89, 94, 79]\n",
        "# Group 2 (School B) Scores: [72, 80, 75, 78, 74, 77, 79, 81, 83, 76]\n",
        "\n",
        "school_a = [78, 85, 88, 92, 76, 81, 85, 89, 94, 79]\n",
        "school_b = [72, 80, 75, 78, 74, 77, 79, 81, 83, 76]"
      ],
      "metadata": {
        "id": "WW8SakEo2zae"
      },
      "execution_count": null,
      "outputs": []
    },
    {
      "cell_type": "code",
      "source": [
        "# step 1  - null hypothesis : m group a == m group b\n",
        "# alternative hypothesis : m group a != group b"
      ],
      "metadata": {
        "id": "fmRc_Szd5sSC"
      },
      "execution_count": null,
      "outputs": []
    },
    {
      "cell_type": "code",
      "source": [
        "variance_A = np.var(school_a, ddof=1)  # ddof=1 for sample variance\n",
        "variance_B = np.var(school_b, ddof=1)\n",
        "t_statistic, p_value = stats.ttest_ind(school_a, school_b, equal_var=False)"
      ],
      "metadata": {
        "id": "y3SAgKsa6UU_"
      },
      "execution_count": null,
      "outputs": []
    },
    {
      "cell_type": "code",
      "source": [
        "if p_value < alpha:\n",
        "    print(\"Reject the null hypothesis: There is a significant difference between the two schools.\")\n",
        "else:\n",
        "    print(\"Fail to reject the null hypothesis: No significant difference between the two schools.\")\n"
      ],
      "metadata": {
        "colab": {
          "base_uri": "https://localhost:8080/"
        },
        "id": "_KpptRCU7slQ",
        "outputId": "75890efd-3633-4e4d-c7de-3562410e7e38"
      },
      "execution_count": null,
      "outputs": [
        {
          "output_type": "stream",
          "name": "stdout",
          "text": [
            "Reject the null hypothesis: There is a significant difference between the two schools.\n"
          ]
        }
      ]
    },
    {
      "cell_type": "code",
      "source": [],
      "metadata": {
        "id": "gMzL_Hw88aVj"
      },
      "execution_count": null,
      "outputs": []
    },
    {
      "cell_type": "code",
      "source": [
        "# 7.  Perform a paired sample T-test using Python and visualize the comparison results ?\n",
        "# A fitness trainer wants to test whether a 6-week workout program helps in improving strength levels.\n",
        "\n",
        "'''Given Data:\n",
        "10 participants were tested for their bench press strength (in kg) before starting the program.\n",
        "After 6 weeks, their strength was measured again.\n",
        "The trainer wants to check: Did the workout program significantly improve strength?'''"
      ],
      "metadata": {
        "colab": {
          "base_uri": "https://localhost:8080/",
          "height": 53
        },
        "id": "yzN10-my-fMp",
        "outputId": "a3f7e519-592e-4272-e59e-780ab4f0ec10"
      },
      "execution_count": null,
      "outputs": [
        {
          "output_type": "execute_result",
          "data": {
            "text/plain": [
              "'Given Data:\\n10 participants were tested for their bench press strength (in kg) before starting the program.\\nAfter 6 weeks, their strength was measured again.\\nThe trainer wants to check: Did the workout program significantly improve strength?'"
            ],
            "application/vnd.google.colaboratory.intrinsic+json": {
              "type": "string"
            }
          },
          "metadata": {},
          "execution_count": 83
        }
      ]
    },
    {
      "cell_type": "code",
      "source": [
        "# step 1 - null hypothesis : M before == M after\n",
        "# alternative hypothesis : M before < M after"
      ],
      "metadata": {
        "id": "Y3oCfaDDAHwJ"
      },
      "execution_count": null,
      "outputs": []
    },
    {
      "cell_type": "code",
      "source": [
        "# now t statistis and probability values\n",
        "#1 mean of diffrance\n",
        "before = np.array([80,90,78,85,88,76,82,89,91,87])\n",
        "after =np.array([85,94,80,87,92,79,86,93,95,91])\n",
        "diffrence = before - after"
      ],
      "metadata": {
        "id": "uwuh2KovCxin"
      },
      "execution_count": null,
      "outputs": []
    },
    {
      "cell_type": "code",
      "source": [
        "diffrence"
      ],
      "metadata": {
        "colab": {
          "base_uri": "https://localhost:8080/"
        },
        "id": "Do8o7SRRJoRp",
        "outputId": "9dd31d11-2069-4746-b4af-9c2f0d86cbfb"
      },
      "execution_count": null,
      "outputs": [
        {
          "output_type": "execute_result",
          "data": {
            "text/plain": [
              "array([-5, -4, -2, -2, -4, -3, -4, -4, -4, -4])"
            ]
          },
          "metadata": {},
          "execution_count": 90
        }
      ]
    },
    {
      "cell_type": "code",
      "source": [
        "population_mean7 = np.mean(diffrence)\n",
        "population_std7 = np.std(diffrence)"
      ],
      "metadata": {
        "id": "blfBH4B_SREh"
      },
      "execution_count": null,
      "outputs": []
    },
    {
      "cell_type": "code",
      "source": [
        "t_stats7, p_value7 = stats.ttest_rel(before,after)\n"
      ],
      "metadata": {
        "id": "0eQimHaiSnSz"
      },
      "execution_count": null,
      "outputs": []
    },
    {
      "cell_type": "code",
      "source": [
        "if p_value7 < alpha:\n",
        "  print(\"Reject the null hypothesis\")\n",
        "else:\n",
        "    print(\"Fail to reject the null hypothesis\")"
      ],
      "metadata": {
        "colab": {
          "base_uri": "https://localhost:8080/"
        },
        "id": "P-VMEBRtStne",
        "outputId": "f48c48c2-9be5-4805-e3cc-a1c1b1cdfcb9"
      },
      "execution_count": null,
      "outputs": [
        {
          "output_type": "stream",
          "name": "stdout",
          "text": [
            "Reject the null hypothesis\n"
          ]
        }
      ]
    },
    {
      "cell_type": "code",
      "source": [
        "# now visulisting this\n",
        "import scipy.stats as stats"
      ],
      "metadata": {
        "id": "WstgJi1xSveO"
      },
      "execution_count": null,
      "outputs": []
    },
    {
      "cell_type": "code",
      "source": [
        "x7 = np.linspace(-6,6,1000)\n",
        "y7 = stats.norm.pdf(x7,0,1)\n",
        "df = len(before) - 1\n",
        "df"
      ],
      "metadata": {
        "colab": {
          "base_uri": "https://localhost:8080/"
        },
        "id": "4JoyyjmyUjyY",
        "outputId": "ac7f9a0f-2bdf-4c71-f402-bacc89d2127a"
      },
      "execution_count": null,
      "outputs": [
        {
          "output_type": "execute_result",
          "data": {
            "text/plain": [
              "9"
            ]
          },
          "metadata": {},
          "execution_count": 121
        }
      ]
    },
    {
      "cell_type": "code",
      "source": [
        "plt.figure(figsize=(8,4))\n",
        "plt.plot(x7,y7,label='t_disribution')\n",
        "# now showing the rejection region\n",
        "alpha = 0.05\n",
        "t_critical7 = stats.t.ppf(1- alpha / 2 , df )\n",
        "plt.fill_between(x7,y7,where=(x7 <= -t_critical7) | (x7 >= t_critical7), color='red', alpha=0.3, label=\"Rejection Region\")\n",
        "\n",
        "plt.axvline(-t_critical7, color='black',linestyle ='dashed')\n",
        "plt.axvline(t_critical7, color='black',linestyle ='dashed')\n",
        "plt.legend()\n",
        "plt.show()"
      ],
      "metadata": {
        "colab": {
          "base_uri": "https://localhost:8080/",
          "height": 368
        },
        "id": "HojWKBIJVfg9",
        "outputId": "46e48e6f-bf1f-4099-e442-d162c577a5d8"
      },
      "execution_count": null,
      "outputs": [
        {
          "output_type": "display_data",
          "data": {
            "text/plain": [
              "<Figure size 800x400 with 1 Axes>"
            ],
            "image/png": "[encoded data removed]"
          },
          "metadata": {}
        }
      ]
    },
    {
      "cell_type": "code",
      "source": [],
      "metadata": {
        "id": "wXjmv46mWPRU"
      },
      "execution_count": null,
      "outputs": []
    },
    {
      "cell_type": "code",
      "source": [
        "#8 Simulate data and perform both Z-test and T-test, then compare the results using Python ?\n",
        "#A university claims that the average student exam score is 75. A university claims that the average student exam score is 75.\n",
        "# you collect a random sample of 30 students' scores to test if the actual mean differs from 75\n",
        "\n",
        "exam_scores = [78, 72, 81, 69, 76, 80, 74, 77, 73, 79,\n",
        "               71, 82, 68, 75, 78, 70, 74, 79, 77, 81,\n",
        "               69, 76, 73, 78, 80, 72, 74, 71, 77, 75]\n",
        "\n"
      ],
      "metadata": {
        "id": "TysPtY1tZYdZ"
      },
      "execution_count": null,
      "outputs": []
    },
    {
      "cell_type": "code",
      "source": [
        "population_mean8 =75\n",
        "sample_size8 = 30\n",
        "len(exam_scores)"
      ],
      "metadata": {
        "colab": {
          "base_uri": "https://localhost:8080/"
        },
        "id": "DvD7_cIGcjpj",
        "outputId": "8d930766-7a46-491c-b040-b2a2a06a5ff9"
      },
      "execution_count": null,
      "outputs": [
        {
          "output_type": "execute_result",
          "data": {
            "text/plain": [
              "30"
            ]
          },
          "metadata": {},
          "execution_count": 3
        }
      ]
    },
    {
      "cell_type": "code",
      "source": [
        "sample_mean8= np.mean(exam_scores)\n",
        "sample_std8 = np.std(exam_scores,ddof=1)\n"
      ],
      "metadata": {
        "id": "kS0q45bwdI4A"
      },
      "execution_count": null,
      "outputs": []
    },
    {
      "cell_type": "code",
      "source": [
        "# now calculating t score first\n",
        "# part A 8th >>>>\n",
        "# step 1 - null hypothesis is m score 75 == m score 75\n",
        "# alterantive hypothesis is - m score 75 != m score 75"
      ],
      "metadata": {
        "id": "PxzQpVisd0Vv"
      },
      "execution_count": null,
      "outputs": []
    },
    {
      "cell_type": "code",
      "source": [
        "tscore8 = (sample_mean8 - population_mean8) / (sample_std8 / np.sqrt(sample_size8))\n",
        "tscore8"
      ],
      "metadata": {
        "colab": {
          "base_uri": "https://localhost:8080/"
        },
        "id": "F_NAnV0Aep4s",
        "outputId": "82c016c4-26a7-45ae-f75b-8d85c3eeb1e8"
      },
      "execution_count": null,
      "outputs": [
        {
          "output_type": "execute_result",
          "data": {
            "text/plain": [
              "np.float64(0.4179232298034718)"
            ]
          },
          "metadata": {},
          "execution_count": 5
        }
      ]
    },
    {
      "cell_type": "code",
      "source": [
        "# now t critical\n",
        "dof8 = len(exam_scores) - 1\n",
        "alpha = 0.05"
      ],
      "metadata": {
        "id": "CtL4iz5BgRrC"
      },
      "execution_count": null,
      "outputs": []
    },
    {
      "cell_type": "code",
      "source": [
        "t_cirtical8 =stats.t.ppf(1- alpha / 2 , dof8)\n",
        "t_cirtical8"
      ],
      "metadata": {
        "colab": {
          "base_uri": "https://localhost:8080/"
        },
        "id": "i7b_zGmegchk",
        "outputId": "ef8b3ccd-f59b-4da3-ec53-f8811d16d9fe"
      },
      "execution_count": null,
      "outputs": [
        {
          "output_type": "execute_result",
          "data": {
            "text/plain": [
              "np.float64(2.045229642132703)"
            ]
          },
          "metadata": {},
          "execution_count": 10
        }
      ]
    },
    {
      "cell_type": "code",
      "source": [
        "p_value8 =  stats.t.sf(abs(tscore8), df=sample_size8-1) * 2\n",
        "p_value8"
      ],
      "metadata": {
        "colab": {
          "base_uri": "https://localhost:8080/"
        },
        "id": "0UOwJUcwhgfR",
        "outputId": "5b601c4b-0d3e-4e6f-bfda-1becb863517d"
      },
      "execution_count": null,
      "outputs": [
        {
          "output_type": "execute_result",
          "data": {
            "text/plain": [
              "np.float64(0.6790816576484111)"
            ]
          },
          "metadata": {},
          "execution_count": 11
        }
      ]
    },
    {
      "cell_type": "code",
      "source": [
        "if tscore8 > t_cirtical8:\n",
        "  print('we reject the null hyposthesis')\n",
        "else:\n",
        "  print('fail to reject the null hypothesis')\n"
      ],
      "metadata": {
        "colab": {
          "base_uri": "https://localhost:8080/"
        },
        "id": "Y2GygPzPiLZj",
        "outputId": "28344b70-e61e-4073-bec7-4c8d5f061696"
      },
      "execution_count": null,
      "outputs": [
        {
          "output_type": "stream",
          "name": "stdout",
          "text": [
            "fail to reject the null hypothesis\n"
          ]
        }
      ]
    },
    {
      "cell_type": "code",
      "source": [
        "if p_value8 < alpha:\n",
        "  print('we reject the null hyposthesis')\n",
        "else:\n",
        "  print('fail to reject the null hypothesis')"
      ],
      "metadata": {
        "colab": {
          "base_uri": "https://localhost:8080/"
        },
        "id": "-yvD57_AilP3",
        "outputId": "bb917f76-fa96-4b39-c20c-d5306afc5cb8"
      },
      "execution_count": null,
      "outputs": [
        {
          "output_type": "stream",
          "name": "stdout",
          "text": [
            "fail to reject the null hypothesis\n"
          ]
        }
      ]
    },
    {
      "cell_type": "code",
      "source": [
        "# now applying the z test formula here  by assuming the pop_std 5\n"
      ],
      "metadata": {
        "colab": {
          "base_uri": "https://localhost:8080/"
        },
        "id": "tY9XmbJ8iqyW",
        "outputId": "7e84bf36-e1fb-41c7-be6c-9a32620df324"
      },
      "execution_count": null,
      "outputs": [
        {
          "output_type": "stream",
          "name": "stdout",
          "text": [
            "sdbsdf\n"
          ]
        }
      ]
    },
    {
      "cell_type": "code",
      "source": [
        "population_std8 =5\n"
      ],
      "metadata": {
        "id": "Sy3_CqS7jjxz"
      },
      "execution_count": null,
      "outputs": []
    },
    {
      "cell_type": "code",
      "source": [
        "z_score8 =(sample_mean8 - population_mean8) / (population_std8 / np.sqrt(sample_size8))\n",
        "z_score8"
      ],
      "metadata": {
        "colab": {
          "base_uri": "https://localhost:8080/"
        },
        "id": "MNfrM7WLBqkZ",
        "outputId": "52e64af6-d704-498f-b0e4-fcc2e236f34a"
      },
      "execution_count": null,
      "outputs": [
        {
          "output_type": "execute_result",
          "data": {
            "text/plain": [
              "np.float64(0.3286335345030965)"
            ]
          },
          "metadata": {},
          "execution_count": 16
        }
      ]
    },
    {
      "cell_type": "code",
      "source": [
        "# now z critical\n",
        "z_critical8 =stats.norm.ppf(1-alpha / 2)\n",
        "z_critical8"
      ],
      "metadata": {
        "colab": {
          "base_uri": "https://localhost:8080/"
        },
        "id": "snO6nFOxCTQy",
        "outputId": "5d8033a1-cc3c-4d26-c2e7-d34f4d95b005"
      },
      "execution_count": null,
      "outputs": [
        {
          "output_type": "execute_result",
          "data": {
            "text/plain": [
              "np.float64(1.959963984540054)"
            ]
          },
          "metadata": {},
          "execution_count": 17
        }
      ]
    },
    {
      "cell_type": "code",
      "source": [
        "if z_score8 > z_critical8:\n",
        "  print('we reject the null hypothesis')\n",
        "else:\n",
        "  print('fail to reject the null hypothesis')\n"
      ],
      "metadata": {
        "colab": {
          "base_uri": "https://localhost:8080/"
        },
        "id": "DuIBT0ZeCheV",
        "outputId": "b0fae894-0be5-42f1-b61f-f989ba7f805f"
      },
      "execution_count": null,
      "outputs": [
        {
          "output_type": "stream",
          "name": "stdout",
          "text": [
            "fail to reject the null hypothesis\n"
          ]
        }
      ]
    },
    {
      "cell_type": "code",
      "source": [
        "# now we have both t test and z test out of this value\n",
        "p_value8_z = stats.norm.sf(abs(z_score8)) * 2\n",
        "p_value8_z"
      ],
      "metadata": {
        "colab": {
          "base_uri": "https://localhost:8080/"
        },
        "id": "Gm-vDyYdCx4B",
        "outputId": "a1667d51-e02b-41a9-fac1-5f0f265bb7e3"
      },
      "execution_count": null,
      "outputs": [
        {
          "output_type": "execute_result",
          "data": {
            "text/plain": [
              "np.float64(0.7424326978058275)"
            ]
          },
          "metadata": {},
          "execution_count": 19
        }
      ]
    },
    {
      "cell_type": "code",
      "source": [
        "if p_value8_z < alpha:\n",
        "  print('we reject the null hypothesis')\n",
        "else:\n",
        "  print('fail to reject the null hypothesis')"
      ],
      "metadata": {
        "colab": {
          "base_uri": "https://localhost:8080/"
        },
        "id": "-83bzsnrEPSX",
        "outputId": "c262d287-1ec1-4ef1-fd1b-979adefc73c5"
      },
      "execution_count": null,
      "outputs": [
        {
          "output_type": "stream",
          "name": "stdout",
          "text": [
            "fail to reject the null hypothesis\n"
          ]
        }
      ]
    },
    {
      "cell_type": "code",
      "source": [
        "# reasults of p _values in both cases is matching\n",
        "# result of t_test and z_score is matching therefor we can say"
      ],
      "metadata": {
        "id": "4jHwi3TCEVuF"
      },
      "execution_count": null,
      "outputs": []
    },
    {
      "cell_type": "code",
      "source": [],
      "metadata": {
        "id": "bLbmQ_QtExeJ"
      },
      "execution_count": null,
      "outputs": []
    },
    {
      "cell_type": "code",
      "source": [
        "#9  Write a Python function to calculate the confidence interval for a sample mean and explain its significance ?\n",
        "exam_scores1 = [78, 72, 81, 69, 76, 80, 74, 77, 73, 79,\n",
        "               71, 82, 68, 75, 78, 70, 74, 79, 77, 81,\n",
        "               69, 76, 73, 78, 80, 72, 74, 71, 77, 75]"
      ],
      "metadata": {
        "id": "f4CH8aS-GTMi"
      },
      "execution_count": null,
      "outputs": []
    },
    {
      "cell_type": "code",
      "source": [
        "sam_mean9 = np.mean(exam_scores1)\n",
        "sam_mean9"
      ],
      "metadata": {
        "colab": {
          "base_uri": "https://localhost:8080/"
        },
        "id": "g1KJbVJcJmrw",
        "outputId": "45e42e38-7892-4dd3-f836-fee5c9091a03"
      },
      "execution_count": null,
      "outputs": [
        {
          "output_type": "execute_result",
          "data": {
            "text/plain": [
              "np.float64(75.3)"
            ]
          },
          "metadata": {},
          "execution_count": 26
        }
      ]
    },
    {
      "cell_type": "code",
      "source": [
        "sam_std9 = np.std(exam_scores1,ddof=1)\n",
        "sam_size9 =len(exam_scores1)  - 1"
      ],
      "metadata": {
        "id": "Uhn6o5UNJoIf"
      },
      "execution_count": null,
      "outputs": []
    },
    {
      "cell_type": "code",
      "source": [
        "confidence = 0.95\n",
        "alpha = 1 - confidence\n",
        "alpha"
      ],
      "metadata": {
        "colab": {
          "base_uri": "https://localhost:8080/"
        },
        "id": "ZH2yHn8KKE5q",
        "outputId": "ab1c6da1-b2a7-495e-9521-d2236a5b0603"
      },
      "execution_count": null,
      "outputs": [
        {
          "output_type": "execute_result",
          "data": {
            "text/plain": [
              "0.050000000000000044"
            ]
          },
          "metadata": {},
          "execution_count": 29
        }
      ]
    },
    {
      "cell_type": "code",
      "source": [
        "t_critical9 = stats.t.ppf(1 - alpha / 2 , df = sample_size8)\n",
        "t_critical9"
      ],
      "metadata": {
        "colab": {
          "base_uri": "https://localhost:8080/"
        },
        "id": "ZOkdYZZsKL6T",
        "outputId": "44a9b5f3-3b0b-43fa-9a30-e1d34ae8fc58"
      },
      "execution_count": null,
      "outputs": [
        {
          "output_type": "execute_result",
          "data": {
            "text/plain": [
              "np.float64(2.0422724563012373)"
            ]
          },
          "metadata": {},
          "execution_count": 35
        }
      ]
    },
    {
      "cell_type": "code",
      "source": [
        "margin_error9 = t_critical9 * (sam_std9 / np.sqrt(sam_size9))\n",
        "margin_error9"
      ],
      "metadata": {
        "colab": {
          "base_uri": "https://localhost:8080/"
        },
        "id": "AUO7z3QILFyq",
        "outputId": "51d5ae44-c967-4027-e3c3-1d5dca2eb267"
      },
      "execution_count": null,
      "outputs": [
        {
          "output_type": "execute_result",
          "data": {
            "text/plain": [
              "np.float64(1.4910769328940765)"
            ]
          },
          "metadata": {},
          "execution_count": 36
        }
      ]
    },
    {
      "cell_type": "code",
      "source": [
        "lower_bound = sam_mean9 - margin_error9\n",
        "upper_bound = sam_mean9 + margin_error9\n"
      ],
      "metadata": {
        "colab": {
          "base_uri": "https://localhost:8080/"
        },
        "id": "eijW7At3L4i1",
        "outputId": "1b26a4f6-300c-47ac-89d4-e7b9a153cb3a"
      },
      "execution_count": null,
      "outputs": [
        {
          "output_type": "execute_result",
          "data": {
            "text/plain": [
              "np.float64(73.80892306710592)"
            ]
          },
          "metadata": {},
          "execution_count": 37
        }
      ]
    },
    {
      "cell_type": "code",
      "source": [
        "print(lower_bound, \" --\",upper_bound)"
      ],
      "metadata": {
        "colab": {
          "base_uri": "https://localhost:8080/"
        },
        "id": "GGf98WFqMONN",
        "outputId": "b030aed9-bb82-4e20-96c8-5d6a58ff1821"
      },
      "execution_count": null,
      "outputs": [
        {
          "output_type": "stream",
          "name": "stdout",
          "text": [
            "73.80892306710592  -- 76.79107693289407\n"
          ]
        }
      ]
    },
    {
      "cell_type": "code",
      "source": [],
      "metadata": {
        "id": "IY6pCrt9MVIe"
      },
      "execution_count": null,
      "outputs": []
    },
    {
      "cell_type": "code",
      "source": [
        "#10 . Write a Python program to calculate the margin of error for a given confidence level using sample data ?\n",
        "sample_data10 = np.random.normal(loc=45,scale=34,size=50)\n",
        "sample_data10"
      ],
      "metadata": {
        "colab": {
          "base_uri": "https://localhost:8080/"
        },
        "id": "fGSTUQ-2Jwe3",
        "outputId": "9a6def9b-b1e7-4b54-c5b1-ad6cf5b8adb3"
      },
      "execution_count": null,
      "outputs": [
        {
          "output_type": "execute_result",
          "data": {
            "text/plain": [
              "array([ 74.97352611,  20.76064019,  33.09082672,  34.24092738,\n",
              "       -49.73522431,  21.51606003,  83.19714289,  27.37206474,\n",
              "        16.89614329,  81.21620307,  93.27604614,  49.17308159,\n",
              "        27.45298434,  53.97166003,  45.86873229,  78.70597355,\n",
              "        25.03869035,  46.84785303,  62.80686881,  38.21225711,\n",
              "        31.88108974,  41.18599224,  39.77087974,  37.02601019,\n",
              "        27.94995307,  41.30088048,  19.06308966,  21.05087074,\n",
              "       -61.12530367,  -6.9703265 ,  49.82384616,  60.21259033,\n",
              "       -14.78934791,  16.41201708,  72.18557626,  36.84630096,\n",
              "        30.98806918,  16.28739186,  23.88856868, -10.03817078,\n",
              "        58.62301638,   6.37247368,  29.96045242,  84.65827078,\n",
              "        -3.02356181, 106.47412097,  45.24198123,  48.98487162,\n",
              "        14.01903703,  -5.896416  ])"
            ]
          },
          "metadata": {},
          "execution_count": 6
        }
      ]
    },
    {
      "cell_type": "code",
      "source": [
        "sam_mean10 = np.mean(sample_data10)\n",
        "sam_mean10"
      ],
      "metadata": {
        "colab": {
          "base_uri": "https://localhost:8080/"
        },
        "id": "aBGt8pKfKUw5",
        "outputId": "a3580188-f742-4248-c720-2798f3d73e8f"
      },
      "execution_count": null,
      "outputs": [
        {
          "output_type": "execute_result",
          "data": {
            "text/plain": [
              "np.float64(34.464933624081226)"
            ]
          },
          "metadata": {},
          "execution_count": 7
        }
      ]
    },
    {
      "cell_type": "code",
      "source": [
        "sample_std10 = np.std(sample_data10)\n",
        "sample_std10"
      ],
      "metadata": {
        "colab": {
          "base_uri": "https://localhost:8080/"
        },
        "id": "HnsA-lAPLGoT",
        "outputId": "9cab90d4-81a2-4fae-f85e-1f4f96e2211d"
      },
      "execution_count": null,
      "outputs": [
        {
          "output_type": "execute_result",
          "data": {
            "text/plain": [
              "np.float64(32.58763904674046)"
            ]
          },
          "metadata": {},
          "execution_count": 8
        }
      ]
    },
    {
      "cell_type": "code",
      "source": [
        "sample_size10 =len(sample_data10)"
      ],
      "metadata": {
        "id": "SuWTK3vuLP-k"
      },
      "execution_count": null,
      "outputs": []
    },
    {
      "cell_type": "code",
      "source": [
        "# now definning confidence interval =\n",
        "confidence = 0.95\n",
        "alpha10 = 1 - confidence"
      ],
      "metadata": {
        "id": "TAVzydBQNCzp"
      },
      "execution_count": null,
      "outputs": []
    },
    {
      "cell_type": "code",
      "source": [
        "t_critical10 = stats.t.ppf(1 - alpha10 / 2, df = sample_size10-1 )\n",
        "t_critical10"
      ],
      "metadata": {
        "colab": {
          "base_uri": "https://localhost:8080/"
        },
        "id": "TE1PMbK8OLJn",
        "outputId": "f2da12d8-77ca-4813-c258-6c6d4afa6469"
      },
      "execution_count": null,
      "outputs": [
        {
          "output_type": "execute_result",
          "data": {
            "text/plain": [
              "np.float64(2.0095752371292397)"
            ]
          },
          "metadata": {},
          "execution_count": 18
        }
      ]
    },
    {
      "cell_type": "code",
      "source": [
        "SE10 = sample_std10 / np.sqrt(sample_size10)\n",
        "SE10"
      ],
      "metadata": {
        "colab": {
          "base_uri": "https://localhost:8080/"
        },
        "id": "VgS8x88DNEf_",
        "outputId": "614ecf55-99ca-4ed6-c6c1-d9ac29122973"
      },
      "execution_count": null,
      "outputs": [
        {
          "output_type": "execute_result",
          "data": {
            "text/plain": [
              "np.float64(4.60858811056194)"
            ]
          },
          "metadata": {},
          "execution_count": 19
        }
      ]
    },
    {
      "cell_type": "code",
      "source": [
        "ME10 = t_critical10 * SE10\n",
        "ME10"
      ],
      "metadata": {
        "colab": {
          "base_uri": "https://localhost:8080/"
        },
        "id": "ZliUU8nHQ1Wb",
        "outputId": "e57c82ce-a038-419f-8896-2b600bdde36e"
      },
      "execution_count": null,
      "outputs": [
        {
          "output_type": "execute_result",
          "data": {
            "text/plain": [
              "np.float64(9.261304545113505)"
            ]
          },
          "metadata": {},
          "execution_count": 20
        }
      ]
    },
    {
      "cell_type": "code",
      "source": [
        "print('mergion error in this is :',ME10)"
      ],
      "metadata": {
        "colab": {
          "base_uri": "https://localhost:8080/"
        },
        "id": "Seb-6RAYQ-sQ",
        "outputId": "7269275a-f2dd-4181-cde5-8e1a67957cbd"
      },
      "execution_count": null,
      "outputs": [
        {
          "output_type": "stream",
          "name": "stdout",
          "text": [
            "mergion error in this is : 9.261304545113505\n"
          ]
        }
      ]
    },
    {
      "cell_type": "code",
      "source": [
        "LB10 = sam_mean10 - ME10\n",
        "UP10 = sam_mean10 +  ME10"
      ],
      "metadata": {
        "id": "wCbg3H4URJ2d"
      },
      "execution_count": null,
      "outputs": []
    },
    {
      "cell_type": "code",
      "source": [
        "print(LB10 ,\" -- \", UP10)  # these are the lower and upper bond in this given confidence interval"
      ],
      "metadata": {
        "colab": {
          "base_uri": "https://localhost:8080/"
        },
        "id": "xqtovTK9Rvkc",
        "outputId": "5816f5de-07a0-4bc8-fb48-683cc3b1cd90"
      },
      "execution_count": null,
      "outputs": [
        {
          "output_type": "stream",
          "name": "stdout",
          "text": [
            "25.203629078967722  --  43.72623816919473\n"
          ]
        }
      ]
    },
    {
      "cell_type": "code",
      "source": [],
      "metadata": {
        "id": "1SnGfRDiR0Nm"
      },
      "execution_count": null,
      "outputs": []
    },
    {
      "cell_type": "code",
      "source": [
        "#11.  Implement a Bayesian inference method using Bayes' Theorem in Python and explain the process ?\n"
      ],
      "metadata": {
        "id": "Z_eFeiNSSPsA"
      },
      "execution_count": null,
      "outputs": []
    },
    {
      "cell_type": "code",
      "source": [
        "def byes_teorem (prior,likelihood,false_postive):\n",
        "  evidence = (likelihood * prior) + (false_postive * (1 - prior))\n",
        "  posterior = (likelihood * prior) / evidence\n",
        "\n",
        "  return posterior\n",
        "\n",
        "prior = 0.01\n",
        "likelihood = 0.95\n",
        "false_postive = 0.05"
      ],
      "metadata": {
        "id": "T1C9CyNsV4WN"
      },
      "execution_count": null,
      "outputs": []
    },
    {
      "cell_type": "code",
      "source": [
        "byes_teorem(prior,likelihood,false_postive)"
      ],
      "metadata": {
        "colab": {
          "base_uri": "https://localhost:8080/"
        },
        "id": "a1NQWu1YXX6o",
        "outputId": "8efda45d-1928-431f-b160-a4bf06616b7f"
      },
      "execution_count": null,
      "outputs": [
        {
          "output_type": "execute_result",
          "data": {
            "text/plain": [
              "0.16101694915254236"
            ]
          },
          "metadata": {},
          "execution_count": 30
        }
      ]
    },
    {
      "cell_type": "code",
      "source": [],
      "metadata": {
        "id": "OpkJYWj7XqKP"
      },
      "execution_count": null,
      "outputs": []
    },
    {
      "cell_type": "code",
      "source": [
        "#12.  Perform a Chi-square test for independence between two categorical variables in Python ?\n",
        "# peroming chi squre test on two catogrical data - QUSTION\n",
        "\n",
        "sns.get_dataset_names()"
      ],
      "metadata": {
        "colab": {
          "base_uri": "https://localhost:8080/"
        },
        "id": "htWOWuLtYwQV",
        "outputId": "1df184d2-5db6-411d-b6b4-a61ad7f3a8a4"
      },
      "execution_count": null,
      "outputs": [
        {
          "output_type": "execute_result",
          "data": {
            "text/plain": [
              "['anagrams',\n",
              " 'anscombe',\n",
              " 'attention',\n",
              " 'brain_networks',\n",
              " 'car_crashes',\n",
              " 'diamonds',\n",
              " 'dots',\n",
              " 'dowjones',\n",
              " 'exercise',\n",
              " 'flights',\n",
              " 'fmri',\n",
              " 'geyser',\n",
              " 'glue',\n",
              " 'healthexp',\n",
              " 'iris',\n",
              " 'mpg',\n",
              " 'penguins',\n",
              " 'planets',\n",
              " 'seaice',\n",
              " 'taxis',\n",
              " 'tips',\n",
              " 'titanic']"
            ]
          },
          "metadata": {},
          "execution_count": 32
        }
      ]
    },
    {
      "cell_type": "code",
      "source": [
        "data12 = sns.load_dataset('titanic')"
      ],
      "metadata": {
        "id": "h_mopQuta4P_"
      },
      "execution_count": null,
      "outputs": []
    },
    {
      "cell_type": "code",
      "source": [
        "data12.info()"
      ],
      "metadata": {
        "colab": {
          "base_uri": "https://localhost:8080/"
        },
        "id": "pjNpj6mwa-iZ",
        "outputId": "bfdf580e-eb3d-42fd-d567-4313777fede3"
      },
      "execution_count": null,
      "outputs": [
        {
          "output_type": "stream",
          "name": "stdout",
          "text": [
            "<class 'pandas.core.frame.DataFrame'>\n",
            "RangeIndex: 891 entries, 0 to 890\n",
            "Data columns (total 15 columns):\n",
            " #   Column       Non-Null Count  Dtype   \n",
            "---  ------       --------------  -----   \n",
            " 0   survived     891 non-null    int64   \n",
            " 1   pclass       891 non-null    int64   \n",
            " 2   sex          891 non-null    object  \n",
            " 3   age          714 non-null    float64 \n",
            " 4   sibsp        891 non-null    int64   \n",
            " 5   parch        891 non-null    int64   \n",
            " 6   fare         891 non-null    float64 \n",
            " 7   embarked     889 non-null    object  \n",
            " 8   class        891 non-null    category\n",
            " 9   who          891 non-null    object  \n",
            " 10  adult_male   891 non-null    bool    \n",
            " 11  deck         203 non-null    category\n",
            " 12  embark_town  889 non-null    object  \n",
            " 13  alive        891 non-null    object  \n",
            " 14  alone        891 non-null    bool    \n",
            "dtypes: bool(2), category(2), float64(2), int64(4), object(5)\n",
            "memory usage: 80.7+ KB\n"
          ]
        }
      ]
    },
    {
      "cell_type": "code",
      "source": [
        "data12[['sex','embark_town']]"
      ],
      "metadata": {
        "colab": {
          "base_uri": "https://localhost:8080/",
          "height": 423
        },
        "id": "Ki9h5irrbLW6",
        "outputId": "371ef79c-5dbb-46e5-a70e-c85404e9b0ee"
      },
      "execution_count": null,
      "outputs": [
        {
          "output_type": "execute_result",
          "data": {
            "text/plain": [
              "        sex  embark_town\n",
              "0      male  Southampton\n",
              "1    female    Cherbourg\n",
              "2    female  Southampton\n",
              "3    female  Southampton\n",
              "4      male  Southampton\n",
              "..      ...          ...\n",
              "886    male  Southampton\n",
              "887  female  Southampton\n",
              "888  female  Southampton\n",
              "889    male    Cherbourg\n",
              "890    male   Queenstown\n",
              "\n",
              "[891 rows x 2 columns]"
            ],
            "text/html": [
              "\n",
              "  <div id=\"df-15fa4362-b771-4d9a-be0d-d9aa1ba93d48\" class=\"colab-df-container\">\n",
              "    <div>\n",
              "<style scoped>\n",
              "    .dataframe tbody tr th:only-of-type {\n",
              "        vertical-align: middle;\n",
              "    }\n",
              "\n",
              "    .dataframe tbody tr th {\n",
              "        vertical-align: top;\n",
              "    }\n",
              "\n",
              "    .dataframe thead th {\n",
              "        text-align: right;\n",
              "    }\n",
              "</style>\n",
              "<table border=\"1\" class=\"dataframe\">\n",
              "  <thead>\n",
              "    <tr style=\"text-align: right;\">\n",
              "      <th></th>\n",
              "      <th>sex</th>\n",
              "      <th>embark_town</th>\n",
              "    </tr>\n",
              "  </thead>\n",
              "  <tbody>\n",
              "    <tr>\n",
              "      <th>0</th>\n",
              "      <td>male</td>\n",
              "      <td>Southampton</td>\n",
              "    </tr>\n",
              "    <tr>\n",
              "      <th>1</th>\n",
              "      <td>female</td>\n",
              "      <td>Cherbourg</td>\n",
              "    </tr>\n",
              "    <tr>\n",
              "      <th>2</th>\n",
              "      <td>female</td>\n",
              "      <td>Southampton</td>\n",
              "    </tr>\n",
              "    <tr>\n",
              "      <th>3</th>\n",
              "      <td>female</td>\n",
              "      <td>Southampton</td>\n",
              "    </tr>\n",
              "    <tr>\n",
              "      <th>4</th>\n",
              "      <td>male</td>\n",
              "      <td>Southampton</td>\n",
              "    </tr>\n",
              "    <tr>\n",
              "      <th>...</th>\n",
              "      <td>...</td>\n",
              "      <td>...</td>\n",
              "    </tr>\n",
              "    <tr>\n",
              "      <th>886</th>\n",
              "      <td>male</td>\n",
              "      <td>Southampton</td>\n",
              "    </tr>\n",
              "    <tr>\n",
              "      <th>887</th>\n",
              "      <td>female</td>\n",
              "      <td>Southampton</td>\n",
              "    </tr>\n",
              "    <tr>\n",
              "      <th>888</th>\n",
              "      <td>female</td>\n",
              "      <td>Southampton</td>\n",
              "    </tr>\n",
              "    <tr>\n",
              "      <th>889</th>\n",
              "      <td>male</td>\n",
              "      <td>Cherbourg</td>\n",
              "    </tr>\n",
              "    <tr>\n",
              "      <th>890</th>\n",
              "      <td>male</td>\n",
              "      <td>Queenstown</td>\n",
              "    </tr>\n",
              "  </tbody>\n",
              "</table>\n",
              "<p>891 rows × 2 columns</p>\n",
              "</div>\n",
              "    <div class=\"colab-df-buttons\">\n",
              "\n",
              "  <div class=\"colab-df-container\">\n",
              "    <button class=\"colab-df-convert\" onclick=\"convertToInteractive('df-15fa4362-b771-4d9a-be0d-d9aa1ba93d48')\"\n",
              "            title=\"Convert this dataframe to an interactive table.\"\n",
              "            style=\"display:none;\">\n",
              "\n",
              "  <svg xmlns=\"http://www.w3.org/2000/svg\" height=\"24px\" viewBox=\"0 -960 960 960\">\n",
              "    <path d=\"M120-120v-720h720v720H120Zm60-500h600v-160H180v160Zm220 220h160v-160H400v160Zm0 220h160v-160H400v160ZM180-400h160v-160H180v160Zm440 0h160v-160H620v160ZM180-180h160v-160H180v160Zm440 0h160v-160H620v160Z\"/>\n",
              "  </svg>\n",
              "    </button>\n",
              "\n",
              "  <style>\n",
              "    .colab-df-container {\n",
              "      display:flex;\n",
              "      gap: 12px;\n",
              "    }\n",
              "\n",
              "    .colab-df-convert {\n",
              "      background-color: #E8F0FE;\n",
              "      border: none;\n",
              "      border-radius: 50%;\n",
              "      cursor: pointer;\n",
              "      display: none;\n",
              "      fill: #1967D2;\n",
              "      height: 32px;\n",
              "      padding: 0 0 0 0;\n",
              "      width: 32px;\n",
              "    }\n",
              "\n",
              "    .colab-df-convert:hover {\n",
              "      background-color: #E2EBFA;\n",
              "      box-shadow: 0px 1px 2px rgba(60, 64, 67, 0.3), 0px 1px 3px 1px rgba(60, 64, 67, 0.15);\n",
              "      fill: #174EA6;\n",
              "    }\n",
              "\n",
              "    .colab-df-buttons div {\n",
              "      margin-bottom: 4px;\n",
              "    }\n",
              "\n",
              "    [theme=dark] .colab-df-convert {\n",
              "      background-color: #3B4455;\n",
              "      fill: #D2E3FC;\n",
              "    }\n",
              "\n",
              "    [theme=dark] .colab-df-convert:hover {\n",
              "      background-color: #434B5C;\n",
              "      box-shadow: 0px 1px 3px 1px rgba(0, 0, 0, 0.15);\n",
              "      filter: drop-shadow(0px 1px 2px rgba(0, 0, 0, 0.3));\n",
              "      fill: #FFFFFF;\n",
              "    }\n",
              "  </style>\n",
              "\n",
              "    <script>\n",
              "      const buttonEl =\n",
              "        document.querySelector('#df-15fa4362-b771-4d9a-be0d-d9aa1ba93d48 button.colab-df-convert');\n",
              "      buttonEl.style.display =\n",
              "        google.colab.kernel.accessAllowed ? 'block' : 'none';\n",
              "\n",
              "      async function convertToInteractive(key) {\n",
              "        const element = document.querySelector('#df-15fa4362-b771-4d9a-be0d-d9aa1ba93d48');\n",
              "        const dataTable =\n",
              "          await google.colab.kernel.invokeFunction('convertToInteractive',\n",
              "                                                    [key], {});\n",
              "        if (!dataTable) return;\n",
              "\n",
              "        const docLinkHtml = 'Like what you see? Visit the ' +\n",
              "          '<a target=\"_blank\" href=https://colab.research.google.com/notebooks/data_table.ipynb>data table notebook</a>'\n",
              "          + ' to learn more about interactive tables.';\n",
              "        element.innerHTML = '';\n",
              "        dataTable['output_type'] = 'display_data';\n",
              "        await google.colab.output.renderOutput(dataTable, element);\n",
              "        const docLink = document.createElement('div');\n",
              "        docLink.innerHTML = docLinkHtml;\n",
              "        element.appendChild(docLink);\n",
              "      }\n",
              "    </script>\n",
              "  </div>\n",
              "\n",
              "\n",
              "<div id=\"df-5073fe74-2481-49b6-8fc4-93d5e1dacfc8\">\n",
              "  <button class=\"colab-df-quickchart\" onclick=\"quickchart('df-5073fe74-2481-49b6-8fc4-93d5e1dacfc8')\"\n",
              "            title=\"Suggest charts\"\n",
              "            style=\"display:none;\">\n",
              "\n",
              "<svg xmlns=\"http://www.w3.org/2000/svg\" height=\"24px\"viewBox=\"0 0 24 24\"\n",
              "     width=\"24px\">\n",
              "    <g>\n",
              "        <path d=\"M19 3H5c-1.1 0-2 .9-2 2v14c0 1.1.9 2 2 2h14c1.1 0 2-.9 2-2V5c0-1.1-.9-2-2-2zM9 17H7v-7h2v7zm4 0h-2V7h2v10zm4 0h-2v-4h2v4z\"/>\n",
              "    </g>\n",
              "</svg>\n",
              "  </button>\n",
              "\n",
              "<style>\n",
              "  .colab-df-quickchart {\n",
              "      --bg-color: #E8F0FE;\n",
              "      --fill-color: #1967D2;\n",
              "      --hover-bg-color: #E2EBFA;\n",
              "      --hover-fill-color: #174EA6;\n",
              "      --disabled-fill-color: #AAA;\n",
              "      --disabled-bg-color: #DDD;\n",
              "  }\n",
              "\n",
              "  [theme=dark] .colab-df-quickchart {\n",
              "      --bg-color: #3B4455;\n",
              "      --fill-color: #D2E3FC;\n",
              "      --hover-bg-color: #434B5C;\n",
              "      --hover-fill-color: #FFFFFF;\n",
              "      --disabled-bg-color: #3B4455;\n",
              "      --disabled-fill-color: #666;\n",
              "  }\n",
              "\n",
              "  .colab-df-quickchart {\n",
              "    background-color: var(--bg-color);\n",
              "    border: none;\n",
              "    border-radius: 50%;\n",
              "    cursor: pointer;\n",
              "    display: none;\n",
              "    fill: var(--fill-color);\n",
              "    height: 32px;\n",
              "    padding: 0;\n",
              "    width: 32px;\n",
              "  }\n",
              "\n",
              "  .colab-df-quickchart:hover {\n",
              "    background-color: var(--hover-bg-color);\n",
              "    box-shadow: 0 1px 2px rgba(60, 64, 67, 0.3), 0 1px 3px 1px rgba(60, 64, 67, 0.15);\n",
              "    fill: var(--button-hover-fill-color);\n",
              "  }\n",
              "\n",
              "  .colab-df-quickchart-complete:disabled,\n",
              "  .colab-df-quickchart-complete:disabled:hover {\n",
              "    background-color: var(--disabled-bg-color);\n",
              "    fill: var(--disabled-fill-color);\n",
              "    box-shadow: none;\n",
              "  }\n",
              "\n",
              "  .colab-df-spinner {\n",
              "    border: 2px solid var(--fill-color);\n",
              "    border-color: transparent;\n",
              "    border-bottom-color: var(--fill-color);\n",
              "    animation:\n",
              "      spin 1s steps(1) infinite;\n",
              "  }\n",
              "\n",
              "  @keyframes spin {\n",
              "    0% {\n",
              "      border-color: transparent;\n",
              "      border-bottom-color: var(--fill-color);\n",
              "      border-left-color: var(--fill-color);\n",
              "    }\n",
              "    20% {\n",
              "      border-color: transparent;\n",
              "      border-left-color: var(--fill-color);\n",
              "      border-top-color: var(--fill-color);\n",
              "    }\n",
              "    30% {\n",
              "      border-color: transparent;\n",
              "      border-left-color: var(--fill-color);\n",
              "      border-top-color: var(--fill-color);\n",
              "      border-right-color: var(--fill-color);\n",
              "    }\n",
              "    40% {\n",
              "      border-color: transparent;\n",
              "      border-right-color: var(--fill-color);\n",
              "      border-top-color: var(--fill-color);\n",
              "    }\n",
              "    60% {\n",
              "      border-color: transparent;\n",
              "      border-right-color: var(--fill-color);\n",
              "    }\n",
              "    80% {\n",
              "      border-color: transparent;\n",
              "      border-right-color: var(--fill-color);\n",
              "      border-bottom-color: var(--fill-color);\n",
              "    }\n",
              "    90% {\n",
              "      border-color: transparent;\n",
              "      border-bottom-color: var(--fill-color);\n",
              "    }\n",
              "  }\n",
              "</style>\n",
              "\n",
              "  <script>\n",
              "    async function quickchart(key) {\n",
              "      const quickchartButtonEl =\n",
              "        document.querySelector('#' + key + ' button');\n",
              "      quickchartButtonEl.disabled = true;  // To prevent multiple clicks.\n",
              "      quickchartButtonEl.classList.add('colab-df-spinner');\n",
              "      try {\n",
              "        const charts = await google.colab.kernel.invokeFunction(\n",
              "            'suggestCharts', [key], {});\n",
              "      } catch (error) {\n",
              "        console.error('Error during call to suggestCharts:', error);\n",
              "      }\n",
              "      quickchartButtonEl.classList.remove('colab-df-spinner');\n",
              "      quickchartButtonEl.classList.add('colab-df-quickchart-complete');\n",
              "    }\n",
              "    (() => {\n",
              "      let quickchartButtonEl =\n",
              "        document.querySelector('#df-5073fe74-2481-49b6-8fc4-93d5e1dacfc8 button');\n",
              "      quickchartButtonEl.style.display =\n",
              "        google.colab.kernel.accessAllowed ? 'block' : 'none';\n",
              "    })();\n",
              "  </script>\n",
              "</div>\n",
              "\n",
              "    </div>\n",
              "  </div>\n"
            ],
            "application/vnd.google.colaboratory.intrinsic+json": {
              "type": "dataframe",
              "summary": "{\n  \"name\": \"data12[['sex','embark_town']]\",\n  \"rows\": 891,\n  \"fields\": [\n    {\n      \"column\": \"sex\",\n      \"properties\": {\n        \"dtype\": \"category\",\n        \"num_unique_values\": 2,\n        \"samples\": [\n          \"female\",\n          \"male\"\n        ],\n        \"semantic_type\": \"\",\n        \"description\": \"\"\n      }\n    },\n    {\n      \"column\": \"embark_town\",\n      \"properties\": {\n        \"dtype\": \"category\",\n        \"num_unique_values\": 3,\n        \"samples\": [\n          \"Southampton\",\n          \"Cherbourg\"\n        ],\n        \"semantic_type\": \"\",\n        \"description\": \"\"\n      }\n    }\n  ]\n}"
            }
          },
          "metadata": {},
          "execution_count": 40
        }
      ]
    },
    {
      "cell_type": "code",
      "source": [
        "data12_table = pd.crosstab(data12['sex'],data12['embark_town'])\n",
        "data12_table"
      ],
      "metadata": {
        "colab": {
          "base_uri": "https://localhost:8080/",
          "height": 143
        },
        "id": "HBobHdUfbZqG",
        "outputId": "43e84bb8-8b73-4800-ef42-bb9f4c2e7e8c"
      },
      "execution_count": null,
      "outputs": [
        {
          "output_type": "execute_result",
          "data": {
            "text/plain": [
              "embark_town  Cherbourg  Queenstown  Southampton\n",
              "sex                                            \n",
              "female              73          36          203\n",
              "male                95          41          441"
            ],
            "text/html": [
              "\n",
              "  <div id=\"df-344538d4-6dcd-49dc-a98a-ecc63d2c94e2\" class=\"colab-df-container\">\n",
              "    <div>\n",
              "<style scoped>\n",
              "    .dataframe tbody tr th:only-of-type {\n",
              "        vertical-align: middle;\n",
              "    }\n",
              "\n",
              "    .dataframe tbody tr th {\n",
              "        vertical-align: top;\n",
              "    }\n",
              "\n",
              "    .dataframe thead th {\n",
              "        text-align: right;\n",
              "    }\n",
              "</style>\n",
              "<table border=\"1\" class=\"dataframe\">\n",
              "  <thead>\n",
              "    <tr style=\"text-align: right;\">\n",
              "      <th>embark_town</th>\n",
              "      <th>Cherbourg</th>\n",
              "      <th>Queenstown</th>\n",
              "      <th>Southampton</th>\n",
              "    </tr>\n",
              "    <tr>\n",
              "      <th>sex</th>\n",
              "      <th></th>\n",
              "      <th></th>\n",
              "      <th></th>\n",
              "    </tr>\n",
              "  </thead>\n",
              "  <tbody>\n",
              "    <tr>\n",
              "      <th>female</th>\n",
              "      <td>73</td>\n",
              "      <td>36</td>\n",
              "      <td>203</td>\n",
              "    </tr>\n",
              "    <tr>\n",
              "      <th>male</th>\n",
              "      <td>95</td>\n",
              "      <td>41</td>\n",
              "      <td>441</td>\n",
              "    </tr>\n",
              "  </tbody>\n",
              "</table>\n",
              "</div>\n",
              "    <div class=\"colab-df-buttons\">\n",
              "\n",
              "  <div class=\"colab-df-container\">\n",
              "    <button class=\"colab-df-convert\" onclick=\"convertToInteractive('df-344538d4-6dcd-49dc-a98a-ecc63d2c94e2')\"\n",
              "            title=\"Convert this dataframe to an interactive table.\"\n",
              "            style=\"display:none;\">\n",
              "\n",
              "  <svg xmlns=\"http://www.w3.org/2000/svg\" height=\"24px\" viewBox=\"0 -960 960 960\">\n",
              "    <path d=\"M120-120v-720h720v720H120Zm60-500h600v-160H180v160Zm220 220h160v-160H400v160Zm0 220h160v-160H400v160ZM180-400h160v-160H180v160Zm440 0h160v-160H620v160ZM180-180h160v-160H180v160Zm440 0h160v-160H620v160Z\"/>\n",
              "  </svg>\n",
              "    </button>\n",
              "\n",
              "  <style>\n",
              "    .colab-df-container {\n",
              "      display:flex;\n",
              "      gap: 12px;\n",
              "    }\n",
              "\n",
              "    .colab-df-convert {\n",
              "      background-color: #E8F0FE;\n",
              "      border: none;\n",
              "      border-radius: 50%;\n",
              "      cursor: pointer;\n",
              "      display: none;\n",
              "      fill: #1967D2;\n",
              "      height: 32px;\n",
              "      padding: 0 0 0 0;\n",
              "      width: 32px;\n",
              "    }\n",
              "\n",
              "    .colab-df-convert:hover {\n",
              "      background-color: #E2EBFA;\n",
              "      box-shadow: 0px 1px 2px rgba(60, 64, 67, 0.3), 0px 1px 3px 1px rgba(60, 64, 67, 0.15);\n",
              "      fill: #174EA6;\n",
              "    }\n",
              "\n",
              "    .colab-df-buttons div {\n",
              "      margin-bottom: 4px;\n",
              "    }\n",
              "\n",
              "    [theme=dark] .colab-df-convert {\n",
              "      background-color: #3B4455;\n",
              "      fill: #D2E3FC;\n",
              "    }\n",
              "\n",
              "    [theme=dark] .colab-df-convert:hover {\n",
              "      background-color: #434B5C;\n",
              "      box-shadow: 0px 1px 3px 1px rgba(0, 0, 0, 0.15);\n",
              "      filter: drop-shadow(0px 1px 2px rgba(0, 0, 0, 0.3));\n",
              "      fill: #FFFFFF;\n",
              "    }\n",
              "  </style>\n",
              "\n",
              "    <script>\n",
              "      const buttonEl =\n",
              "        document.querySelector('#df-344538d4-6dcd-49dc-a98a-ecc63d2c94e2 button.colab-df-convert');\n",
              "      buttonEl.style.display =\n",
              "        google.colab.kernel.accessAllowed ? 'block' : 'none';\n",
              "\n",
              "      async function convertToInteractive(key) {\n",
              "        const element = document.querySelector('#df-344538d4-6dcd-49dc-a98a-ecc63d2c94e2');\n",
              "        const dataTable =\n",
              "          await google.colab.kernel.invokeFunction('convertToInteractive',\n",
              "                                                    [key], {});\n",
              "        if (!dataTable) return;\n",
              "\n",
              "        const docLinkHtml = 'Like what you see? Visit the ' +\n",
              "          '<a target=\"_blank\" href=https://colab.research.google.com/notebooks/data_table.ipynb>data table notebook</a>'\n",
              "          + ' to learn more about interactive tables.';\n",
              "        element.innerHTML = '';\n",
              "        dataTable['output_type'] = 'display_data';\n",
              "        await google.colab.output.renderOutput(dataTable, element);\n",
              "        const docLink = document.createElement('div');\n",
              "        docLink.innerHTML = docLinkHtml;\n",
              "        element.appendChild(docLink);\n",
              "      }\n",
              "    </script>\n",
              "  </div>\n",
              "\n",
              "\n",
              "<div id=\"df-29dd452a-1019-4838-884c-b373aa8f2502\">\n",
              "  <button class=\"colab-df-quickchart\" onclick=\"quickchart('df-29dd452a-1019-4838-884c-b373aa8f2502')\"\n",
              "            title=\"Suggest charts\"\n",
              "            style=\"display:none;\">\n",
              "\n",
              "<svg xmlns=\"http://www.w3.org/2000/svg\" height=\"24px\"viewBox=\"0 0 24 24\"\n",
              "     width=\"24px\">\n",
              "    <g>\n",
              "        <path d=\"M19 3H5c-1.1 0-2 .9-2 2v14c0 1.1.9 2 2 2h14c1.1 0 2-.9 2-2V5c0-1.1-.9-2-2-2zM9 17H7v-7h2v7zm4 0h-2V7h2v10zm4 0h-2v-4h2v4z\"/>\n",
              "    </g>\n",
              "</svg>\n",
              "  </button>\n",
              "\n",
              "<style>\n",
              "  .colab-df-quickchart {\n",
              "      --bg-color: #E8F0FE;\n",
              "      --fill-color: #1967D2;\n",
              "      --hover-bg-color: #E2EBFA;\n",
              "      --hover-fill-color: #174EA6;\n",
              "      --disabled-fill-color: #AAA;\n",
              "      --disabled-bg-color: #DDD;\n",
              "  }\n",
              "\n",
              "  [theme=dark] .colab-df-quickchart {\n",
              "      --bg-color: #3B4455;\n",
              "      --fill-color: #D2E3FC;\n",
              "      --hover-bg-color: #434B5C;\n",
              "      --hover-fill-color: #FFFFFF;\n",
              "      --disabled-bg-color: #3B4455;\n",
              "      --disabled-fill-color: #666;\n",
              "  }\n",
              "\n",
              "  .colab-df-quickchart {\n",
              "    background-color: var(--bg-color);\n",
              "    border: none;\n",
              "    border-radius: 50%;\n",
              "    cursor: pointer;\n",
              "    display: none;\n",
              "    fill: var(--fill-color);\n",
              "    height: 32px;\n",
              "    padding: 0;\n",
              "    width: 32px;\n",
              "  }\n",
              "\n",
              "  .colab-df-quickchart:hover {\n",
              "    background-color: var(--hover-bg-color);\n",
              "    box-shadow: 0 1px 2px rgba(60, 64, 67, 0.3), 0 1px 3px 1px rgba(60, 64, 67, 0.15);\n",
              "    fill: var(--button-hover-fill-color);\n",
              "  }\n",
              "\n",
              "  .colab-df-quickchart-complete:disabled,\n",
              "  .colab-df-quickchart-complete:disabled:hover {\n",
              "    background-color: var(--disabled-bg-color);\n",
              "    fill: var(--disabled-fill-color);\n",
              "    box-shadow: none;\n",
              "  }\n",
              "\n",
              "  .colab-df-spinner {\n",
              "    border: 2px solid var(--fill-color);\n",
              "    border-color: transparent;\n",
              "    border-bottom-color: var(--fill-color);\n",
              "    animation:\n",
              "      spin 1s steps(1) infinite;\n",
              "  }\n",
              "\n",
              "  @keyframes spin {\n",
              "    0% {\n",
              "      border-color: transparent;\n",
              "      border-bottom-color: var(--fill-color);\n",
              "      border-left-color: var(--fill-color);\n",
              "    }\n",
              "    20% {\n",
              "      border-color: transparent;\n",
              "      border-left-color: var(--fill-color);\n",
              "      border-top-color: var(--fill-color);\n",
              "    }\n",
              "    30% {\n",
              "      border-color: transparent;\n",
              "      border-left-color: var(--fill-color);\n",
              "      border-top-color: var(--fill-color);\n",
              "      border-right-color: var(--fill-color);\n",
              "    }\n",
              "    40% {\n",
              "      border-color: transparent;\n",
              "      border-right-color: var(--fill-color);\n",
              "      border-top-color: var(--fill-color);\n",
              "    }\n",
              "    60% {\n",
              "      border-color: transparent;\n",
              "      border-right-color: var(--fill-color);\n",
              "    }\n",
              "    80% {\n",
              "      border-color: transparent;\n",
              "      border-right-color: var(--fill-color);\n",
              "      border-bottom-color: var(--fill-color);\n",
              "    }\n",
              "    90% {\n",
              "      border-color: transparent;\n",
              "      border-bottom-color: var(--fill-color);\n",
              "    }\n",
              "  }\n",
              "</style>\n",
              "\n",
              "  <script>\n",
              "    async function quickchart(key) {\n",
              "      const quickchartButtonEl =\n",
              "        document.querySelector('#' + key + ' button');\n",
              "      quickchartButtonEl.disabled = true;  // To prevent multiple clicks.\n",
              "      quickchartButtonEl.classList.add('colab-df-spinner');\n",
              "      try {\n",
              "        const charts = await google.colab.kernel.invokeFunction(\n",
              "            'suggestCharts', [key], {});\n",
              "      } catch (error) {\n",
              "        console.error('Error during call to suggestCharts:', error);\n",
              "      }\n",
              "      quickchartButtonEl.classList.remove('colab-df-spinner');\n",
              "      quickchartButtonEl.classList.add('colab-df-quickchart-complete');\n",
              "    }\n",
              "    (() => {\n",
              "      let quickchartButtonEl =\n",
              "        document.querySelector('#df-29dd452a-1019-4838-884c-b373aa8f2502 button');\n",
              "      quickchartButtonEl.style.display =\n",
              "        google.colab.kernel.accessAllowed ? 'block' : 'none';\n",
              "    })();\n",
              "  </script>\n",
              "</div>\n",
              "\n",
              "  <div id=\"id_3c1a361d-bd6d-457d-b325-5f265677845c\">\n",
              "    <style>\n",
              "      .colab-df-generate {\n",
              "        background-color: #E8F0FE;\n",
              "        border: none;\n",
              "        border-radius: 50%;\n",
              "        cursor: pointer;\n",
              "        display: none;\n",
              "        fill: #1967D2;\n",
              "        height: 32px;\n",
              "        padding: 0 0 0 0;\n",
              "        width: 32px;\n",
              "      }\n",
              "\n",
              "      .colab-df-generate:hover {\n",
              "        background-color: #E2EBFA;\n",
              "        box-shadow: 0px 1px 2px rgba(60, 64, 67, 0.3), 0px 1px 3px 1px rgba(60, 64, 67, 0.15);\n",
              "        fill: #174EA6;\n",
              "      }\n",
              "\n",
              "      [theme=dark] .colab-df-generate {\n",
              "        background-color: #3B4455;\n",
              "        fill: #D2E3FC;\n",
              "      }\n",
              "\n",
              "      [theme=dark] .colab-df-generate:hover {\n",
              "        background-color: #434B5C;\n",
              "        box-shadow: 0px 1px 3px 1px rgba(0, 0, 0, 0.15);\n",
              "        filter: drop-shadow(0px 1px 2px rgba(0, 0, 0, 0.3));\n",
              "        fill: #FFFFFF;\n",
              "      }\n",
              "    </style>\n",
              "    <button class=\"colab-df-generate\" onclick=\"generateWithVariable('data12_table')\"\n",
              "            title=\"Generate code using this dataframe.\"\n",
              "            style=\"display:none;\">\n",
              "\n",
              "  <svg xmlns=\"http://www.w3.org/2000/svg\" height=\"24px\"viewBox=\"0 0 24 24\"\n",
              "       width=\"24px\">\n",
              "    <path d=\"M7,19H8.4L18.45,9,17,7.55,7,17.6ZM5,21V16.75L18.45,3.32a2,2,0,0,1,2.83,0l1.4,1.43a1.91,1.91,0,0,1,.58,1.4,1.91,1.91,0,0,1-.58,1.4L9.25,21ZM18.45,9,17,7.55Zm-12,3A5.31,5.31,0,0,0,4.9,8.1,5.31,5.31,0,0,0,1,6.5,5.31,5.31,0,0,0,4.9,4.9,5.31,5.31,0,0,0,6.5,1,5.31,5.31,0,0,0,8.1,4.9,5.31,5.31,0,0,0,12,6.5,5.46,5.46,0,0,0,6.5,12Z\"/>\n",
              "  </svg>\n",
              "    </button>\n",
              "    <script>\n",
              "      (() => {\n",
              "      const buttonEl =\n",
              "        document.querySelector('#id_3c1a361d-bd6d-457d-b325-5f265677845c button.colab-df-generate');\n",
              "      buttonEl.style.display =\n",
              "        google.colab.kernel.accessAllowed ? 'block' : 'none';\n",
              "\n",
              "      buttonEl.onclick = () => {\n",
              "        google.colab.notebook.generateWithVariable('data12_table');\n",
              "      }\n",
              "      })();\n",
              "    </script>\n",
              "  </div>\n",
              "\n",
              "    </div>\n",
              "  </div>\n"
            ],
            "application/vnd.google.colaboratory.intrinsic+json": {
              "type": "dataframe",
              "variable_name": "data12_table",
              "summary": "{\n  \"name\": \"data12_table\",\n  \"rows\": 2,\n  \"fields\": [\n    {\n      \"column\": \"sex\",\n      \"properties\": {\n        \"dtype\": \"string\",\n        \"num_unique_values\": 2,\n        \"samples\": [\n          \"male\",\n          \"female\"\n        ],\n        \"semantic_type\": \"\",\n        \"description\": \"\"\n      }\n    },\n    {\n      \"column\": \"Cherbourg\",\n      \"properties\": {\n        \"dtype\": \"number\",\n        \"std\": 15,\n        \"min\": 73,\n        \"max\": 95,\n        \"num_unique_values\": 2,\n        \"samples\": [\n          95,\n          73\n        ],\n        \"semantic_type\": \"\",\n        \"description\": \"\"\n      }\n    },\n    {\n      \"column\": \"Queenstown\",\n      \"properties\": {\n        \"dtype\": \"number\",\n        \"std\": 3,\n        \"min\": 36,\n        \"max\": 41,\n        \"num_unique_values\": 2,\n        \"samples\": [\n          41,\n          36\n        ],\n        \"semantic_type\": \"\",\n        \"description\": \"\"\n      }\n    },\n    {\n      \"column\": \"Southampton\",\n      \"properties\": {\n        \"dtype\": \"number\",\n        \"std\": 168,\n        \"min\": 203,\n        \"max\": 441,\n        \"num_unique_values\": 2,\n        \"samples\": [\n          441,\n          203\n        ],\n        \"semantic_type\": \"\",\n        \"description\": \"\"\n      }\n    }\n  ]\n}"
            }
          },
          "metadata": {},
          "execution_count": 41
        }
      ]
    },
    {
      "cell_type": "code",
      "source": [
        "observed_values = data12_table.values\n",
        "observed_values"
      ],
      "metadata": {
        "colab": {
          "base_uri": "https://localhost:8080/"
        },
        "id": "ZpD9AalLb9lt",
        "outputId": "c79034eb-e47d-4d01-9b75-3d9b7cf7d75e"
      },
      "execution_count": null,
      "outputs": [
        {
          "output_type": "execute_result",
          "data": {
            "text/plain": [
              "array([[ 73,  36, 203],\n",
              "       [ 95,  41, 441]])"
            ]
          },
          "metadata": {},
          "execution_count": 43
        }
      ]
    },
    {
      "cell_type": "code",
      "source": [
        "from scipy.stats import chi2"
      ],
      "metadata": {
        "id": "W3C-8B7fcYTU"
      },
      "execution_count": null,
      "outputs": []
    },
    {
      "cell_type": "code",
      "source": [
        "# now expected values\n",
        "stats_test12,p12,dof12,expected_value12 = stats.chi2_contingency(observed_values)\n"
      ],
      "metadata": {
        "id": "FDG90i86cFSt"
      },
      "execution_count": null,
      "outputs": []
    },
    {
      "cell_type": "code",
      "source": [
        "expected_value12"
      ],
      "metadata": {
        "colab": {
          "base_uri": "https://localhost:8080/"
        },
        "id": "U0eamTeAckDa",
        "outputId": "e58e0599-4e89-4eae-84a6-757d50b491b3"
      },
      "execution_count": null,
      "outputs": [
        {
          "output_type": "execute_result",
          "data": {
            "text/plain": [
              "array([[ 58.96062992,  27.02362205, 226.01574803],\n",
              "       [109.03937008,  49.97637795, 417.98425197]])"
            ]
          },
          "metadata": {},
          "execution_count": 46
        }
      ]
    },
    {
      "cell_type": "code",
      "source": [
        "dof12"
      ],
      "metadata": {
        "colab": {
          "base_uri": "https://localhost:8080/"
        },
        "id": "i5bsYiQJciv-",
        "outputId": "89d4b618-1d76-49f9-f70e-535f604f34d1"
      },
      "execution_count": null,
      "outputs": [
        {
          "output_type": "execute_result",
          "data": {
            "text/plain": [
              "2"
            ]
          },
          "metadata": {},
          "execution_count": 49
        }
      ]
    },
    {
      "cell_type": "code",
      "source": [
        "alpha12  = 0.05\n",
        "alpha12"
      ],
      "metadata": {
        "colab": {
          "base_uri": "https://localhost:8080/"
        },
        "id": "hXGCP5Fuc3k3",
        "outputId": "1290f0d1-a6dd-4b3d-be68-c3eed9749141"
      },
      "execution_count": null,
      "outputs": [
        {
          "output_type": "execute_result",
          "data": {
            "text/plain": [
              "0.05"
            ]
          },
          "metadata": {},
          "execution_count": 51
        }
      ]
    },
    {
      "cell_type": "code",
      "source": [
        " # now making these value in key_value pair in order to add them together\n",
        "for a in zip(observed_values,expected_value12):\n",
        "  print(a)"
      ],
      "metadata": {
        "colab": {
          "base_uri": "https://localhost:8080/"
        },
        "id": "aPE39MkSc-i2",
        "outputId": "00dc946c-c56a-43fb-cc1f-6fa5873d197b"
      },
      "execution_count": null,
      "outputs": [
        {
          "output_type": "stream",
          "name": "stdout",
          "text": [
            "(array([ 73,  36, 203]), array([ 58.96062992,  27.02362205, 226.01574803]))\n",
            "(array([ 95,  41, 441]), array([109.03937008,  49.97637795, 417.98425197]))\n"
          ]
        }
      ]
    },
    {
      "cell_type": "code",
      "source": [
        "chisqure_test = sum([(0- e) ** 2 / e for o,e in zip(observed_values,expected_value12)])\n",
        "chisqure_test"
      ],
      "metadata": {
        "colab": {
          "base_uri": "https://localhost:8080/"
        },
        "id": "sVtzp6qZdOAo",
        "outputId": "7513b680-f74a-40f7-cbf7-6b314be2f14a"
      },
      "execution_count": null,
      "outputs": [
        {
          "output_type": "execute_result",
          "data": {
            "text/plain": [
              "array([168.,  77., 644.])"
            ]
          },
          "metadata": {},
          "execution_count": 95
        }
      ]
    },
    {
      "cell_type": "code",
      "source": [
        "chisqure_stats = chisqure_test[0] + chisqure_test[1] + chisqure_test[2]\n",
        "chisqure_stats\n"
      ],
      "metadata": {
        "colab": {
          "base_uri": "https://localhost:8080/"
        },
        "id": "FhheDN-6eHek",
        "outputId": "00c9bdbd-aef4-4a17-ffac-6b13267e8a3d"
      },
      "execution_count": null,
      "outputs": [
        {
          "output_type": "execute_result",
          "data": {
            "text/plain": [
              "np.float64(889.0)"
            ]
          },
          "metadata": {},
          "execution_count": 69
        }
      ]
    },
    {
      "cell_type": "code",
      "source": [
        "chi_critical = chi2.ppf(1 - alpha12 ,dof12)"
      ],
      "metadata": {
        "id": "-TdXfmTzedu0"
      },
      "execution_count": null,
      "outputs": []
    },
    {
      "cell_type": "code",
      "source": [
        "if chisqure_stats > chi_critical:\n",
        "  print('we reject the null hypothesis')\n",
        "else:\n",
        "  print('fail to reject the null hypothesis')"
      ],
      "metadata": {
        "colab": {
          "base_uri": "https://localhost:8080/"
        },
        "id": "ddUbCRAcer5n",
        "outputId": "f08561c9-bcc6-4342-8866-3d1c04e85394"
      },
      "execution_count": null,
      "outputs": [
        {
          "output_type": "stream",
          "name": "stdout",
          "text": [
            "we reject the null hypothesis\n"
          ]
        }
      ]
    },
    {
      "cell_type": "code",
      "source": [],
      "metadata": {
        "id": "p71U5TuNfLmt"
      },
      "execution_count": null,
      "outputs": []
    },
    {
      "cell_type": "code",
      "source": [
        "#13  Write a Python program to calculate the expected frequencies for a Chi-square test based on observed data ?\n",
        "sns.get_dataset_names()"
      ],
      "metadata": {
        "colab": {
          "base_uri": "https://localhost:8080/"
        },
        "id": "HL8aQAqlfQ_S",
        "outputId": "df288372-c788-44db-92db-b062ec20a603"
      },
      "execution_count": null,
      "outputs": [
        {
          "output_type": "execute_result",
          "data": {
            "text/plain": [
              "['anagrams',\n",
              " 'anscombe',\n",
              " 'attention',\n",
              " 'brain_networks',\n",
              " 'car_crashes',\n",
              " 'diamonds',\n",
              " 'dots',\n",
              " 'dowjones',\n",
              " 'exercise',\n",
              " 'flights',\n",
              " 'fmri',\n",
              " 'geyser',\n",
              " 'glue',\n",
              " 'healthexp',\n",
              " 'iris',\n",
              " 'mpg',\n",
              " 'penguins',\n",
              " 'planets',\n",
              " 'seaice',\n",
              " 'taxis',\n",
              " 'tips',\n",
              " 'titanic']"
            ]
          },
          "metadata": {},
          "execution_count": 73
        }
      ]
    },
    {
      "cell_type": "code",
      "source": [
        "data13 =sns.load_dataset('taxis')"
      ],
      "metadata": {
        "id": "4p6xvsJxrnlR"
      },
      "execution_count": null,
      "outputs": []
    },
    {
      "cell_type": "code",
      "source": [
        "# now two catogircal data\n",
        "data13[['color','payment']]"
      ],
      "metadata": {
        "colab": {
          "base_uri": "https://localhost:8080/",
          "height": 423
        },
        "id": "raWVHvyRrt7d",
        "outputId": "1f6ed1db-b774-4e07-b051-efd727826938"
      },
      "execution_count": null,
      "outputs": [
        {
          "output_type": "execute_result",
          "data": {
            "text/plain": [
              "       color      payment\n",
              "0     yellow  credit card\n",
              "1     yellow         cash\n",
              "2     yellow  credit card\n",
              "3     yellow  credit card\n",
              "4     yellow  credit card\n",
              "...      ...          ...\n",
              "6428   green  credit card\n",
              "6429   green  credit card\n",
              "6430   green         cash\n",
              "6431   green  credit card\n",
              "6432   green  credit card\n",
              "\n",
              "[6433 rows x 2 columns]"
            ],
            "text/html": [
              "\n",
              "  <div id=\"df-7213699e-173d-4b14-9bd8-d6b2e04e1b51\" class=\"colab-df-container\">\n",
              "    <div>\n",
              "<style scoped>\n",
              "    .dataframe tbody tr th:only-of-type {\n",
              "        vertical-align: middle;\n",
              "    }\n",
              "\n",
              "    .dataframe tbody tr th {\n",
              "        vertical-align: top;\n",
              "    }\n",
              "\n",
              "    .dataframe thead th {\n",
              "        text-align: right;\n",
              "    }\n",
              "</style>\n",
              "<table border=\"1\" class=\"dataframe\">\n",
              "  <thead>\n",
              "    <tr style=\"text-align: right;\">\n",
              "      <th></th>\n",
              "      <th>color</th>\n",
              "      <th>payment</th>\n",
              "    </tr>\n",
              "  </thead>\n",
              "  <tbody>\n",
              "    <tr>\n",
              "      <th>0</th>\n",
              "      <td>yellow</td>\n",
              "      <td>credit card</td>\n",
              "    </tr>\n",
              "    <tr>\n",
              "      <th>1</th>\n",
              "      <td>yellow</td>\n",
              "      <td>cash</td>\n",
              "    </tr>\n",
              "    <tr>\n",
              "      <th>2</th>\n",
              "      <td>yellow</td>\n",
              "      <td>credit card</td>\n",
              "    </tr>\n",
              "    <tr>\n",
              "      <th>3</th>\n",
              "      <td>yellow</td>\n",
              "      <td>credit card</td>\n",
              "    </tr>\n",
              "    <tr>\n",
              "      <th>4</th>\n",
              "      <td>yellow</td>\n",
              "      <td>credit card</td>\n",
              "    </tr>\n",
              "    <tr>\n",
              "      <th>...</th>\n",
              "      <td>...</td>\n",
              "      <td>...</td>\n",
              "    </tr>\n",
              "    <tr>\n",
              "      <th>6428</th>\n",
              "      <td>green</td>\n",
              "      <td>credit card</td>\n",
              "    </tr>\n",
              "    <tr>\n",
              "      <th>6429</th>\n",
              "      <td>green</td>\n",
              "      <td>credit card</td>\n",
              "    </tr>\n",
              "    <tr>\n",
              "      <th>6430</th>\n",
              "      <td>green</td>\n",
              "      <td>cash</td>\n",
              "    </tr>\n",
              "    <tr>\n",
              "      <th>6431</th>\n",
              "      <td>green</td>\n",
              "      <td>credit card</td>\n",
              "    </tr>\n",
              "    <tr>\n",
              "      <th>6432</th>\n",
              "      <td>green</td>\n",
              "      <td>credit card</td>\n",
              "    </tr>\n",
              "  </tbody>\n",
              "</table>\n",
              "<p>6433 rows × 2 columns</p>\n",
              "</div>\n",
              "    <div class=\"colab-df-buttons\">\n",
              "\n",
              "  <div class=\"colab-df-container\">\n",
              "    <button class=\"colab-df-convert\" onclick=\"convertToInteractive('df-7213699e-173d-4b14-9bd8-d6b2e04e1b51')\"\n",
              "            title=\"Convert this dataframe to an interactive table.\"\n",
              "            style=\"display:none;\">\n",
              "\n",
              "  <svg xmlns=\"http://www.w3.org/2000/svg\" height=\"24px\" viewBox=\"0 -960 960 960\">\n",
              "    <path d=\"M120-120v-720h720v720H120Zm60-500h600v-160H180v160Zm220 220h160v-160H400v160Zm0 220h160v-160H400v160ZM180-400h160v-160H180v160Zm440 0h160v-160H620v160ZM180-180h160v-160H180v160Zm440 0h160v-160H620v160Z\"/>\n",
              "  </svg>\n",
              "    </button>\n",
              "\n",
              "  <style>\n",
              "    .colab-df-container {\n",
              "      display:flex;\n",
              "      gap: 12px;\n",
              "    }\n",
              "\n",
              "    .colab-df-convert {\n",
              "      background-color: #E8F0FE;\n",
              "      border: none;\n",
              "      border-radius: 50%;\n",
              "      cursor: pointer;\n",
              "      display: none;\n",
              "      fill: #1967D2;\n",
              "      height: 32px;\n",
              "      padding: 0 0 0 0;\n",
              "      width: 32px;\n",
              "    }\n",
              "\n",
              "    .colab-df-convert:hover {\n",
              "      background-color: #E2EBFA;\n",
              "      box-shadow: 0px 1px 2px rgba(60, 64, 67, 0.3), 0px 1px 3px 1px rgba(60, 64, 67, 0.15);\n",
              "      fill: #174EA6;\n",
              "    }\n",
              "\n",
              "    .colab-df-buttons div {\n",
              "      margin-bottom: 4px;\n",
              "    }\n",
              "\n",
              "    [theme=dark] .colab-df-convert {\n",
              "      background-color: #3B4455;\n",
              "      fill: #D2E3FC;\n",
              "    }\n",
              "\n",
              "    [theme=dark] .colab-df-convert:hover {\n",
              "      background-color: #434B5C;\n",
              "      box-shadow: 0px 1px 3px 1px rgba(0, 0, 0, 0.15);\n",
              "      filter: drop-shadow(0px 1px 2px rgba(0, 0, 0, 0.3));\n",
              "      fill: #FFFFFF;\n",
              "    }\n",
              "  </style>\n",
              "\n",
              "    <script>\n",
              "      const buttonEl =\n",
              "        document.querySelector('#df-7213699e-173d-4b14-9bd8-d6b2e04e1b51 button.colab-df-convert');\n",
              "      buttonEl.style.display =\n",
              "        google.colab.kernel.accessAllowed ? 'block' : 'none';\n",
              "\n",
              "      async function convertToInteractive(key) {\n",
              "        const element = document.querySelector('#df-7213699e-173d-4b14-9bd8-d6b2e04e1b51');\n",
              "        const dataTable =\n",
              "          await google.colab.kernel.invokeFunction('convertToInteractive',\n",
              "                                                    [key], {});\n",
              "        if (!dataTable) return;\n",
              "\n",
              "        const docLinkHtml = 'Like what you see? Visit the ' +\n",
              "          '<a target=\"_blank\" href=https://colab.research.google.com/notebooks/data_table.ipynb>data table notebook</a>'\n",
              "          + ' to learn more about interactive tables.';\n",
              "        element.innerHTML = '';\n",
              "        dataTable['output_type'] = 'display_data';\n",
              "        await google.colab.output.renderOutput(dataTable, element);\n",
              "        const docLink = document.createElement('div');\n",
              "        docLink.innerHTML = docLinkHtml;\n",
              "        element.appendChild(docLink);\n",
              "      }\n",
              "    </script>\n",
              "  </div>\n",
              "\n",
              "\n",
              "<div id=\"df-2da161b0-f94c-4f3a-8546-ac688c0e248a\">\n",
              "  <button class=\"colab-df-quickchart\" onclick=\"quickchart('df-2da161b0-f94c-4f3a-8546-ac688c0e248a')\"\n",
              "            title=\"Suggest charts\"\n",
              "            style=\"display:none;\">\n",
              "\n",
              "<svg xmlns=\"http://www.w3.org/2000/svg\" height=\"24px\"viewBox=\"0 0 24 24\"\n",
              "     width=\"24px\">\n",
              "    <g>\n",
              "        <path d=\"M19 3H5c-1.1 0-2 .9-2 2v14c0 1.1.9 2 2 2h14c1.1 0 2-.9 2-2V5c0-1.1-.9-2-2-2zM9 17H7v-7h2v7zm4 0h-2V7h2v10zm4 0h-2v-4h2v4z\"/>\n",
              "    </g>\n",
              "</svg>\n",
              "  </button>\n",
              "\n",
              "<style>\n",
              "  .colab-df-quickchart {\n",
              "      --bg-color: #E8F0FE;\n",
              "      --fill-color: #1967D2;\n",
              "      --hover-bg-color: #E2EBFA;\n",
              "      --hover-fill-color: #174EA6;\n",
              "      --disabled-fill-color: #AAA;\n",
              "      --disabled-bg-color: #DDD;\n",
              "  }\n",
              "\n",
              "  [theme=dark] .colab-df-quickchart {\n",
              "      --bg-color: #3B4455;\n",
              "      --fill-color: #D2E3FC;\n",
              "      --hover-bg-color: #434B5C;\n",
              "      --hover-fill-color: #FFFFFF;\n",
              "      --disabled-bg-color: #3B4455;\n",
              "      --disabled-fill-color: #666;\n",
              "  }\n",
              "\n",
              "  .colab-df-quickchart {\n",
              "    background-color: var(--bg-color);\n",
              "    border: none;\n",
              "    border-radius: 50%;\n",
              "    cursor: pointer;\n",
              "    display: none;\n",
              "    fill: var(--fill-color);\n",
              "    height: 32px;\n",
              "    padding: 0;\n",
              "    width: 32px;\n",
              "  }\n",
              "\n",
              "  .colab-df-quickchart:hover {\n",
              "    background-color: var(--hover-bg-color);\n",
              "    box-shadow: 0 1px 2px rgba(60, 64, 67, 0.3), 0 1px 3px 1px rgba(60, 64, 67, 0.15);\n",
              "    fill: var(--button-hover-fill-color);\n",
              "  }\n",
              "\n",
              "  .colab-df-quickchart-complete:disabled,\n",
              "  .colab-df-quickchart-complete:disabled:hover {\n",
              "    background-color: var(--disabled-bg-color);\n",
              "    fill: var(--disabled-fill-color);\n",
              "    box-shadow: none;\n",
              "  }\n",
              "\n",
              "  .colab-df-spinner {\n",
              "    border: 2px solid var(--fill-color);\n",
              "    border-color: transparent;\n",
              "    border-bottom-color: var(--fill-color);\n",
              "    animation:\n",
              "      spin 1s steps(1) infinite;\n",
              "  }\n",
              "\n",
              "  @keyframes spin {\n",
              "    0% {\n",
              "      border-color: transparent;\n",
              "      border-bottom-color: var(--fill-color);\n",
              "      border-left-color: var(--fill-color);\n",
              "    }\n",
              "    20% {\n",
              "      border-color: transparent;\n",
              "      border-left-color: var(--fill-color);\n",
              "      border-top-color: var(--fill-color);\n",
              "    }\n",
              "    30% {\n",
              "      border-color: transparent;\n",
              "      border-left-color: var(--fill-color);\n",
              "      border-top-color: var(--fill-color);\n",
              "      border-right-color: var(--fill-color);\n",
              "    }\n",
              "    40% {\n",
              "      border-color: transparent;\n",
              "      border-right-color: var(--fill-color);\n",
              "      border-top-color: var(--fill-color);\n",
              "    }\n",
              "    60% {\n",
              "      border-color: transparent;\n",
              "      border-right-color: var(--fill-color);\n",
              "    }\n",
              "    80% {\n",
              "      border-color: transparent;\n",
              "      border-right-color: var(--fill-color);\n",
              "      border-bottom-color: var(--fill-color);\n",
              "    }\n",
              "    90% {\n",
              "      border-color: transparent;\n",
              "      border-bottom-color: var(--fill-color);\n",
              "    }\n",
              "  }\n",
              "</style>\n",
              "\n",
              "  <script>\n",
              "    async function quickchart(key) {\n",
              "      const quickchartButtonEl =\n",
              "        document.querySelector('#' + key + ' button');\n",
              "      quickchartButtonEl.disabled = true;  // To prevent multiple clicks.\n",
              "      quickchartButtonEl.classList.add('colab-df-spinner');\n",
              "      try {\n",
              "        const charts = await google.colab.kernel.invokeFunction(\n",
              "            'suggestCharts', [key], {});\n",
              "      } catch (error) {\n",
              "        console.error('Error during call to suggestCharts:', error);\n",
              "      }\n",
              "      quickchartButtonEl.classList.remove('colab-df-spinner');\n",
              "      quickchartButtonEl.classList.add('colab-df-quickchart-complete');\n",
              "    }\n",
              "    (() => {\n",
              "      let quickchartButtonEl =\n",
              "        document.querySelector('#df-2da161b0-f94c-4f3a-8546-ac688c0e248a button');\n",
              "      quickchartButtonEl.style.display =\n",
              "        google.colab.kernel.accessAllowed ? 'block' : 'none';\n",
              "    })();\n",
              "  </script>\n",
              "</div>\n",
              "\n",
              "    </div>\n",
              "  </div>\n"
            ],
            "application/vnd.google.colaboratory.intrinsic+json": {
              "type": "dataframe",
              "summary": "{\n  \"name\": \"data13[['color','payment']]\",\n  \"rows\": 6433,\n  \"fields\": [\n    {\n      \"column\": \"color\",\n      \"properties\": {\n        \"dtype\": \"category\",\n        \"num_unique_values\": 2,\n        \"samples\": [\n          \"green\",\n          \"yellow\"\n        ],\n        \"semantic_type\": \"\",\n        \"description\": \"\"\n      }\n    },\n    {\n      \"column\": \"payment\",\n      \"properties\": {\n        \"dtype\": \"category\",\n        \"num_unique_values\": 2,\n        \"samples\": [\n          \"cash\",\n          \"credit card\"\n        ],\n        \"semantic_type\": \"\",\n        \"description\": \"\"\n      }\n    }\n  ]\n}"
            }
          },
          "metadata": {},
          "execution_count": 78
        }
      ]
    },
    {
      "cell_type": "code",
      "source": [
        "data13_table =pd.crosstab(data13['color'],data13['payment'])\n",
        "data13_table"
      ],
      "metadata": {
        "colab": {
          "base_uri": "https://localhost:8080/",
          "height": 143
        },
        "id": "6sBoq4iTt4JZ",
        "outputId": "8e1e8b3c-11c2-4d3f-f4cc-5a5fabcf6816"
      },
      "execution_count": null,
      "outputs": [
        {
          "output_type": "execute_result",
          "data": {
            "text/plain": [
              "payment  cash  credit card\n",
              "color                     \n",
              "green     400          577\n",
              "yellow   1412         4000"
            ],
            "text/html": [
              "\n",
              "  <div id=\"df-e01b89cb-4970-4b20-b9a1-ceda252ec8d4\" class=\"colab-df-container\">\n",
              "    <div>\n",
              "<style scoped>\n",
              "    .dataframe tbody tr th:only-of-type {\n",
              "        vertical-align: middle;\n",
              "    }\n",
              "\n",
              "    .dataframe tbody tr th {\n",
              "        vertical-align: top;\n",
              "    }\n",
              "\n",
              "    .dataframe thead th {\n",
              "        text-align: right;\n",
              "    }\n",
              "</style>\n",
              "<table border=\"1\" class=\"dataframe\">\n",
              "  <thead>\n",
              "    <tr style=\"text-align: right;\">\n",
              "      <th>payment</th>\n",
              "      <th>cash</th>\n",
              "      <th>credit card</th>\n",
              "    </tr>\n",
              "    <tr>\n",
              "      <th>color</th>\n",
              "      <th></th>\n",
              "      <th></th>\n",
              "    </tr>\n",
              "  </thead>\n",
              "  <tbody>\n",
              "    <tr>\n",
              "      <th>green</th>\n",
              "      <td>400</td>\n",
              "      <td>577</td>\n",
              "    </tr>\n",
              "    <tr>\n",
              "      <th>yellow</th>\n",
              "      <td>1412</td>\n",
              "      <td>4000</td>\n",
              "    </tr>\n",
              "  </tbody>\n",
              "</table>\n",
              "</div>\n",
              "    <div class=\"colab-df-buttons\">\n",
              "\n",
              "  <div class=\"colab-df-container\">\n",
              "    <button class=\"colab-df-convert\" onclick=\"convertToInteractive('df-e01b89cb-4970-4b20-b9a1-ceda252ec8d4')\"\n",
              "            title=\"Convert this dataframe to an interactive table.\"\n",
              "            style=\"display:none;\">\n",
              "\n",
              "  <svg xmlns=\"http://www.w3.org/2000/svg\" height=\"24px\" viewBox=\"0 -960 960 960\">\n",
              "    <path d=\"M120-120v-720h720v720H120Zm60-500h600v-160H180v160Zm220 220h160v-160H400v160Zm0 220h160v-160H400v160ZM180-400h160v-160H180v160Zm440 0h160v-160H620v160ZM180-180h160v-160H180v160Zm440 0h160v-160H620v160Z\"/>\n",
              "  </svg>\n",
              "    </button>\n",
              "\n",
              "  <style>\n",
              "    .colab-df-container {\n",
              "      display:flex;\n",
              "      gap: 12px;\n",
              "    }\n",
              "\n",
              "    .colab-df-convert {\n",
              "      background-color: #E8F0FE;\n",
              "      border: none;\n",
              "      border-radius: 50%;\n",
              "      cursor: pointer;\n",
              "      display: none;\n",
              "      fill: #1967D2;\n",
              "      height: 32px;\n",
              "      padding: 0 0 0 0;\n",
              "      width: 32px;\n",
              "    }\n",
              "\n",
              "    .colab-df-convert:hover {\n",
              "      background-color: #E2EBFA;\n",
              "      box-shadow: 0px 1px 2px rgba(60, 64, 67, 0.3), 0px 1px 3px 1px rgba(60, 64, 67, 0.15);\n",
              "      fill: #174EA6;\n",
              "    }\n",
              "\n",
              "    .colab-df-buttons div {\n",
              "      margin-bottom: 4px;\n",
              "    }\n",
              "\n",
              "    [theme=dark] .colab-df-convert {\n",
              "      background-color: #3B4455;\n",
              "      fill: #D2E3FC;\n",
              "    }\n",
              "\n",
              "    [theme=dark] .colab-df-convert:hover {\n",
              "      background-color: #434B5C;\n",
              "      box-shadow: 0px 1px 3px 1px rgba(0, 0, 0, 0.15);\n",
              "      filter: drop-shadow(0px 1px 2px rgba(0, 0, 0, 0.3));\n",
              "      fill: #FFFFFF;\n",
              "    }\n",
              "  </style>\n",
              "\n",
              "    <script>\n",
              "      const buttonEl =\n",
              "        document.querySelector('#df-e01b89cb-4970-4b20-b9a1-ceda252ec8d4 button.colab-df-convert');\n",
              "      buttonEl.style.display =\n",
              "        google.colab.kernel.accessAllowed ? 'block' : 'none';\n",
              "\n",
              "      async function convertToInteractive(key) {\n",
              "        const element = document.querySelector('#df-e01b89cb-4970-4b20-b9a1-ceda252ec8d4');\n",
              "        const dataTable =\n",
              "          await google.colab.kernel.invokeFunction('convertToInteractive',\n",
              "                                                    [key], {});\n",
              "        if (!dataTable) return;\n",
              "\n",
              "        const docLinkHtml = 'Like what you see? Visit the ' +\n",
              "          '<a target=\"_blank\" href=https://colab.research.google.com/notebooks/data_table.ipynb>data table notebook</a>'\n",
              "          + ' to learn more about interactive tables.';\n",
              "        element.innerHTML = '';\n",
              "        dataTable['output_type'] = 'display_data';\n",
              "        await google.colab.output.renderOutput(dataTable, element);\n",
              "        const docLink = document.createElement('div');\n",
              "        docLink.innerHTML = docLinkHtml;\n",
              "        element.appendChild(docLink);\n",
              "      }\n",
              "    </script>\n",
              "  </div>\n",
              "\n",
              "\n",
              "<div id=\"df-c262096e-69c0-4892-ae67-b1f0ebc36485\">\n",
              "  <button class=\"colab-df-quickchart\" onclick=\"quickchart('df-c262096e-69c0-4892-ae67-b1f0ebc36485')\"\n",
              "            title=\"Suggest charts\"\n",
              "            style=\"display:none;\">\n",
              "\n",
              "<svg xmlns=\"http://www.w3.org/2000/svg\" height=\"24px\"viewBox=\"0 0 24 24\"\n",
              "     width=\"24px\">\n",
              "    <g>\n",
              "        <path d=\"M19 3H5c-1.1 0-2 .9-2 2v14c0 1.1.9 2 2 2h14c1.1 0 2-.9 2-2V5c0-1.1-.9-2-2-2zM9 17H7v-7h2v7zm4 0h-2V7h2v10zm4 0h-2v-4h2v4z\"/>\n",
              "    </g>\n",
              "</svg>\n",
              "  </button>\n",
              "\n",
              "<style>\n",
              "  .colab-df-quickchart {\n",
              "      --bg-color: #E8F0FE;\n",
              "      --fill-color: #1967D2;\n",
              "      --hover-bg-color: #E2EBFA;\n",
              "      --hover-fill-color: #174EA6;\n",
              "      --disabled-fill-color: #AAA;\n",
              "      --disabled-bg-color: #DDD;\n",
              "  }\n",
              "\n",
              "  [theme=dark] .colab-df-quickchart {\n",
              "      --bg-color: #3B4455;\n",
              "      --fill-color: #D2E3FC;\n",
              "      --hover-bg-color: #434B5C;\n",
              "      --hover-fill-color: #FFFFFF;\n",
              "      --disabled-bg-color: #3B4455;\n",
              "      --disabled-fill-color: #666;\n",
              "  }\n",
              "\n",
              "  .colab-df-quickchart {\n",
              "    background-color: var(--bg-color);\n",
              "    border: none;\n",
              "    border-radius: 50%;\n",
              "    cursor: pointer;\n",
              "    display: none;\n",
              "    fill: var(--fill-color);\n",
              "    height: 32px;\n",
              "    padding: 0;\n",
              "    width: 32px;\n",
              "  }\n",
              "\n",
              "  .colab-df-quickchart:hover {\n",
              "    background-color: var(--hover-bg-color);\n",
              "    box-shadow: 0 1px 2px rgba(60, 64, 67, 0.3), 0 1px 3px 1px rgba(60, 64, 67, 0.15);\n",
              "    fill: var(--button-hover-fill-color);\n",
              "  }\n",
              "\n",
              "  .colab-df-quickchart-complete:disabled,\n",
              "  .colab-df-quickchart-complete:disabled:hover {\n",
              "    background-color: var(--disabled-bg-color);\n",
              "    fill: var(--disabled-fill-color);\n",
              "    box-shadow: none;\n",
              "  }\n",
              "\n",
              "  .colab-df-spinner {\n",
              "    border: 2px solid var(--fill-color);\n",
              "    border-color: transparent;\n",
              "    border-bottom-color: var(--fill-color);\n",
              "    animation:\n",
              "      spin 1s steps(1) infinite;\n",
              "  }\n",
              "\n",
              "  @keyframes spin {\n",
              "    0% {\n",
              "      border-color: transparent;\n",
              "      border-bottom-color: var(--fill-color);\n",
              "      border-left-color: var(--fill-color);\n",
              "    }\n",
              "    20% {\n",
              "      border-color: transparent;\n",
              "      border-left-color: var(--fill-color);\n",
              "      border-top-color: var(--fill-color);\n",
              "    }\n",
              "    30% {\n",
              "      border-color: transparent;\n",
              "      border-left-color: var(--fill-color);\n",
              "      border-top-color: var(--fill-color);\n",
              "      border-right-color: var(--fill-color);\n",
              "    }\n",
              "    40% {\n",
              "      border-color: transparent;\n",
              "      border-right-color: var(--fill-color);\n",
              "      border-top-color: var(--fill-color);\n",
              "    }\n",
              "    60% {\n",
              "      border-color: transparent;\n",
              "      border-right-color: var(--fill-color);\n",
              "    }\n",
              "    80% {\n",
              "      border-color: transparent;\n",
              "      border-right-color: var(--fill-color);\n",
              "      border-bottom-color: var(--fill-color);\n",
              "    }\n",
              "    90% {\n",
              "      border-color: transparent;\n",
              "      border-bottom-color: var(--fill-color);\n",
              "    }\n",
              "  }\n",
              "</style>\n",
              "\n",
              "  <script>\n",
              "    async function quickchart(key) {\n",
              "      const quickchartButtonEl =\n",
              "        document.querySelector('#' + key + ' button');\n",
              "      quickchartButtonEl.disabled = true;  // To prevent multiple clicks.\n",
              "      quickchartButtonEl.classList.add('colab-df-spinner');\n",
              "      try {\n",
              "        const charts = await google.colab.kernel.invokeFunction(\n",
              "            'suggestCharts', [key], {});\n",
              "      } catch (error) {\n",
              "        console.error('Error during call to suggestCharts:', error);\n",
              "      }\n",
              "      quickchartButtonEl.classList.remove('colab-df-spinner');\n",
              "      quickchartButtonEl.classList.add('colab-df-quickchart-complete');\n",
              "    }\n",
              "    (() => {\n",
              "      let quickchartButtonEl =\n",
              "        document.querySelector('#df-c262096e-69c0-4892-ae67-b1f0ebc36485 button');\n",
              "      quickchartButtonEl.style.display =\n",
              "        google.colab.kernel.accessAllowed ? 'block' : 'none';\n",
              "    })();\n",
              "  </script>\n",
              "</div>\n",
              "\n",
              "  <div id=\"id_7ca91aed-5760-4db0-9c54-e82579592576\">\n",
              "    <style>\n",
              "      .colab-df-generate {\n",
              "        background-color: #E8F0FE;\n",
              "        border: none;\n",
              "        border-radius: 50%;\n",
              "        cursor: pointer;\n",
              "        display: none;\n",
              "        fill: #1967D2;\n",
              "        height: 32px;\n",
              "        padding: 0 0 0 0;\n",
              "        width: 32px;\n",
              "      }\n",
              "\n",
              "      .colab-df-generate:hover {\n",
              "        background-color: #E2EBFA;\n",
              "        box-shadow: 0px 1px 2px rgba(60, 64, 67, 0.3), 0px 1px 3px 1px rgba(60, 64, 67, 0.15);\n",
              "        fill: #174EA6;\n",
              "      }\n",
              "\n",
              "      [theme=dark] .colab-df-generate {\n",
              "        background-color: #3B4455;\n",
              "        fill: #D2E3FC;\n",
              "      }\n",
              "\n",
              "      [theme=dark] .colab-df-generate:hover {\n",
              "        background-color: #434B5C;\n",
              "        box-shadow: 0px 1px 3px 1px rgba(0, 0, 0, 0.15);\n",
              "        filter: drop-shadow(0px 1px 2px rgba(0, 0, 0, 0.3));\n",
              "        fill: #FFFFFF;\n",
              "      }\n",
              "    </style>\n",
              "    <button class=\"colab-df-generate\" onclick=\"generateWithVariable('data13_table')\"\n",
              "            title=\"Generate code using this dataframe.\"\n",
              "            style=\"display:none;\">\n",
              "\n",
              "  <svg xmlns=\"http://www.w3.org/2000/svg\" height=\"24px\"viewBox=\"0 0 24 24\"\n",
              "       width=\"24px\">\n",
              "    <path d=\"M7,19H8.4L18.45,9,17,7.55,7,17.6ZM5,21V16.75L18.45,3.32a2,2,0,0,1,2.83,0l1.4,1.43a1.91,1.91,0,0,1,.58,1.4,1.91,1.91,0,0,1-.58,1.4L9.25,21ZM18.45,9,17,7.55Zm-12,3A5.31,5.31,0,0,0,4.9,8.1,5.31,5.31,0,0,0,1,6.5,5.31,5.31,0,0,0,4.9,4.9,5.31,5.31,0,0,0,6.5,1,5.31,5.31,0,0,0,8.1,4.9,5.31,5.31,0,0,0,12,6.5,5.46,5.46,0,0,0,6.5,12Z\"/>\n",
              "  </svg>\n",
              "    </button>\n",
              "    <script>\n",
              "      (() => {\n",
              "      const buttonEl =\n",
              "        document.querySelector('#id_7ca91aed-5760-4db0-9c54-e82579592576 button.colab-df-generate');\n",
              "      buttonEl.style.display =\n",
              "        google.colab.kernel.accessAllowed ? 'block' : 'none';\n",
              "\n",
              "      buttonEl.onclick = () => {\n",
              "        google.colab.notebook.generateWithVariable('data13_table');\n",
              "      }\n",
              "      })();\n",
              "    </script>\n",
              "  </div>\n",
              "\n",
              "    </div>\n",
              "  </div>\n"
            ],
            "application/vnd.google.colaboratory.intrinsic+json": {
              "type": "dataframe",
              "variable_name": "data13_table",
              "summary": "{\n  \"name\": \"data13_table\",\n  \"rows\": 2,\n  \"fields\": [\n    {\n      \"column\": \"color\",\n      \"properties\": {\n        \"dtype\": \"string\",\n        \"num_unique_values\": 2,\n        \"samples\": [\n          \"yellow\",\n          \"green\"\n        ],\n        \"semantic_type\": \"\",\n        \"description\": \"\"\n      }\n    },\n    {\n      \"column\": \"cash\",\n      \"properties\": {\n        \"dtype\": \"number\",\n        \"std\": 715,\n        \"min\": 400,\n        \"max\": 1412,\n        \"num_unique_values\": 2,\n        \"samples\": [\n          1412,\n          400\n        ],\n        \"semantic_type\": \"\",\n        \"description\": \"\"\n      }\n    },\n    {\n      \"column\": \"credit card\",\n      \"properties\": {\n        \"dtype\": \"number\",\n        \"std\": 2420,\n        \"min\": 577,\n        \"max\": 4000,\n        \"num_unique_values\": 2,\n        \"samples\": [\n          4000,\n          577\n        ],\n        \"semantic_type\": \"\",\n        \"description\": \"\"\n      }\n    }\n  ]\n}"
            }
          },
          "metadata": {},
          "execution_count": 79
        }
      ]
    },
    {
      "cell_type": "code",
      "source": [
        "observed_values13 = data13_table.values\n",
        "observed_values13"
      ],
      "metadata": {
        "colab": {
          "base_uri": "https://localhost:8080/"
        },
        "id": "QCe-5A4DuQtY",
        "outputId": "e0b86bde-20ca-4ef4-8379-e523319afb8a"
      },
      "execution_count": null,
      "outputs": [
        {
          "output_type": "execute_result",
          "data": {
            "text/plain": [
              "array([[ 400,  577],\n",
              "       [1412, 4000]])"
            ]
          },
          "metadata": {},
          "execution_count": 85
        }
      ]
    },
    {
      "cell_type": "code",
      "source": [
        "# now expoected freuncy out from observed values\n",
        "ch2_13,p13,dof13,ex_fre13 = stats.chi2_contingency(observed_values13)\n"
      ],
      "metadata": {
        "id": "iLxdafNTvHPG"
      },
      "execution_count": null,
      "outputs": []
    },
    {
      "cell_type": "code",
      "source": [
        "print('our expected frequncy is: ',ex_fre13)"
      ],
      "metadata": {
        "colab": {
          "base_uri": "https://localhost:8080/"
        },
        "id": "XbnMGPXhv4-k",
        "outputId": "c97ad5c6-c32f-41f1-b786-bb1d01dc1679"
      },
      "execution_count": null,
      "outputs": [
        {
          "output_type": "stream",
          "name": "stdout",
          "text": [
            "our expected frequncy is:  [[ 277.08937236  699.91062764]\n",
            " [1534.91062764 3877.08937236]]\n"
          ]
        }
      ]
    },
    {
      "cell_type": "code",
      "source": [
        "# now further exceding the qustion\n"
      ],
      "metadata": {
        "colab": {
          "base_uri": "https://localhost:8080/"
        },
        "id": "HggGk30nwWHs",
        "outputId": "aaf5cf84-14ac-4bee-a640-b6daeec397fc"
      },
      "execution_count": null,
      "outputs": [
        {
          "output_type": "execute_result",
          "data": {
            "text/plain": [
              "2"
            ]
          },
          "metadata": {},
          "execution_count": 89
        }
      ]
    },
    {
      "cell_type": "code",
      "source": [
        "# chi stats\n",
        "for z in zip(observed_values13,ex_fre13):\n",
        "  print(z)"
      ],
      "metadata": {
        "colab": {
          "base_uri": "https://localhost:8080/"
        },
        "id": "9slEkBE9wb_X",
        "outputId": "9c6479d9-1f99-4d0a-cb44-c0734229ec99"
      },
      "execution_count": null,
      "outputs": [
        {
          "output_type": "stream",
          "name": "stdout",
          "text": [
            "(array([400, 577]), array([277.08937236, 699.91062764]))\n",
            "(array([1412, 4000]), array([1534.91062764, 3877.08937236]))\n"
          ]
        }
      ]
    },
    {
      "cell_type": "code",
      "source": [
        "chi_test13 = sum([(o-e) ** 2 / e for o,e in zip(observed_values13,ex_fre13)])\n",
        "chi_test13"
      ],
      "metadata": {
        "colab": {
          "base_uri": "https://localhost:8080/"
        },
        "id": "V15WP-Tmx5uq",
        "outputId": "31716ff2-48f5-4812-8311-25d094c49f32"
      },
      "execution_count": null,
      "outputs": [
        {
          "output_type": "execute_result",
          "data": {
            "text/plain": [
              "array([64.36267773, 25.48070178])"
            ]
          },
          "metadata": {},
          "execution_count": 98
        }
      ]
    },
    {
      "cell_type": "code",
      "source": [
        "chi_stats13 = chi_test13[0] + chi_test13[1]\n",
        "chi_stats13"
      ],
      "metadata": {
        "colab": {
          "base_uri": "https://localhost:8080/"
        },
        "id": "BmU4gEhxyd53",
        "outputId": "6d588b28-617e-4dde-a1ad-f8f1c8556bfd"
      },
      "execution_count": null,
      "outputs": [
        {
          "output_type": "execute_result",
          "data": {
            "text/plain": [
              "np.float64(89.84337950623784)"
            ]
          },
          "metadata": {},
          "execution_count": 99
        }
      ]
    },
    {
      "cell_type": "code",
      "source": [
        "chi_critical13 =stats.chi2.ppf(1 - alpha12 ,dof13)\n",
        "chi_critical13"
      ],
      "metadata": {
        "colab": {
          "base_uri": "https://localhost:8080/"
        },
        "id": "ltHYPwx10AEa",
        "outputId": "0ca3406e-8bf9-4cfe-9980-5928a005326d"
      },
      "execution_count": null,
      "outputs": [
        {
          "output_type": "execute_result",
          "data": {
            "text/plain": [
              "np.float64(3.841458820694124)"
            ]
          },
          "metadata": {},
          "execution_count": 100
        }
      ]
    },
    {
      "cell_type": "code",
      "source": [
        "if chi_stats13 > chi_critical13:\n",
        "  print('we reject the null hypothesis')\n",
        "else:\n",
        "  print('fail to reject the null hypothesis')\n",
        "# this is the complete solution of this qusition ater getting expected frequncy out of observed values"
      ],
      "metadata": {
        "colab": {
          "base_uri": "https://localhost:8080/"
        },
        "id": "FuNtZFM10sBg",
        "outputId": "ae3746f1-83e5-49ff-dd43-5e05f8748cc9"
      },
      "execution_count": null,
      "outputs": [
        {
          "output_type": "stream",
          "name": "stdout",
          "text": [
            "we reject the null hypothesis\n"
          ]
        }
      ]
    },
    {
      "cell_type": "code",
      "source": [],
      "metadata": {
        "id": "8pI7Yw0x1B5w"
      },
      "execution_count": null,
      "outputs": []
    },
    {
      "cell_type": "code",
      "source": [
        "# 14.  Perform a goodness-of-fit test using Python to compare the observed data to an expected distribution\n",
        "# godness of fit test is also known as chi squre test\n",
        "observed14 = np.array([15,25,20,10,30,20])\n",
        "expected14_a = np.array([20,20,20,20,20,20])\n"
      ],
      "metadata": {
        "id": "0TZfMeFO1FSW"
      },
      "execution_count": null,
      "outputs": []
    },
    {
      "cell_type": "code",
      "source": [
        "chi_stats14,p_value14 = stats.chisquare(observed14,expected14_a)\n"
      ],
      "metadata": {
        "id": "Efp2jH8x5CM-"
      },
      "execution_count": null,
      "outputs": []
    },
    {
      "cell_type": "code",
      "source": [
        "alpha14 =0.05"
      ],
      "metadata": {
        "id": "9fh_Erph6Hon"
      },
      "execution_count": null,
      "outputs": []
    },
    {
      "cell_type": "code",
      "source": [
        "if p_value14 < alpha14:\n",
        "  print('we reject the null hypothesis')\n",
        "else:\n",
        "  print('fail to reject the null hypothesis')"
      ],
      "metadata": {
        "colab": {
          "base_uri": "https://localhost:8080/"
        },
        "id": "SJxgCps_8QFJ",
        "outputId": "c302bf15-b51e-41f0-a45c-357e1d84990b"
      },
      "execution_count": null,
      "outputs": [
        {
          "output_type": "stream",
          "name": "stdout",
          "text": [
            "we reject the null hypothesis\n"
          ]
        }
      ]
    },
    {
      "cell_type": "code",
      "source": [
        "chi_stats14"
      ],
      "metadata": {
        "colab": {
          "base_uri": "https://localhost:8080/"
        },
        "id": "A71MLbrH8mLq",
        "outputId": "ccc165bc-0251-416b-8086-6eeaa7a3174b"
      },
      "execution_count": null,
      "outputs": [
        {
          "output_type": "execute_result",
          "data": {
            "text/plain": [
              "np.float64(12.5)"
            ]
          },
          "metadata": {},
          "execution_count": 128
        }
      ]
    },
    {
      "cell_type": "code",
      "source": [],
      "metadata": {
        "id": "Z1oFBBvH82aJ"
      },
      "execution_count": null,
      "outputs": []
    },
    {
      "cell_type": "code",
      "source": [
        "#15.  Create a Python script to simulate and visualize the Chi-square distribution and discuss its characteristics ?\n",
        "# making a plot using chi squre distribtion\n",
        "df15  = 13\n",
        "size15 = 5000\n",
        "chi_squre15 = np.random.chisquare(df15,size15)\n",
        "c = chi_squre15\n",
        "c = c[np.where(abs(c) < 200)]\n",
        "\n",
        "plt.hist(c,bins=50,color='skyblue')\n",
        "plt.title('chi_squre_distirbution')\n",
        "plt.xlabel('values')\n",
        "plt.ylabel('density')\n",
        "plt.show()"
      ],
      "metadata": {
        "colab": {
          "base_uri": "https://localhost:8080/",
          "height": 472
        },
        "id": "JdYw9NmA-qsc",
        "outputId": "0af7e775-edfb-44ce-919a-485345db7ddc"
      },
      "execution_count": null,
      "outputs": [
        {
          "output_type": "display_data",
          "data": {
            "text/plain": [
              "<Figure size 640x480 with 1 Axes>"
            ],
            "image/png": "[encoded data removed]"
          },
          "metadata": {}
        }
      ]
    },
    {
      "cell_type": "code",
      "source": [],
      "metadata": {
        "id": "1tu4_5uvEmxU"
      },
      "execution_count": null,
      "outputs": []
    },
    {
      "cell_type": "code",
      "source": [
        "#16 . Implement an F-test using Python to compare the variances of two random samples ?\n",
        "# first creating two random samples for further calculation\n",
        "data_a16 = np.random.normal(loc=40,scale=12,size=300)\n",
        "data_b16 = np.random.normal(loc=38,scale=16,size=300)\n",
        "data_b16"
      ],
      "metadata": {
        "colab": {
          "base_uri": "https://localhost:8080/"
        },
        "id": "VRMwS9G9EoTC",
        "outputId": "4d1f5503-7b61-442f-cc15-51a05a949457"
      },
      "execution_count": null,
      "outputs": [
        {
          "output_type": "execute_result",
          "data": {
            "text/plain": [
              "array([ 2.60406835e+01,  2.98793535e+01,  4.37274500e+01,  6.94552102e+01,\n",
              "        5.20531418e+01,  2.05368350e+01,  4.68864115e+01,  3.69703947e+01,\n",
              "        2.18120938e+01,  3.58063106e+01,  1.75544877e+01,  4.69299420e+01,\n",
              "        4.35549298e+01,  3.29125337e+01,  2.94930290e+01,  5.03951273e+01,\n",
              "        2.61326826e+01,  2.62390162e+01,  2.62351007e+01,  4.55133455e+01,\n",
              "        3.98515309e+01,  3.42151840e+01,  4.71869594e+01,  2.61428189e+01,\n",
              "        2.86811528e+01,  1.76673239e+01,  4.99084338e+01,  7.86615793e+01,\n",
              "        3.37465230e+01,  5.74656706e+01,  2.22549603e+01,  5.00256908e+01,\n",
              "        4.08352112e+01,  4.52485331e+01,  3.35838372e+01,  2.80899182e+01,\n",
              "        8.62150762e+00,  2.77968794e+01,  2.32931990e+01,  3.48625870e+01,\n",
              "        4.28378769e+01,  3.50373261e+01,  6.06006379e+01,  6.56311649e+01,\n",
              "        2.31401473e+01,  3.08691417e+01,  3.27845292e+01,  2.86767636e+01,\n",
              "        1.59264007e+01,  5.06170836e+01,  1.46522007e+01, -2.70219652e-02,\n",
              "        4.41753188e+01,  5.38303152e+01,  2.24554977e+01,  4.17850299e+01,\n",
              "        1.39755554e+01,  3.18251936e+01,  5.83638601e+01,  3.98403581e+01,\n",
              "        4.05085630e+01,  4.53033484e+01,  3.23667108e+01,  5.56750552e+01,\n",
              "        2.74606429e+01,  3.11995760e+01,  2.80118534e+01,  2.88883389e+01,\n",
              "        3.94376826e+01,  6.94832274e+01,  9.11154124e+00,  5.69337727e+01,\n",
              "        7.70238078e+00,  3.27618158e+01,  1.29706404e+01,  2.71255025e+01,\n",
              "        6.17946774e+01,  4.93312327e+01,  3.28191384e+01,  2.56572537e+01,\n",
              "        3.34886372e+01,  3.65818141e+01,  2.27001283e+01,  4.18788304e+01,\n",
              "        1.92946182e+01,  4.25585334e+01,  5.15456908e+01,  4.26723942e+01,\n",
              "        3.89913363e+01,  3.85824557e+01,  4.53237743e+01,  1.64264487e+01,\n",
              "        5.04154980e+01,  4.45300503e+01,  3.22869751e+01,  5.11493436e+01,\n",
              "        3.36957124e+01,  2.26620924e+01,  1.94772874e+01,  5.48555953e+01,\n",
              "        5.13248032e+01,  5.02698001e+01,  6.39659435e+01,  3.76759672e+01,\n",
              "        5.42008716e+01,  6.03602097e+01, -3.18686856e+00,  9.17024713e+00,\n",
              "        2.01353942e+01,  3.37918572e+01,  4.07230707e+01,  5.66114719e+01,\n",
              "        2.70455716e+01,  4.62037644e+01,  4.05124495e+01,  5.88924689e+01,\n",
              "        1.69773765e+01,  3.35979215e+01,  4.68698612e+01, -2.76665812e+00,\n",
              "        3.02744113e+01,  4.04705355e+01,  2.92952983e+01,  1.94417805e+01,\n",
              "        6.53451986e+01,  3.98697427e+01,  3.85254091e+01,  2.87752184e+01,\n",
              "        6.51421425e+01,  1.77438789e+01,  4.73512680e+01,  4.40743999e+01,\n",
              "        3.29621738e+01,  2.90978947e+01,  3.17164822e+01,  4.66256521e+01,\n",
              "        3.21999235e+01,  4.62157408e+01,  5.20375311e+01,  4.27147420e+01,\n",
              "        3.85312469e+01,  4.85017923e+01,  4.19732234e+01,  4.95174842e+01,\n",
              "        3.14904270e+01,  6.21273929e+01,  3.59952547e+01,  4.19408137e+01,\n",
              "        3.38764586e+01,  2.12521439e+01,  4.23017936e+01,  2.94763297e+01,\n",
              "        3.29898060e+01,  5.52489692e+01,  3.91618690e+01,  5.57854161e+01,\n",
              "        3.76736833e+01,  3.07168778e+01,  3.35520366e+01,  2.66707161e+01,\n",
              "        4.53639814e+01,  5.54280962e+01,  4.80089510e+01,  4.80951573e+01,\n",
              "        5.32536842e+01,  1.39193180e+01,  4.12328852e+01,  4.99250366e+01,\n",
              "        3.64584658e+01, -1.31852818e+00,  6.19414057e+01,  1.58257249e+01,\n",
              "        2.87751410e+01,  5.36239242e+01,  2.60652416e+01,  3.87943753e+01,\n",
              "        6.70059822e+01,  6.06194660e+01,  4.32504869e+01,  4.51392753e+01,\n",
              "        9.31463657e+00,  4.96946627e+01,  1.44913059e+01,  4.85140429e+01,\n",
              "        5.63916757e+01,  4.76028599e+01,  6.80203949e+01,  2.02385347e+01,\n",
              "        7.79576034e+01,  6.02932248e+01,  6.71502706e+01,  3.31894962e+01,\n",
              "        5.07899951e+01,  3.21242238e+01,  1.25717609e+01,  8.17531903e+00,\n",
              "        3.44640549e+01,  4.24621031e+01,  1.23161320e+01,  4.08287885e+01,\n",
              "        1.86537053e+01,  2.94433079e+01,  4.65035478e+01,  3.68445757e+00,\n",
              "       -1.28824672e+01,  3.10203385e+01,  4.59856553e+01,  5.36303909e+01,\n",
              "        6.52191581e+01,  4.64333360e+01,  3.16838343e+01,  6.10347207e+01,\n",
              "        5.25355029e+01,  2.72347522e+01,  3.13225551e+01,  2.88938742e+01,\n",
              "        4.73040182e+00,  3.11811562e+01,  6.09855247e+01,  2.18698317e+01,\n",
              "        4.29869471e+01,  2.33179881e+01, -5.95467611e+00,  3.01465366e+01,\n",
              "        4.76981184e+00,  4.29383717e+01,  8.99164762e+00,  6.06553069e+01,\n",
              "        3.42760433e+01,  1.26618636e+01,  3.47204371e+01,  4.87889373e+01,\n",
              "        4.14426803e+01,  3.19970677e+01,  2.57317108e+01,  3.21629294e+01,\n",
              "        4.84350284e+01,  8.17575509e+01,  4.14782420e+01,  4.48940636e+01,\n",
              "        6.28474980e+01,  2.39859068e+01,  6.30803662e+01,  6.37906747e+01,\n",
              "        5.20710439e+01,  2.77235169e+01,  6.70074224e+00,  4.65042379e+01,\n",
              "        1.94788985e+01,  4.47602803e+01,  4.52404312e+01,  2.81962854e+01,\n",
              "        3.30684443e+01,  5.05634019e+01,  1.30028711e+01,  4.74097582e+01,\n",
              "        4.95739456e+01,  4.54155562e+01,  2.55266495e+01,  5.07474705e+01,\n",
              "        2.89284711e+01,  1.24806631e+01,  2.51521470e+01,  5.78426393e+01,\n",
              "        4.08570990e+01,  2.08172664e+01,  2.19368673e+01,  4.91532468e+01,\n",
              "        3.93398070e+01,  4.11478040e+01,  2.73784495e+01,  1.44144163e+01,\n",
              "        4.41152677e+01,  4.98401347e+01,  4.28622370e+01,  5.35110255e+01,\n",
              "        4.30797125e+01,  2.29061020e+01,  4.02827300e+01,  3.07952796e+01,\n",
              "        3.00620847e+01,  4.79314569e+01,  2.99545757e+01,  2.23507685e+01,\n",
              "        2.65127388e+01,  4.92591388e+01,  2.27207456e+01,  5.77794223e-01,\n",
              "        4.68978968e+01,  1.12706159e+01,  4.84254985e+01,  2.91223137e+01,\n",
              "        5.11550707e+01,  2.82771485e+01,  4.53157757e+01,  5.00257332e+01,\n",
              "        4.97181928e+01,  2.51700402e+01,  5.12795309e+01,  2.59751491e+01])"
            ]
          },
          "metadata": {},
          "execution_count": 150
        }
      ]
    },
    {
      "cell_type": "code",
      "source": [
        "a16_var= np.var(data_a16)\n",
        "a16_var"
      ],
      "metadata": {
        "colab": {
          "base_uri": "https://localhost:8080/"
        },
        "id": "XI59Y09xL5lL",
        "outputId": "d341bef4-7c14-4f8e-d3b5-e6343cd72e64"
      },
      "execution_count": null,
      "outputs": [
        {
          "output_type": "execute_result",
          "data": {
            "text/plain": [
              "np.float64(137.69173130147425)"
            ]
          },
          "metadata": {},
          "execution_count": 151
        }
      ]
    },
    {
      "cell_type": "code",
      "source": [
        "b16_var = np.var(data_b16)\n",
        "b16_var"
      ],
      "metadata": {
        "colab": {
          "base_uri": "https://localhost:8080/"
        },
        "id": "MlO6ySjnMepU",
        "outputId": "69b81ac4-57dc-4748-aa13-a58402661d63"
      },
      "execution_count": null,
      "outputs": [
        {
          "output_type": "execute_result",
          "data": {
            "text/plain": [
              "np.float64(263.627517656955)"
            ]
          },
          "metadata": {},
          "execution_count": 152
        }
      ]
    },
    {
      "cell_type": "code",
      "source": [
        "f_stats16 = a16_var / b16_var if a16_var > b16_var else b16_var / a16_var\n",
        "f_stats16"
      ],
      "metadata": {
        "colab": {
          "base_uri": "https://localhost:8080/"
        },
        "id": "sz3zENVJM0oa",
        "outputId": "cd93d238-d23c-4414-8e3f-4ba73c0fc0cb"
      },
      "execution_count": null,
      "outputs": [
        {
          "output_type": "execute_result",
          "data": {
            "text/plain": [
              "np.float64(1.914621271481771)"
            ]
          },
          "metadata": {},
          "execution_count": 168
        }
      ]
    },
    {
      "cell_type": "code",
      "source": [
        "dof1_16  = len(data_a16) -1\n",
        "dof2_16 = len(data_b16) - 1\n",
        "dof2_16\n",
        "alpha = 0.05"
      ],
      "metadata": {
        "id": "FIJ6n8H1OEE7"
      },
      "execution_count": null,
      "outputs": []
    },
    {
      "cell_type": "code",
      "source": [
        "f_critical16 = stats.f.ppf(q = 1 - alpha , dfn = dof1_16, dfd = dof2_16)\n",
        "f_critical16"
      ],
      "metadata": {
        "colab": {
          "base_uri": "https://localhost:8080/"
        },
        "id": "znEMVy6BN6JM",
        "outputId": "3cd974e4-651d-49f6-f469-09a9ef42740c"
      },
      "execution_count": null,
      "outputs": [
        {
          "output_type": "execute_result",
          "data": {
            "text/plain": [
              "np.float64(1.2099167425932442)"
            ]
          },
          "metadata": {},
          "execution_count": 170
        }
      ]
    },
    {
      "cell_type": "code",
      "source": [
        "if f_stats16 > f_critical16:\n",
        "  print('reject the null hypothesis , there is significant diffrent in the both data')\n",
        "else:\n",
        "  print('fail to  reject the null hypothesis , there is  no significant diffrent in the both data')"
      ],
      "metadata": {
        "colab": {
          "base_uri": "https://localhost:8080/"
        },
        "id": "evdLFDVaPaZW",
        "outputId": "ab01a13e-ce00-4c4f-cdbe-a70795366fb1"
      },
      "execution_count": null,
      "outputs": [
        {
          "output_type": "stream",
          "name": "stdout",
          "text": [
            "reject the null hypothesis , there is significant diffrent in the both data\n"
          ]
        }
      ]
    },
    {
      "cell_type": "code",
      "source": [
        "p_value16 = 1- stats.f.cdf(f_stats16,dof1_16,dof2_16)"
      ],
      "metadata": {
        "id": "wFNoUDtHQUr4"
      },
      "execution_count": null,
      "outputs": []
    },
    {
      "cell_type": "code",
      "source": [
        "p_value16"
      ],
      "metadata": {
        "colab": {
          "base_uri": "https://localhost:8080/"
        },
        "id": "Fi2LxiLGQh-R",
        "outputId": "8d657c21-a41c-44d5-a3e6-a502591cdd0a"
      },
      "execution_count": null,
      "outputs": [
        {
          "output_type": "execute_result",
          "data": {
            "text/plain": [
              "np.float64(1.3274531918128218e-08)"
            ]
          },
          "metadata": {},
          "execution_count": 178
        }
      ]
    },
    {
      "cell_type": "code",
      "source": [
        "if p_value16 < alpha:\n",
        "  print('reject the null hypothesis , there is significant diffrent in the both data')\n",
        "else:\n",
        "  print('fail to  reject the null hypothesis , there is  no significant diffrent in the both data')"
      ],
      "metadata": {
        "colab": {
          "base_uri": "https://localhost:8080/"
        },
        "id": "ao3Ywo2wQnfH",
        "outputId": "d50a622f-1dad-4079-f54f-3e2d2513e175"
      },
      "execution_count": null,
      "outputs": [
        {
          "output_type": "stream",
          "name": "stdout",
          "text": [
            "reject the null hypothesis , there is significant diffrent in the both data\n"
          ]
        }
      ]
    },
    {
      "cell_type": "code",
      "source": [],
      "metadata": {
        "id": "gn_tZTpaQ8ap"
      },
      "execution_count": null,
      "outputs": []
    },
    {
      "cell_type": "code",
      "source": [
        "#17. Write a Python program to perform an ANOVA test to compare means between multiple groups and interpret the results ?\n",
        "data17 = pd.read_csv('plant.csv')\n",
        "data17"
      ],
      "metadata": {
        "colab": {
          "base_uri": "https://localhost:8080/",
          "height": 990
        },
        "id": "wR4et11sSHYs",
        "outputId": "1f6db4a6-47cc-4543-bc9d-173991f7eb3a"
      },
      "execution_count": null,
      "outputs": [
        {
          "output_type": "execute_result",
          "data": {
            "text/plain": [
              "    Unnamed: 0  weight group\n",
              "0            1    4.17  ctrl\n",
              "1            2    5.58  ctrl\n",
              "2            3    5.18  ctrl\n",
              "3            4    6.11  ctrl\n",
              "4            5    4.50  ctrl\n",
              "5            6    4.61  ctrl\n",
              "6            7    5.17  ctrl\n",
              "7            8    4.53  ctrl\n",
              "8            9    5.33  ctrl\n",
              "9           10    5.14  ctrl\n",
              "10          11    4.81  trt1\n",
              "11          12    4.17  trt1\n",
              "12          13    4.41  trt1\n",
              "13          14    3.59  trt1\n",
              "14          15    5.87  trt1\n",
              "15          16    3.83  trt1\n",
              "16          17    6.03  trt1\n",
              "17          18    4.89  trt1\n",
              "18          19    4.32  trt1\n",
              "19          20    4.69  trt1\n",
              "20          21    6.31  trt2\n",
              "21          22    5.12  trt2\n",
              "22          23    5.54  trt2\n",
              "23          24    5.50  trt2\n",
              "24          25    5.37  trt2\n",
              "25          26    5.29  trt2\n",
              "26          27    4.92  trt2\n",
              "27          28    6.15  trt2\n",
              "28          29    5.80  trt2\n",
              "29          30    5.26  trt2"
            ],
            "text/html": [
              "\n",
              "  <div id=\"df-8b282a4b-3150-4bbf-8e46-e7806612f6ae\" class=\"colab-df-container\">\n",
              "    <div>\n",
              "<style scoped>\n",
              "    .dataframe tbody tr th:only-of-type {\n",
              "        vertical-align: middle;\n",
              "    }\n",
              "\n",
              "    .dataframe tbody tr th {\n",
              "        vertical-align: top;\n",
              "    }\n",
              "\n",
              "    .dataframe thead th {\n",
              "        text-align: right;\n",
              "    }\n",
              "</style>\n",
              "<table border=\"1\" class=\"dataframe\">\n",
              "  <thead>\n",
              "    <tr style=\"text-align: right;\">\n",
              "      <th></th>\n",
              "      <th>Unnamed: 0</th>\n",
              "      <th>weight</th>\n",
              "      <th>group</th>\n",
              "    </tr>\n",
              "  </thead>\n",
              "  <tbody>\n",
              "    <tr>\n",
              "      <th>0</th>\n",
              "      <td>1</td>\n",
              "      <td>4.17</td>\n",
              "      <td>ctrl</td>\n",
              "    </tr>\n",
              "    <tr>\n",
              "      <th>1</th>\n",
              "      <td>2</td>\n",
              "      <td>5.58</td>\n",
              "      <td>ctrl</td>\n",
              "    </tr>\n",
              "    <tr>\n",
              "      <th>2</th>\n",
              "      <td>3</td>\n",
              "      <td>5.18</td>\n",
              "      <td>ctrl</td>\n",
              "    </tr>\n",
              "    <tr>\n",
              "      <th>3</th>\n",
              "      <td>4</td>\n",
              "      <td>6.11</td>\n",
              "      <td>ctrl</td>\n",
              "    </tr>\n",
              "    <tr>\n",
              "      <th>4</th>\n",
              "      <td>5</td>\n",
              "      <td>4.50</td>\n",
              "      <td>ctrl</td>\n",
              "    </tr>\n",
              "    <tr>\n",
              "      <th>5</th>\n",
              "      <td>6</td>\n",
              "      <td>4.61</td>\n",
              "      <td>ctrl</td>\n",
              "    </tr>\n",
              "    <tr>\n",
              "      <th>6</th>\n",
              "      <td>7</td>\n",
              "      <td>5.17</td>\n",
              "      <td>ctrl</td>\n",
              "    </tr>\n",
              "    <tr>\n",
              "      <th>7</th>\n",
              "      <td>8</td>\n",
              "      <td>4.53</td>\n",
              "      <td>ctrl</td>\n",
              "    </tr>\n",
              "    <tr>\n",
              "      <th>8</th>\n",
              "      <td>9</td>\n",
              "      <td>5.33</td>\n",
              "      <td>ctrl</td>\n",
              "    </tr>\n",
              "    <tr>\n",
              "      <th>9</th>\n",
              "      <td>10</td>\n",
              "      <td>5.14</td>\n",
              "      <td>ctrl</td>\n",
              "    </tr>\n",
              "    <tr>\n",
              "      <th>10</th>\n",
              "      <td>11</td>\n",
              "      <td>4.81</td>\n",
              "      <td>trt1</td>\n",
              "    </tr>\n",
              "    <tr>\n",
              "      <th>11</th>\n",
              "      <td>12</td>\n",
              "      <td>4.17</td>\n",
              "      <td>trt1</td>\n",
              "    </tr>\n",
              "    <tr>\n",
              "      <th>12</th>\n",
              "      <td>13</td>\n",
              "      <td>4.41</td>\n",
              "      <td>trt1</td>\n",
              "    </tr>\n",
              "    <tr>\n",
              "      <th>13</th>\n",
              "      <td>14</td>\n",
              "      <td>3.59</td>\n",
              "      <td>trt1</td>\n",
              "    </tr>\n",
              "    <tr>\n",
              "      <th>14</th>\n",
              "      <td>15</td>\n",
              "      <td>5.87</td>\n",
              "      <td>trt1</td>\n",
              "    </tr>\n",
              "    <tr>\n",
              "      <th>15</th>\n",
              "      <td>16</td>\n",
              "      <td>3.83</td>\n",
              "      <td>trt1</td>\n",
              "    </tr>\n",
              "    <tr>\n",
              "      <th>16</th>\n",
              "      <td>17</td>\n",
              "      <td>6.03</td>\n",
              "      <td>trt1</td>\n",
              "    </tr>\n",
              "    <tr>\n",
              "      <th>17</th>\n",
              "      <td>18</td>\n",
              "      <td>4.89</td>\n",
              "      <td>trt1</td>\n",
              "    </tr>\n",
              "    <tr>\n",
              "      <th>18</th>\n",
              "      <td>19</td>\n",
              "      <td>4.32</td>\n",
              "      <td>trt1</td>\n",
              "    </tr>\n",
              "    <tr>\n",
              "      <th>19</th>\n",
              "      <td>20</td>\n",
              "      <td>4.69</td>\n",
              "      <td>trt1</td>\n",
              "    </tr>\n",
              "    <tr>\n",
              "      <th>20</th>\n",
              "      <td>21</td>\n",
              "      <td>6.31</td>\n",
              "      <td>trt2</td>\n",
              "    </tr>\n",
              "    <tr>\n",
              "      <th>21</th>\n",
              "      <td>22</td>\n",
              "      <td>5.12</td>\n",
              "      <td>trt2</td>\n",
              "    </tr>\n",
              "    <tr>\n",
              "      <th>22</th>\n",
              "      <td>23</td>\n",
              "      <td>5.54</td>\n",
              "      <td>trt2</td>\n",
              "    </tr>\n",
              "    <tr>\n",
              "      <th>23</th>\n",
              "      <td>24</td>\n",
              "      <td>5.50</td>\n",
              "      <td>trt2</td>\n",
              "    </tr>\n",
              "    <tr>\n",
              "      <th>24</th>\n",
              "      <td>25</td>\n",
              "      <td>5.37</td>\n",
              "      <td>trt2</td>\n",
              "    </tr>\n",
              "    <tr>\n",
              "      <th>25</th>\n",
              "      <td>26</td>\n",
              "      <td>5.29</td>\n",
              "      <td>trt2</td>\n",
              "    </tr>\n",
              "    <tr>\n",
              "      <th>26</th>\n",
              "      <td>27</td>\n",
              "      <td>4.92</td>\n",
              "      <td>trt2</td>\n",
              "    </tr>\n",
              "    <tr>\n",
              "      <th>27</th>\n",
              "      <td>28</td>\n",
              "      <td>6.15</td>\n",
              "      <td>trt2</td>\n",
              "    </tr>\n",
              "    <tr>\n",
              "      <th>28</th>\n",
              "      <td>29</td>\n",
              "      <td>5.80</td>\n",
              "      <td>trt2</td>\n",
              "    </tr>\n",
              "    <tr>\n",
              "      <th>29</th>\n",
              "      <td>30</td>\n",
              "      <td>5.26</td>\n",
              "      <td>trt2</td>\n",
              "    </tr>\n",
              "  </tbody>\n",
              "</table>\n",
              "</div>\n",
              "    <div class=\"colab-df-buttons\">\n",
              "\n",
              "  <div class=\"colab-df-container\">\n",
              "    <button class=\"colab-df-convert\" onclick=\"convertToInteractive('df-8b282a4b-3150-4bbf-8e46-e7806612f6ae')\"\n",
              "            title=\"Convert this dataframe to an interactive table.\"\n",
              "            style=\"display:none;\">\n",
              "\n",
              "  <svg xmlns=\"http://www.w3.org/2000/svg\" height=\"24px\" viewBox=\"0 -960 960 960\">\n",
              "    <path d=\"M120-120v-720h720v720H120Zm60-500h600v-160H180v160Zm220 220h160v-160H400v160Zm0 220h160v-160H400v160ZM180-400h160v-160H180v160Zm440 0h160v-160H620v160ZM180-180h160v-160H180v160Zm440 0h160v-160H620v160Z\"/>\n",
              "  </svg>\n",
              "    </button>\n",
              "\n",
              "  <style>\n",
              "    .colab-df-container {\n",
              "      display:flex;\n",
              "      gap: 12px;\n",
              "    }\n",
              "\n",
              "    .colab-df-convert {\n",
              "      background-color: #E8F0FE;\n",
              "      border: none;\n",
              "      border-radius: 50%;\n",
              "      cursor: pointer;\n",
              "      display: none;\n",
              "      fill: #1967D2;\n",
              "      height: 32px;\n",
              "      padding: 0 0 0 0;\n",
              "      width: 32px;\n",
              "    }\n",
              "\n",
              "    .colab-df-convert:hover {\n",
              "      background-color: #E2EBFA;\n",
              "      box-shadow: 0px 1px 2px rgba(60, 64, 67, 0.3), 0px 1px 3px 1px rgba(60, 64, 67, 0.15);\n",
              "      fill: #174EA6;\n",
              "    }\n",
              "\n",
              "    .colab-df-buttons div {\n",
              "      margin-bottom: 4px;\n",
              "    }\n",
              "\n",
              "    [theme=dark] .colab-df-convert {\n",
              "      background-color: #3B4455;\n",
              "      fill: #D2E3FC;\n",
              "    }\n",
              "\n",
              "    [theme=dark] .colab-df-convert:hover {\n",
              "      background-color: #434B5C;\n",
              "      box-shadow: 0px 1px 3px 1px rgba(0, 0, 0, 0.15);\n",
              "      filter: drop-shadow(0px 1px 2px rgba(0, 0, 0, 0.3));\n",
              "      fill: #FFFFFF;\n",
              "    }\n",
              "  </style>\n",
              "\n",
              "    <script>\n",
              "      const buttonEl =\n",
              "        document.querySelector('#df-8b282a4b-3150-4bbf-8e46-e7806612f6ae button.colab-df-convert');\n",
              "      buttonEl.style.display =\n",
              "        google.colab.kernel.accessAllowed ? 'block' : 'none';\n",
              "\n",
              "      async function convertToInteractive(key) {\n",
              "        const element = document.querySelector('#df-8b282a4b-3150-4bbf-8e46-e7806612f6ae');\n",
              "        const dataTable =\n",
              "          await google.colab.kernel.invokeFunction('convertToInteractive',\n",
              "                                                    [key], {});\n",
              "        if (!dataTable) return;\n",
              "\n",
              "        const docLinkHtml = 'Like what you see? Visit the ' +\n",
              "          '<a target=\"_blank\" href=https://colab.research.google.com/notebooks/data_table.ipynb>data table notebook</a>'\n",
              "          + ' to learn more about interactive tables.';\n",
              "        element.innerHTML = '';\n",
              "        dataTable['output_type'] = 'display_data';\n",
              "        await google.colab.output.renderOutput(dataTable, element);\n",
              "        const docLink = document.createElement('div');\n",
              "        docLink.innerHTML = docLinkHtml;\n",
              "        element.appendChild(docLink);\n",
              "      }\n",
              "    </script>\n",
              "  </div>\n",
              "\n",
              "\n",
              "<div id=\"df-42e4e8fd-07fe-45c9-af8c-41f0cd35e2c4\">\n",
              "  <button class=\"colab-df-quickchart\" onclick=\"quickchart('df-42e4e8fd-07fe-45c9-af8c-41f0cd35e2c4')\"\n",
              "            title=\"Suggest charts\"\n",
              "            style=\"display:none;\">\n",
              "\n",
              "<svg xmlns=\"http://www.w3.org/2000/svg\" height=\"24px\"viewBox=\"0 0 24 24\"\n",
              "     width=\"24px\">\n",
              "    <g>\n",
              "        <path d=\"M19 3H5c-1.1 0-2 .9-2 2v14c0 1.1.9 2 2 2h14c1.1 0 2-.9 2-2V5c0-1.1-.9-2-2-2zM9 17H7v-7h2v7zm4 0h-2V7h2v10zm4 0h-2v-4h2v4z\"/>\n",
              "    </g>\n",
              "</svg>\n",
              "  </button>\n",
              "\n",
              "<style>\n",
              "  .colab-df-quickchart {\n",
              "      --bg-color: #E8F0FE;\n",
              "      --fill-color: #1967D2;\n",
              "      --hover-bg-color: #E2EBFA;\n",
              "      --hover-fill-color: #174EA6;\n",
              "      --disabled-fill-color: #AAA;\n",
              "      --disabled-bg-color: #DDD;\n",
              "  }\n",
              "\n",
              "  [theme=dark] .colab-df-quickchart {\n",
              "      --bg-color: #3B4455;\n",
              "      --fill-color: #D2E3FC;\n",
              "      --hover-bg-color: #434B5C;\n",
              "      --hover-fill-color: #FFFFFF;\n",
              "      --disabled-bg-color: #3B4455;\n",
              "      --disabled-fill-color: #666;\n",
              "  }\n",
              "\n",
              "  .colab-df-quickchart {\n",
              "    background-color: var(--bg-color);\n",
              "    border: none;\n",
              "    border-radius: 50%;\n",
              "    cursor: pointer;\n",
              "    display: none;\n",
              "    fill: var(--fill-color);\n",
              "    height: 32px;\n",
              "    padding: 0;\n",
              "    width: 32px;\n",
              "  }\n",
              "\n",
              "  .colab-df-quickchart:hover {\n",
              "    background-color: var(--hover-bg-color);\n",
              "    box-shadow: 0 1px 2px rgba(60, 64, 67, 0.3), 0 1px 3px 1px rgba(60, 64, 67, 0.15);\n",
              "    fill: var(--button-hover-fill-color);\n",
              "  }\n",
              "\n",
              "  .colab-df-quickchart-complete:disabled,\n",
              "  .colab-df-quickchart-complete:disabled:hover {\n",
              "    background-color: var(--disabled-bg-color);\n",
              "    fill: var(--disabled-fill-color);\n",
              "    box-shadow: none;\n",
              "  }\n",
              "\n",
              "  .colab-df-spinner {\n",
              "    border: 2px solid var(--fill-color);\n",
              "    border-color: transparent;\n",
              "    border-bottom-color: var(--fill-color);\n",
              "    animation:\n",
              "      spin 1s steps(1) infinite;\n",
              "  }\n",
              "\n",
              "  @keyframes spin {\n",
              "    0% {\n",
              "      border-color: transparent;\n",
              "      border-bottom-color: var(--fill-color);\n",
              "      border-left-color: var(--fill-color);\n",
              "    }\n",
              "    20% {\n",
              "      border-color: transparent;\n",
              "      border-left-color: var(--fill-color);\n",
              "      border-top-color: var(--fill-color);\n",
              "    }\n",
              "    30% {\n",
              "      border-color: transparent;\n",
              "      border-left-color: var(--fill-color);\n",
              "      border-top-color: var(--fill-color);\n",
              "      border-right-color: var(--fill-color);\n",
              "    }\n",
              "    40% {\n",
              "      border-color: transparent;\n",
              "      border-right-color: var(--fill-color);\n",
              "      border-top-color: var(--fill-color);\n",
              "    }\n",
              "    60% {\n",
              "      border-color: transparent;\n",
              "      border-right-color: var(--fill-color);\n",
              "    }\n",
              "    80% {\n",
              "      border-color: transparent;\n",
              "      border-right-color: var(--fill-color);\n",
              "      border-bottom-color: var(--fill-color);\n",
              "    }\n",
              "    90% {\n",
              "      border-color: transparent;\n",
              "      border-bottom-color: var(--fill-color);\n",
              "    }\n",
              "  }\n",
              "</style>\n",
              "\n",
              "  <script>\n",
              "    async function quickchart(key) {\n",
              "      const quickchartButtonEl =\n",
              "        document.querySelector('#' + key + ' button');\n",
              "      quickchartButtonEl.disabled = true;  // To prevent multiple clicks.\n",
              "      quickchartButtonEl.classList.add('colab-df-spinner');\n",
              "      try {\n",
              "        const charts = await google.colab.kernel.invokeFunction(\n",
              "            'suggestCharts', [key], {});\n",
              "      } catch (error) {\n",
              "        console.error('Error during call to suggestCharts:', error);\n",
              "      }\n",
              "      quickchartButtonEl.classList.remove('colab-df-spinner');\n",
              "      quickchartButtonEl.classList.add('colab-df-quickchart-complete');\n",
              "    }\n",
              "    (() => {\n",
              "      let quickchartButtonEl =\n",
              "        document.querySelector('#df-42e4e8fd-07fe-45c9-af8c-41f0cd35e2c4 button');\n",
              "      quickchartButtonEl.style.display =\n",
              "        google.colab.kernel.accessAllowed ? 'block' : 'none';\n",
              "    })();\n",
              "  </script>\n",
              "</div>\n",
              "\n",
              "  <div id=\"id_e2028637-010c-40a0-8c49-c2fff40683fb\">\n",
              "    <style>\n",
              "      .colab-df-generate {\n",
              "        background-color: #E8F0FE;\n",
              "        border: none;\n",
              "        border-radius: 50%;\n",
              "        cursor: pointer;\n",
              "        display: none;\n",
              "        fill: #1967D2;\n",
              "        height: 32px;\n",
              "        padding: 0 0 0 0;\n",
              "        width: 32px;\n",
              "      }\n",
              "\n",
              "      .colab-df-generate:hover {\n",
              "        background-color: #E2EBFA;\n",
              "        box-shadow: 0px 1px 2px rgba(60, 64, 67, 0.3), 0px 1px 3px 1px rgba(60, 64, 67, 0.15);\n",
              "        fill: #174EA6;\n",
              "      }\n",
              "\n",
              "      [theme=dark] .colab-df-generate {\n",
              "        background-color: #3B4455;\n",
              "        fill: #D2E3FC;\n",
              "      }\n",
              "\n",
              "      [theme=dark] .colab-df-generate:hover {\n",
              "        background-color: #434B5C;\n",
              "        box-shadow: 0px 1px 3px 1px rgba(0, 0, 0, 0.15);\n",
              "        filter: drop-shadow(0px 1px 2px rgba(0, 0, 0, 0.3));\n",
              "        fill: #FFFFFF;\n",
              "      }\n",
              "    </style>\n",
              "    <button class=\"colab-df-generate\" onclick=\"generateWithVariable('data17')\"\n",
              "            title=\"Generate code using this dataframe.\"\n",
              "            style=\"display:none;\">\n",
              "\n",
              "  <svg xmlns=\"http://www.w3.org/2000/svg\" height=\"24px\"viewBox=\"0 0 24 24\"\n",
              "       width=\"24px\">\n",
              "    <path d=\"M7,19H8.4L18.45,9,17,7.55,7,17.6ZM5,21V16.75L18.45,3.32a2,2,0,0,1,2.83,0l1.4,1.43a1.91,1.91,0,0,1,.58,1.4,1.91,1.91,0,0,1-.58,1.4L9.25,21ZM18.45,9,17,7.55Zm-12,3A5.31,5.31,0,0,0,4.9,8.1,5.31,5.31,0,0,0,1,6.5,5.31,5.31,0,0,0,4.9,4.9,5.31,5.31,0,0,0,6.5,1,5.31,5.31,0,0,0,8.1,4.9,5.31,5.31,0,0,0,12,6.5,5.46,5.46,0,0,0,6.5,12Z\"/>\n",
              "  </svg>\n",
              "    </button>\n",
              "    <script>\n",
              "      (() => {\n",
              "      const buttonEl =\n",
              "        document.querySelector('#id_e2028637-010c-40a0-8c49-c2fff40683fb button.colab-df-generate');\n",
              "      buttonEl.style.display =\n",
              "        google.colab.kernel.accessAllowed ? 'block' : 'none';\n",
              "\n",
              "      buttonEl.onclick = () => {\n",
              "        google.colab.notebook.generateWithVariable('data17');\n",
              "      }\n",
              "      })();\n",
              "    </script>\n",
              "  </div>\n",
              "\n",
              "    </div>\n",
              "  </div>\n"
            ],
            "application/vnd.google.colaboratory.intrinsic+json": {
              "type": "dataframe",
              "variable_name": "data17",
              "summary": "{\n  \"name\": \"data17\",\n  \"rows\": 30,\n  \"fields\": [\n    {\n      \"column\": \"Unnamed: 0\",\n      \"properties\": {\n        \"dtype\": \"number\",\n        \"std\": 8,\n        \"min\": 1,\n        \"max\": 30,\n        \"num_unique_values\": 30,\n        \"samples\": [\n          28,\n          16,\n          24\n        ],\n        \"semantic_type\": \"\",\n        \"description\": \"\"\n      }\n    },\n    {\n      \"column\": \"weight\",\n      \"properties\": {\n        \"dtype\": \"number\",\n        \"std\": 0.7011918425081685,\n        \"min\": 3.59,\n        \"max\": 6.31,\n        \"num_unique_values\": 29,\n        \"samples\": [\n          5.8,\n          4.89,\n          3.59\n        ],\n        \"semantic_type\": \"\",\n        \"description\": \"\"\n      }\n    },\n    {\n      \"column\": \"group\",\n      \"properties\": {\n        \"dtype\": \"category\",\n        \"num_unique_values\": 3,\n        \"samples\": [\n          \"ctrl\",\n          \"trt1\",\n          \"trt2\"\n        ],\n        \"semantic_type\": \"\",\n        \"description\": \"\"\n      }\n    }\n  ]\n}"
            }
          },
          "metadata": {},
          "execution_count": 180
        }
      ]
    },
    {
      "cell_type": "code",
      "source": [
        "df17 = data17.drop('Unnamed: 0',axis =1)"
      ],
      "metadata": {
        "id": "Mc9chpSNfPm1"
      },
      "execution_count": null,
      "outputs": []
    },
    {
      "cell_type": "code",
      "source": [
        "groups17 = df17.group.unique()"
      ],
      "metadata": {
        "id": "z_ARZ14HflsF"
      },
      "execution_count": null,
      "outputs": []
    },
    {
      "cell_type": "code",
      "source": [
        "df17_new = {grp:df17['weight'][df17.group ==grp] for grp in groups17}"
      ],
      "metadata": {
        "id": "qF3lKHYQfqlL"
      },
      "execution_count": null,
      "outputs": []
    },
    {
      "cell_type": "code",
      "source": [
        "df17_new"
      ],
      "metadata": {
        "colab": {
          "base_uri": "https://localhost:8080/"
        },
        "id": "M2zQDJV1gXwY",
        "outputId": "9e5b043a-2d3c-4439-8c6b-52ca03985920"
      },
      "execution_count": null,
      "outputs": [
        {
          "output_type": "execute_result",
          "data": {
            "text/plain": [
              "{'ctrl': 0    4.17\n",
              " 1    5.58\n",
              " 2    5.18\n",
              " 3    6.11\n",
              " 4    4.50\n",
              " 5    4.61\n",
              " 6    5.17\n",
              " 7    4.53\n",
              " 8    5.33\n",
              " 9    5.14\n",
              " Name: weight, dtype: float64,\n",
              " 'trt1': 10    4.81\n",
              " 11    4.17\n",
              " 12    4.41\n",
              " 13    3.59\n",
              " 14    5.87\n",
              " 15    3.83\n",
              " 16    6.03\n",
              " 17    4.89\n",
              " 18    4.32\n",
              " 19    4.69\n",
              " Name: weight, dtype: float64,\n",
              " 'trt2': 20    6.31\n",
              " 21    5.12\n",
              " 22    5.54\n",
              " 23    5.50\n",
              " 24    5.37\n",
              " 25    5.29\n",
              " 26    4.92\n",
              " 27    6.15\n",
              " 28    5.80\n",
              " 29    5.26\n",
              " Name: weight, dtype: float64}"
            ]
          },
          "metadata": {},
          "execution_count": 186
        }
      ]
    },
    {
      "cell_type": "code",
      "source": [
        "# now we have data more then two groups simply we can say multiple groups"
      ],
      "metadata": {
        "id": "ME-qjsekgZQn"
      },
      "execution_count": null,
      "outputs": []
    },
    {
      "cell_type": "code",
      "source": [
        "f_stats17,p_value17 = stats.f_oneway(df17_new['ctrl'],df17_new['trt1'],df17_new['trt2'])\n"
      ],
      "metadata": {
        "id": "fEMfOR4LggVc"
      },
      "execution_count": null,
      "outputs": []
    },
    {
      "cell_type": "code",
      "source": [
        "if p_value17 <= 0.05:\n",
        "  print(\"Reject the null hypothesis\")\n",
        "else:\n",
        "    print(\"Fail to reject null hypothesis\")"
      ],
      "metadata": {
        "colab": {
          "base_uri": "https://localhost:8080/"
        },
        "id": "YRYavD0QhL9q",
        "outputId": "c297f2a9-8e90-42d0-fc94-f32231f40d19"
      },
      "execution_count": null,
      "outputs": [
        {
          "output_type": "stream",
          "name": "stdout",
          "text": [
            "Reject the null hypothesis\n"
          ]
        }
      ]
    },
    {
      "cell_type": "code",
      "source": [
        "# this is the hypothesis testing using anova test with multiple groups"
      ],
      "metadata": {
        "id": "-eU9Zs1WhXTm"
      },
      "execution_count": null,
      "outputs": []
    },
    {
      "cell_type": "code",
      "source": [
        "#18.  Perform a one-way ANOVA test using Python to compare the means of different groups and plot the results ?\n",
        "# datasets >>\n",
        "group_a18 = np.random.normal(loc=36,scale=18,size=1000)\n",
        "group_b18 = np.random.normal(loc=47,scale=25,size=1000)\n",
        "group_c18 = np.random.normal(loc=28,scale=30,size=1000)"
      ],
      "metadata": {
        "id": "7Z7co14jhiFi"
      },
      "execution_count": null,
      "outputs": []
    },
    {
      "cell_type": "code",
      "source": [],
      "metadata": {
        "id": "JbFQlwB8j-r_"
      },
      "execution_count": null,
      "outputs": []
    },
    {
      "cell_type": "code",
      "source": [
        "f_stats18,p_value18 =stats.f_oneway(group_a18,group_b18,group_c18)"
      ],
      "metadata": {
        "id": "7xjP6ulmkBHx"
      },
      "execution_count": null,
      "outputs": []
    },
    {
      "cell_type": "code",
      "source": [
        "p_value18"
      ],
      "metadata": {
        "colab": {
          "base_uri": "https://localhost:8080/"
        },
        "id": "x4Rr5VAmk6DC",
        "outputId": "67f84dab-3d81-4192-d004-6c036105fb32"
      },
      "execution_count": null,
      "outputs": [
        {
          "output_type": "execute_result",
          "data": {
            "text/plain": [
              "np.float64(6.70777367307343e-74)"
            ]
          },
          "metadata": {},
          "execution_count": 195
        }
      ]
    },
    {
      "cell_type": "code",
      "source": [
        "alpha = 0.05"
      ],
      "metadata": {
        "id": "7D7zL08Hk7iQ"
      },
      "execution_count": null,
      "outputs": []
    },
    {
      "cell_type": "code",
      "source": [
        "if p_value18 <= alpha:\n",
        "  print(\"Reject the null hypothesis\")\n",
        "else:\n",
        "    print(\"Fail to reject null hypothesis\")"
      ],
      "metadata": {
        "colab": {
          "base_uri": "https://localhost:8080/"
        },
        "id": "4I032CsalfIV",
        "outputId": "80dca45b-2a9d-41fd-b082-72db009e87f4"
      },
      "execution_count": null,
      "outputs": [
        {
          "output_type": "stream",
          "name": "stdout",
          "text": [
            "Reject the null hypothesis\n"
          ]
        }
      ]
    },
    {
      "cell_type": "code",
      "source": [
        "# now making a plot out of it >>\n",
        "data18 = [group_a18,group_b18,group_c18]\n",
        "# here we combined the all three above groups for visulsation"
      ],
      "metadata": {
        "id": "Wh2mmZr7lr8O"
      },
      "execution_count": null,
      "outputs": []
    },
    {
      "cell_type": "code",
      "source": [
        "labels = [\"Traditional Study\", \"Online Courses\", \"Group Study\"]\n",
        "plt.figure(figsize=(10,5))\n",
        "plt.boxplot(x =data18)\n",
        "plt.title('\"Comparison of Exam Scores Across Study Methods\"')\n",
        "plt.ylabel('exam scores')\n",
        "plt.legend()\n",
        "plt.show()"
      ],
      "metadata": {
        "colab": {
          "base_uri": "https://localhost:8080/",
          "height": 468
        },
        "id": "qX0uINUenYoH",
        "outputId": "c368904f-11db-4b7d-b433-a6162b9d7fbc"
      },
      "execution_count": null,
      "outputs": [
        {
          "output_type": "display_data",
          "data": {
            "text/plain": [
              "<Figure size 1000x500 with 1 Axes>"
            ],
            "image/png": "[encoded data removed]"
          },
          "metadata": {}
        }
      ]
    },
    {
      "cell_type": "code",
      "source": [],
      "metadata": {
        "id": "4aJi_I6toMZe"
      },
      "execution_count": null,
      "outputs": []
    },
    {
      "cell_type": "code",
      "source": [
        "#19.  Write a Python function to check the assumptions (normality, independence, and equal variance) for ANOVAD ?\n",
        "\n",
        "\n",
        "def check_anova_assumptions(*groups):\n",
        "\n",
        "\n",
        "    # 1. Normality Test (Shapiro-Wilk Test)\n",
        "    print(\"1️Normality Test (Shapiro-Wilk)\")\n",
        "    for i, group in enumerate(groups):\n",
        "        stat, p_value = stats.shapiro(group)\n",
        "        print(f\"   Group {i+1}: W={stat:.4f}, p={p_value:.4f}\")\n",
        "        if p_value < 0.05:\n",
        "            print(\"Data is NOT normal (p < 0.05)\")\n",
        "        else:\n",
        "            print(\"Data is normal (p ≥ 0.05)\")\n",
        "\n",
        "    print(\"\\nIndependence Assumption\")\n",
        "    print(\"Independence must be ensured through study design (random sampling).\")\n",
        "\n",
        "    # 3. Homogeneity of Variance Test (Levene's Test)\n",
        "    print(\"Equal Variance Test (Levene’s Test)\")\n",
        "    stat, p_value = stats.levene(*groups)\n",
        "    print(f\"   Levene’s Test: W={stat:.4f}, p={p_value:.4f}\")\n",
        "    if p_value < 0.05:\n",
        "        print(\"Variances are NOT equal (p < 0.05)\")\n",
        "    else:\n",
        "        print(\"Variances are equal (p ≥ 0.05)\")\n",
        "\n",
        "    # Visualization: Boxplot for variance comparison\n",
        "    plt.figure(figsize=(8, 5))\n",
        "    sns.boxplot(data=groups, palette=\"Set2\")\n",
        "    plt.xticks(ticks=range(len(groups)), labels=[f\"Group {i+1}\" for i in range(len(groups))])\n",
        "    plt.ylabel(\"Values\")\n",
        "    plt.title(\"Boxplot for Variance Comparison\")\n",
        "    plt.show()\n",
        "\n"
      ],
      "metadata": {
        "id": "7wq7LeeLqANd"
      },
      "execution_count": null,
      "outputs": []
    },
    {
      "cell_type": "code",
      "source": [
        "# data to check anove asumptions\n",
        "group_a19 = np.random.normal(loc=35,scale=16,size=2000)\n",
        "group_b19 = np.random.normal(loc=28,scale=13,size=2000)\n",
        "group_c19 = np.random.normal(loc=20,scale=19,size=2000)"
      ],
      "metadata": {
        "id": "50-K-W1uCdS-"
      },
      "execution_count": null,
      "outputs": []
    },
    {
      "cell_type": "code",
      "source": [
        "check_anova_assumptions(group_a19,group_b19,group_c19)"
      ],
      "metadata": {
        "colab": {
          "base_uri": "https://localhost:8080/",
          "height": 694
        },
        "id": "fFhkhQ1TDpAJ",
        "outputId": "d2d82d1f-90db-46e2-853b-f4f3d4ac407a"
      },
      "execution_count": null,
      "outputs": [
        {
          "output_type": "stream",
          "name": "stdout",
          "text": [
            "1️Normality Test (Shapiro-Wilk)\n",
            "   Group 1: W=0.9992, p=0.5511\n",
            "Data is normal (p ≥ 0.05)\n",
            "   Group 2: W=0.9992, p=0.5852\n",
            "Data is normal (p ≥ 0.05)\n",
            "   Group 3: W=0.9995, p=0.8787\n",
            "Data is normal (p ≥ 0.05)\n",
            "\n",
            "Independence Assumption\n",
            "Independence must be ensured through study design (random sampling).\n",
            "Equal Variance Test (Levene’s Test)\n",
            "   Levene’s Test: W=121.2953, p=0.0000\n",
            "Variances are NOT equal (p < 0.05)\n"
          ]
        },
        {
          "output_type": "display_data",
          "data": {
            "text/plain": [
              "<Figure size 800x500 with 1 Axes>"
            ],
            "image/png": "[encoded data removed]"
          },
          "metadata": {}
        }
      ]
    },
    {
      "cell_type": "code",
      "source": [
        "#20 . Perform a two-way ANOVA test using Python to study the interaction between two factors and visualize the results ?\n",
        "import statsmodels.api as sm\n",
        "from statsmodels.formula.api import ols\n"
      ],
      "metadata": {
        "id": "O33spYrYDzic"
      },
      "execution_count": null,
      "outputs": []
    },
    {
      "cell_type": "code",
      "source": [
        "data20 = pd.DataFrame({\n",
        "    'teaching_method':np.repeat(['online','traditional'],30),\n",
        "    'study_Time':np.tile(np.repeat(['low','high'],15),2),\n",
        "    'test_score':np.random.normal(75,10,60) +\n",
        "                 np.where(np.repeat(['Online', 'Traditional'], 30) == 'Traditional', 5, 0) +\n",
        "                 np.where(np.tile(np.repeat(['Low', 'High'], 15), 2) == 'High', 7, 0)\n",
        "})"
      ],
      "metadata": {
        "id": "THtlXCciJRPj"
      },
      "execution_count": null,
      "outputs": []
    },
    {
      "cell_type": "code",
      "source": [
        "model20 = ols('test_score ~ C(teaching_method) + C(study_Time) + C(teaching_method):C(study_Time)',data = data20).fit()\n",
        "anova_table = sm.stats.anova_lm(model20,typ=2)\n"
      ],
      "metadata": {
        "id": "wgAJp3PGMHbU"
      },
      "execution_count": null,
      "outputs": []
    },
    {
      "cell_type": "code",
      "source": [
        "print(anova_table)"
      ],
      "metadata": {
        "colab": {
          "base_uri": "https://localhost:8080/"
        },
        "id": "IimBGrILMmHL",
        "outputId": "e2cee33b-615d-4fc3-dba8-ed7bb9e58094"
      },
      "execution_count": null,
      "outputs": [
        {
          "output_type": "stream",
          "name": "stdout",
          "text": [
            "                                       sum_sq    df         F    PR(>F)\n",
            "C(teaching_method)                   6.475025   1.0  0.054486  0.816284\n",
            "C(study_Time)                      353.779390   1.0  2.976998  0.089971\n",
            "C(teaching_method):C(study_Time)    47.563296   1.0  0.400238  0.529541\n",
            "Residual                          6654.908333  56.0       NaN       NaN\n"
          ]
        }
      ]
    },
    {
      "cell_type": "code",
      "source": [
        "plt.figure(figsize=(8,5))\n",
        "sns.catplot(x='teaching_method',y='test_score',hue='study_Time',data=data20,palette='Set2',kind='box')\n",
        "plt.show()"
      ],
      "metadata": {
        "colab": {
          "base_uri": "https://localhost:8080/",
          "height": 523
        },
        "id": "uxEfHbPXO16N",
        "outputId": "c23d931b-db7e-4c0a-dc46-b80c62f3f730"
      },
      "execution_count": null,
      "outputs": [
        {
          "output_type": "display_data",
          "data": {
            "text/plain": [
              "<Figure size 800x500 with 0 Axes>"
            ]
          },
          "metadata": {}
        },
        {
          "output_type": "display_data",
          "data": {
            "text/plain": [
              "<Figure size 590.611x500 with 1 Axes>"
            ],
            "image/png": "[encoded data removed]"
          },
          "metadata": {}
        }
      ]
    },
    {
      "cell_type": "code",
      "source": [
        "# this is how we did all task from two way anova test to its visvlization over plot using box plot which also help us to figure out outlier out of this data"
      ],
      "metadata": {
        "id": "IaaM6theQWe9"
      },
      "execution_count": null,
      "outputs": []
    },
    {
      "cell_type": "code",
      "source": [],
      "metadata": {
        "id": "8o6D3N98R05L"
      },
      "execution_count": null,
      "outputs": []
    },
    {
      "cell_type": "code",
      "source": [
        "#21. Write a Python program to visualize the F-distribution and discuss its use in hypothesis testing ?\n",
        "dfnum =130\n",
        "dfdin= 130\n",
        "f_dist21 =np.random.f(dfnum,dfdin,size=1000)\n",
        "plt.hist(f_dist21,bins=35,color='green')\n",
        "plt.title('f_distribution')\n",
        "plt.xlabel('f_values')\n",
        "plt.ylabel('density')\n",
        "plt.show()\n",
        "# this is the visualization of f - distribution"
      ],
      "metadata": {
        "colab": {
          "base_uri": "https://localhost:8080/",
          "height": 472
        },
        "id": "5kMjK7h-R1ep",
        "outputId": "e919da08-77ae-433a-e491-d98162dd155b"
      },
      "execution_count": 3,
      "outputs": [
        {
          "output_type": "display_data",
          "data": {
            "text/plain": [
              "<Figure size 640x480 with 1 Axes>"
            ],
            "image/png": "[encoded data removed]"
          },
          "metadata": {}
        }
      ]
    },
    {
      "cell_type": "code",
      "source": [],
      "metadata": {
        "id": "ekmaDO4HX2Td"
      },
      "execution_count": null,
      "outputs": []
    },
    {
      "cell_type": "code",
      "source": [
        "#22 . Perform a one-way ANOVA test in Python and visualize the results with boxplots to compare group means ?\n",
        "# firstly makeing dataset for further calculation\n",
        "grp_a22 =np.random.normal(loc=25,scale=38,size=2000)\n",
        "grp_b22 =np.random.normal(loc=18,scale=46,size=2000)\n",
        "grp_c22 =np.random.normal(loc=39,scale=60,size=2000)\n",
        "\n",
        "\n",
        "f_stats22,p_value22 =stats.f_oneway(grp_a22,grp_b22,grp_c22)\n",
        "alpha = 0.05\n",
        "\n",
        "if p_value22 <= alpha:\n",
        "  print(\"reject the null hypothesis\")\n",
        "else:\n",
        "  print('fail to reject the null hyposthesis')\n",
        "\n",
        "\n",
        "# now visualization of this using boxplot\n",
        "# bringing all groups together for visulization\n",
        "data22 = [grp_a22,grp_b22,grp_c22]\n",
        "labels = [\"Group A\", \"Group B\", \"Group C\"]\n",
        "\n",
        "plt.figure(figsize=(10,5))\n",
        "plt.boxplot(x= data22,label =labels)\n",
        "plt.title('one way anove test')\n",
        "plt.legend()\n",
        "plt.show()"
      ],
      "metadata": {
        "colab": {
          "base_uri": "https://localhost:8080/",
          "height": 485
        },
        "id": "5xNnZL8iZl_p",
        "outputId": "8d518523-c255-46c9-b8c5-a93df47a813b"
      },
      "execution_count": 2,
      "outputs": [
        {
          "output_type": "stream",
          "name": "stdout",
          "text": [
            "reject the null hypothesis\n"
          ]
        },
        {
          "output_type": "display_data",
          "data": {
            "text/plain": [
              "<Figure size 1000x500 with 1 Axes>"
            ],
            "image/png": "[encoded data removed]"
          },
          "metadata": {}
        }
      ]
    },
    {
      "cell_type": "code",
      "source": [],
      "metadata": {
        "id": "d35TgNZuaegZ"
      },
      "execution_count": null,
      "outputs": []
    },
    {
      "cell_type": "code",
      "source": [
        "#23 .  Simulate random data from a normal distribution, then perform hypothesis testing to evaluate the means ?\n",
        "# first creating random data for further calculation\n",
        "mean1 ,size1 =25,28\n",
        "mean2,size2 = 16,28\n",
        "grp_a23= np.random.normal(loc=mean1,scale=5,size=size1)\n",
        "grp_b23 = np.random.normal(loc=mean2,scale=5,size=size2)"
      ],
      "metadata": {
        "id": "jiLYSse1aiVM"
      },
      "execution_count": 7,
      "outputs": []
    },
    {
      "cell_type": "code",
      "source": [
        "# now perfroming t test\n",
        "t_stats23,p_value23 = stats.ttest_ind(grp_a23,grp_b23,equal_var=True)"
      ],
      "metadata": {
        "id": "CJuPdmjqV8s7"
      },
      "execution_count": 10,
      "outputs": []
    },
    {
      "cell_type": "code",
      "source": [
        "p_value23"
      ],
      "metadata": {
        "colab": {
          "base_uri": "https://localhost:8080/"
        },
        "id": "4kCP9GUQWPXN",
        "outputId": "4f76fca6-c704-48c2-edcb-caa63785a101"
      },
      "execution_count": 11,
      "outputs": [
        {
          "output_type": "execute_result",
          "data": {
            "text/plain": [
              "np.float64(6.122474350137434e-09)"
            ]
          },
          "metadata": {},
          "execution_count": 11
        }
      ]
    },
    {
      "cell_type": "code",
      "source": [
        "if p_value23 <= alpha:\n",
        "  print(\"Reject the null hypothesis\")\n",
        "else:\n",
        "    print(\"Fail to reject null hypothesis\")"
      ],
      "metadata": {
        "colab": {
          "base_uri": "https://localhost:8080/"
        },
        "id": "-5hLkSipYPbJ",
        "outputId": "3726b93c-8aa1-43eb-ea50-860efe56bfda"
      },
      "execution_count": 12,
      "outputs": [
        {
          "output_type": "stream",
          "name": "stdout",
          "text": [
            "Reject the null hypothesis\n"
          ]
        }
      ]
    },
    {
      "cell_type": "code",
      "source": [],
      "metadata": {
        "id": "-Z10OXocYhgD"
      },
      "execution_count": null,
      "outputs": []
    },
    {
      "cell_type": "code",
      "source": [
        "#24.  Perform a hypothesis test for population variance using a Chi-square distribution and interpret the results ?\n",
        "data24 = np.random.normal(loc=38,scale=10,size=80)\n"
      ],
      "metadata": {
        "id": "IdUiAgSkY9hK"
      },
      "execution_count": 14,
      "outputs": []
    },
    {
      "cell_type": "code",
      "source": [
        "sam_var24=statistics.variance(data24)"
      ],
      "metadata": {
        "id": "PBZF1uoOb_G4"
      },
      "execution_count": 24,
      "outputs": []
    },
    {
      "cell_type": "code",
      "source": [
        "sam_var24\n",
        "size24 = len(data24)\n",
        "size24"
      ],
      "metadata": {
        "colab": {
          "base_uri": "https://localhost:8080/"
        },
        "id": "BRmFavO4cA1R",
        "outputId": "42f560df-2c0d-45e7-fa13-2e1ae3b065ed"
      },
      "execution_count": 36,
      "outputs": [
        {
          "output_type": "execute_result",
          "data": {
            "text/plain": [
              "80"
            ]
          },
          "metadata": {},
          "execution_count": 36
        }
      ]
    },
    {
      "cell_type": "code",
      "source": [
        " # now squre of sigma / std\n",
        "sigma_squre = 10 ** 2\n",
        "sigma_squre"
      ],
      "metadata": {
        "colab": {
          "base_uri": "https://localhost:8080/"
        },
        "id": "y_wqc4C8ce-6",
        "outputId": "0ce8a66d-8cbb-4938-8840-11ccbb4bbc38"
      },
      "execution_count": 39,
      "outputs": [
        {
          "output_type": "execute_result",
          "data": {
            "text/plain": [
              "100"
            ]
          },
          "metadata": {},
          "execution_count": 39
        }
      ]
    },
    {
      "cell_type": "code",
      "source": [
        "chi_stats24 = (size24 - 1) * sam_var24 / sigma_squre\n",
        "chi_stats24"
      ],
      "metadata": {
        "colab": {
          "base_uri": "https://localhost:8080/"
        },
        "id": "U1VmNIsAdD6b",
        "outputId": "347f053d-c656-4004-9461-b86f972c4a66"
      },
      "execution_count": 40,
      "outputs": [
        {
          "output_type": "execute_result",
          "data": {
            "text/plain": [
              "np.float64(75.15708854742064)"
            ]
          },
          "metadata": {},
          "execution_count": 40
        }
      ]
    },
    {
      "cell_type": "code",
      "source": [
        "alpha = 0.05\n",
        "from scipy.stats import chi2"
      ],
      "metadata": {
        "id": "COm06QAXe_tk"
      },
      "execution_count": 42,
      "outputs": []
    },
    {
      "cell_type": "code",
      "source": [
        "chi_critical_low24 = stats.chi2.ppf(alpha / 2, df = size24 - 1)\n",
        "chi_critical_high24 = stats.chi2.ppf(1 - alpha / 2 ,df = size24 - 1)"
      ],
      "metadata": {
        "id": "FzSY-1VxfDWR"
      },
      "execution_count": 45,
      "outputs": []
    },
    {
      "cell_type": "code",
      "source": [
        "chi_critical_low24"
      ],
      "metadata": {
        "colab": {
          "base_uri": "https://localhost:8080/"
        },
        "id": "URxoKlNyfz_m",
        "outputId": "b5b7a899-24ed-4735-b2a6-3c47983d2de3"
      },
      "execution_count": 48,
      "outputs": [
        {
          "output_type": "execute_result",
          "data": {
            "text/plain": [
              "np.float64(56.30890283343967)"
            ]
          },
          "metadata": {},
          "execution_count": 48
        }
      ]
    },
    {
      "cell_type": "code",
      "source": [
        "# now computing p _vkae\n",
        "p_value24 = 2 * min(chi2.cdf(chi_stats24, df =size24 -1 ),1 - chi2.cdf(chi_stats24,df= size24 - 1))\n",
        "p_value24"
      ],
      "metadata": {
        "colab": {
          "base_uri": "https://localhost:8080/"
        },
        "id": "7YD7MjRAf1aB",
        "outputId": "058e0227-2e90-483f-c27a-084c6a84efc9"
      },
      "execution_count": 49,
      "outputs": [
        {
          "output_type": "execute_result",
          "data": {
            "text/plain": [
              "np.float64(0.7967606039950016)"
            ]
          },
          "metadata": {},
          "execution_count": 49
        }
      ]
    },
    {
      "cell_type": "code",
      "source": [
        "if p_value24 < alpha:\n",
        "    print(\"Reject the null hypothesis: The population variance is significantly different from 100.\")\n",
        "else:\n",
        "    print(\"Fail to reject the null hypothesis: No significant evidence that the population variance is different from 100.\")"
      ],
      "metadata": {
        "colab": {
          "base_uri": "https://localhost:8080/"
        },
        "id": "ckNBWnZ7ghDk",
        "outputId": "570c7e6b-c56c-45e0-c62b-6248e625f16c"
      },
      "execution_count": 50,
      "outputs": [
        {
          "output_type": "stream",
          "name": "stdout",
          "text": [
            "Fail to reject the null hypothesis: No significant evidence that the population variance is different from 100.\n"
          ]
        }
      ]
    },
    {
      "cell_type": "code",
      "source": [],
      "metadata": {
        "id": "SlD6CL5LgmSP"
      },
      "execution_count": 50,
      "outputs": []
    },
    {
      "cell_type": "code",
      "source": [
        "#25.  Write a Python script to perform a Z-test for comparing proportions between two datasets or groups ?\n",
        "pop_mean1 , pop_mean2 = 49 , 32\n",
        "pop_std1, pop_std2 = 27, 22\n",
        "data_a25 = np.random.normal(loc=pop_mean1, scale=pop_std1,size=50)\n",
        "data_b25 = np.random.normal(loc=pop_mean2, scale=pop_std2,size=50)"
      ],
      "metadata": {
        "id": "IstocbLgg5Xn"
      },
      "execution_count": 52,
      "outputs": []
    },
    {
      "cell_type": "code",
      "source": [
        "# now  making sample means\n",
        "sam_mean_a25 = np.mean(data_a25)\n",
        "sam_mean_b25 = np.mean(data_b25)\n"
      ],
      "metadata": {
        "id": "eJcllL6GjNJt"
      },
      "execution_count": 53,
      "outputs": []
    },
    {
      "cell_type": "code",
      "source": [
        "sam_mean_a25"
      ],
      "metadata": {
        "colab": {
          "base_uri": "https://localhost:8080/"
        },
        "id": "rq-YGH6ejvW5",
        "outputId": "6c00499e-38ef-4364-ff6f-0f1f54834fa8"
      },
      "execution_count": 54,
      "outputs": [
        {
          "output_type": "execute_result",
          "data": {
            "text/plain": [
              "np.float64(48.219687779451405)"
            ]
          },
          "metadata": {},
          "execution_count": 54
        }
      ]
    },
    {
      "cell_type": "code",
      "source": [
        "size_a , size_b = len(data_a25) , len(data_b25)"
      ],
      "metadata": {
        "id": "-mFZbQekjxIo"
      },
      "execution_count": 55,
      "outputs": []
    },
    {
      "cell_type": "code",
      "source": [
        "z_stats25 = (sam_mean_a25 - sam_mean_b25) / np.sqrt((pop_std1 ** 2 / size_a) + (pop_std2 ** 2 / size_b))"
      ],
      "metadata": {
        "id": "DsNOClapkAhC"
      },
      "execution_count": 65,
      "outputs": []
    },
    {
      "cell_type": "code",
      "source": [
        "z_stats25"
      ],
      "metadata": {
        "colab": {
          "base_uri": "https://localhost:8080/"
        },
        "id": "WBuuQ5SBkDfE",
        "outputId": "5ec4296a-f46b-4713-b077-9568b08f6381"
      },
      "execution_count": 66,
      "outputs": [
        {
          "output_type": "execute_result",
          "data": {
            "text/plain": [
              "np.float64(4.858229415074619)"
            ]
          },
          "metadata": {},
          "execution_count": 66
        }
      ]
    },
    {
      "cell_type": "code",
      "source": [
        "p_value25 = 2 * ( 1- stats.norm.cdf(abs(z_stats25)))\n"
      ],
      "metadata": {
        "id": "QSyPWHj2kolX"
      },
      "execution_count": 68,
      "outputs": []
    },
    {
      "cell_type": "code",
      "source": [
        "if p_value25 <= alpha:\n",
        "  print(\"Reject the null hypothesis\")\n",
        "else:\n",
        "    print(\"Fail to reject null hypothesis\")"
      ],
      "metadata": {
        "colab": {
          "base_uri": "https://localhost:8080/"
        },
        "id": "tft9M8Q9lJmx",
        "outputId": "2c775af5-e0ea-4884-b487-a7d136b7ebfe"
      },
      "execution_count": 69,
      "outputs": [
        {
          "output_type": "stream",
          "name": "stdout",
          "text": [
            "Reject the null hypothesis\n"
          ]
        }
      ]
    },
    {
      "cell_type": "code",
      "source": [
        "#26 . Implement an F-test for comparing the variances of two datasets, then interpret and visualize the results ?\n",
        "data_a26 = np.random.normal(loc=40,scale=28,size =100)\n",
        "data_b26 = np.random.normal(loc=53,scale=35,size =100)\n"
      ],
      "metadata": {
        "id": "-a03vfF5lR5a"
      },
      "execution_count": 3,
      "outputs": []
    },
    {
      "cell_type": "code",
      "source": [
        "var_a26 = statistics.variance(data_a26)\n",
        "var_b26 = statistics.variance(data_b26)\n",
        "# here we calculated verince of above both dataset"
      ],
      "metadata": {
        "id": "OcbWe1iBZTmV"
      },
      "execution_count": 8,
      "outputs": []
    },
    {
      "cell_type": "code",
      "source": [
        "f_stats26 = var_a26 / var_b26 if var_a26 > var_b26 else var_b26 / var_a26\n",
        "f_stats26"
      ],
      "metadata": {
        "colab": {
          "base_uri": "https://localhost:8080/"
        },
        "id": "999MP-HLZzKX",
        "outputId": "5829b5d1-5226-4be3-e53f-14d2c8a8154e"
      },
      "execution_count": 9,
      "outputs": [
        {
          "output_type": "execute_result",
          "data": {
            "text/plain": [
              "np.float64(2.3165836296050917)"
            ]
          },
          "metadata": {},
          "execution_count": 9
        }
      ]
    },
    {
      "cell_type": "code",
      "source": [
        "dof_a26 = len(data_a26) - 1\n",
        "dof_b26 = len(data_b26) - 1\n",
        "dof_a26\n",
        "alpha = 0.05"
      ],
      "metadata": {
        "id": "mQWEA5VVbqec"
      },
      "execution_count": 12,
      "outputs": []
    },
    {
      "cell_type": "code",
      "source": [
        "f_cirtical26 = stats.f.ppf(q = 1 - alpha , dfn =dof_a26,dfd=dof_b26)\n",
        "f_cirtical26"
      ],
      "metadata": {
        "colab": {
          "base_uri": "https://localhost:8080/"
        },
        "id": "8hPmCQ71cI5n",
        "outputId": "a3087ec5-738a-47b3-9f66-8324635c2f40"
      },
      "execution_count": 14,
      "outputs": [
        {
          "output_type": "execute_result",
          "data": {
            "text/plain": [
              "np.float64(1.3940612573481483)"
            ]
          },
          "metadata": {},
          "execution_count": 14
        }
      ]
    },
    {
      "cell_type": "code",
      "source": [
        "if f_stats26 > f_cirtical26:\n",
        "  print('reject the null hypothesis')\n",
        "else:\n",
        "  print('fail to reject the null hypotyhesis')"
      ],
      "metadata": {
        "colab": {
          "base_uri": "https://localhost:8080/"
        },
        "id": "5Cf_wzq_c5ks",
        "outputId": "b19b7136-0b72-488e-b53f-1b3be8cde1b8"
      },
      "execution_count": 15,
      "outputs": [
        {
          "output_type": "stream",
          "name": "stdout",
          "text": [
            "reject the null hypothesis\n"
          ]
        }
      ]
    },
    {
      "cell_type": "code",
      "source": [
        "#now come visvlization of this distirbution\n",
        "plt.figure(figsize=(8,4))\n",
        "dfnum = 99\n",
        "dfdin = 99\n",
        "p26 = np.random.f(dfnum,dfdin,size=100)\n",
        "plt.hist(p26,bins = 40)\n",
        "plt.title('t distribution')\n",
        "plt.show()\n"
      ],
      "metadata": {
        "colab": {
          "base_uri": "https://localhost:8080/",
          "height": 391
        },
        "id": "drD_K-d0dWMP",
        "outputId": "18040bad-06a1-44f8-a0f2-a54aab07be9c"
      },
      "execution_count": 28,
      "outputs": [
        {
          "output_type": "display_data",
          "data": {
            "text/plain": [
              "<Figure size 800x400 with 1 Axes>"
            ],
            "image/png": "[encoded data removed]"
          },
          "metadata": {}
        }
      ]
    },
    {
      "cell_type": "code",
      "source": [],
      "metadata": {
        "id": "5Q41mGBUe_r1"
      },
      "execution_count": 27,
      "outputs": []
    }
  ]
}